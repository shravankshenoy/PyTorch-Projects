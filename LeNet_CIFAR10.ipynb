{
  "nbformat": 4,
  "nbformat_minor": 0,
  "metadata": {
    "colab": {
      "name": "PyTorch_CNN.ipynb",
      "provenance": [],
      "collapsed_sections": []
    },
    "kernelspec": {
      "name": "python3",
      "display_name": "Python 3"
    },
    "accelerator": "GPU"
  },
  "cells": [
    {
      "cell_type": "code",
      "metadata": {
        "id": "ebTDFe6qZOS6",
        "colab_type": "code",
        "colab": {}
      },
      "source": [
        "import torch\n",
        "import matplotlib.pyplot as plt\n",
        "import numpy as np"
      ],
      "execution_count": 0,
      "outputs": []
    },
    {
      "cell_type": "code",
      "metadata": {
        "id": "ckA245fdAd0w",
        "colab_type": "code",
        "colab": {}
      },
      "source": [
        "import torch.nn as nn"
      ],
      "execution_count": 0,
      "outputs": []
    },
    {
      "cell_type": "markdown",
      "metadata": {
        "id": "XDoSidZsA2qs",
        "colab_type": "text"
      },
      "source": [
        "The torchvision package consists of popular datasets, model architectures, and common image transformations for computer vision.\n",
        "\n"
      ]
    },
    {
      "cell_type": "code",
      "metadata": {
        "id": "6Ph0BIYFAdox",
        "colab_type": "code",
        "colab": {}
      },
      "source": [
        "import torchvision\n",
        "import torchvision.transforms as transforms\n"
      ],
      "execution_count": 0,
      "outputs": []
    },
    {
      "cell_type": "code",
      "metadata": {
        "id": "ro5ApVSQAdhq",
        "colab_type": "code",
        "colab": {}
      },
      "source": [
        ""
      ],
      "execution_count": 0,
      "outputs": []
    },
    {
      "cell_type": "markdown",
      "metadata": {
        "id": "hEljVNsxqRZc",
        "colab_type": "text"
      },
      "source": [
        "<h3> Loading Data </h3>"
      ]
    },
    {
      "cell_type": "markdown",
      "metadata": {
        "id": "bskTS6Qkq2MO",
        "colab_type": "text"
      },
      "source": [
        "<p><b>Note:</b> The CIFAR 10 dataset has been used. The CIFAR-10 dataset consists of 60000 32x32 colour images in 10 classes, with 6000 images per class. There are 50000 training images and 10000 test images.\n",
        "\n",
        "The dataset is divided into five training batches and one test batch, each with 10000 images. The test batch contains exactly 1000 randomly-selected images from each class. The training batches contain the remaining images in random order, but some training batches may contain more images from one class than another. Between them, the training batches contain exactly 5000 images from each class.\n",
        "</p>\n",
        "\n",
        "https://www.cs.toronto.edu/~kriz/cifar.html"
      ]
    },
    {
      "cell_type": "code",
      "metadata": {
        "id": "orTN31A8Ah4F",
        "colab_type": "code",
        "outputId": "57d4e3cd-dbd3-49b7-92de-d9a3bc412694",
        "colab": {
          "base_uri": "https://localhost:8080/",
          "height": 67
        }
      },
      "source": [
        "trainset = torchvision.datasets.CIFAR10('./data', train=True, download = True, transform = transforms.ToTensor())"
      ],
      "execution_count": 4,
      "outputs": [
        {
          "output_type": "stream",
          "text": [
            "\r0it [00:00, ?it/s]"
          ],
          "name": "stderr"
        },
        {
          "output_type": "stream",
          "text": [
            "Downloading https://www.cs.toronto.edu/~kriz/cifar-10-python.tar.gz to ./data/cifar-10-python.tar.gz\n"
          ],
          "name": "stdout"
        },
        {
          "output_type": "stream",
          "text": [
            "170500096it [00:06, 27487698.77it/s]                               \n"
          ],
          "name": "stderr"
        },
        {
          "output_type": "stream",
          "text": [
            "Extracting ./data/cifar-10-python.tar.gz to ./data\n"
          ],
          "name": "stdout"
        }
      ]
    },
    {
      "cell_type": "code",
      "metadata": {
        "id": "9UdMtjigAh_G",
        "colab_type": "code",
        "colab": {}
      },
      "source": [
        ""
      ],
      "execution_count": 0,
      "outputs": []
    },
    {
      "cell_type": "markdown",
      "metadata": {
        "id": "Ff3vbTahBxrz",
        "colab_type": "text"
      },
      "source": [
        "More of torch.utils.data.DataLoader at https://pytorch.org/docs/stable/data.html"
      ]
    },
    {
      "cell_type": "code",
      "metadata": {
        "id": "jv2VKzGgAiGe",
        "colab_type": "code",
        "colab": {}
      },
      "source": [
        "#shuffle ensures randomness when loading the data\n",
        "#batch size = number of samples used before updating internal model parameters\n",
        "trainloader = torch.utils.data.DataLoader(trainset, batch_size=4, shuffle=True)"
      ],
      "execution_count": 0,
      "outputs": []
    },
    {
      "cell_type": "code",
      "metadata": {
        "id": "bvRSoH6cAiOU",
        "colab_type": "code",
        "outputId": "e01972da-27b3-4dd7-838c-47462454ccce",
        "colab": {
          "base_uri": "https://localhost:8080/",
          "height": 34
        }
      },
      "source": [
        "len(trainloader)"
      ],
      "execution_count": 6,
      "outputs": [
        {
          "output_type": "execute_result",
          "data": {
            "text/plain": [
              "12500"
            ]
          },
          "metadata": {
            "tags": []
          },
          "execution_count": 6
        }
      ]
    },
    {
      "cell_type": "code",
      "metadata": {
        "id": "a4jIOZk6AiDu",
        "colab_type": "code",
        "outputId": "fa625233-339c-4f67-f3bb-ef51f9f6b3ad",
        "colab": {
          "base_uri": "https://localhost:8080/",
          "height": 34
        }
      },
      "source": [
        "len(trainset)"
      ],
      "execution_count": 7,
      "outputs": [
        {
          "output_type": "execute_result",
          "data": {
            "text/plain": [
              "50000"
            ]
          },
          "metadata": {
            "tags": []
          },
          "execution_count": 7
        }
      ]
    },
    {
      "cell_type": "markdown",
      "metadata": {
        "id": "1acqniK2DSHJ",
        "colab_type": "text"
      },
      "source": [
        "len(trainloader) x batch_size = len(trainset)\n",
        "\n",
        "So length of train loader varies according to batch size\n",
        "\n",
        "https://discuss.pytorch.org/t/about-the-relation-between-batch-size-and-length-of-data-loader/10510/3"
      ]
    },
    {
      "cell_type": "code",
      "metadata": {
        "id": "qopml-EaAh9U",
        "colab_type": "code",
        "colab": {}
      },
      "source": [
        ""
      ],
      "execution_count": 0,
      "outputs": []
    },
    {
      "cell_type": "markdown",
      "metadata": {
        "id": "I2o_iiNjEdGb",
        "colab_type": "text"
      },
      "source": [
        "NOTE : iter() method is used to convert to convert an iterable to iterator. This presents another way to iterate the container i.e access its elements. iter() uses next() for accessing values."
      ]
    },
    {
      "cell_type": "code",
      "metadata": {
        "id": "KPZaD5p-D_e1",
        "colab_type": "code",
        "outputId": "b0274f62-bd17-476b-ddf0-06a4353f1ae5",
        "colab": {
          "base_uri": "https://localhost:8080/",
          "height": 67
        }
      },
      "source": [
        "dataiter = iter(trainloader) # dataiter contains set of 4 images\n",
        "images, labels = dataiter.next()\n",
        "\n",
        "print(images.shape)\n",
        "\n",
        "print(images[1].shape)\n",
        "print(labels[1].item())"
      ],
      "execution_count": 8,
      "outputs": [
        {
          "output_type": "stream",
          "text": [
            "torch.Size([4, 3, 32, 32])\n",
            "torch.Size([3, 32, 32])\n",
            "3\n"
          ],
          "name": "stdout"
        }
      ]
    },
    {
      "cell_type": "markdown",
      "metadata": {
        "id": "LMy41mz2Esl_",
        "colab_type": "text"
      },
      "source": [
        "Each images is of size 32 x 32, with 3 channels. Its batch has 4 such images"
      ]
    },
    {
      "cell_type": "code",
      "metadata": {
        "id": "YdlB786pqkEa",
        "colab_type": "code",
        "colab": {}
      },
      "source": [
        ""
      ],
      "execution_count": 0,
      "outputs": []
    },
    {
      "cell_type": "markdown",
      "metadata": {
        "id": "Zqi0pFDKqgeW",
        "colab_type": "text"
      },
      "source": [
        "<h3> Visualising Data </h3>"
      ]
    },
    {
      "cell_type": "code",
      "metadata": {
        "id": "X6ADEvcSD_cF",
        "colab_type": "code",
        "colab": {}
      },
      "source": [
        "# 10 classes in CIFAR10 dataset\n",
        "classes = ('plane', 'car', 'bird', 'cat', 'deer', 'dog', 'frog', 'horse', 'ship', 'truck')"
      ],
      "execution_count": 0,
      "outputs": []
    },
    {
      "cell_type": "code",
      "metadata": {
        "id": "gAVNiBN5D_Zz",
        "colab_type": "code",
        "outputId": "a908af22-bf05-40cc-ac16-62a5877c3ac3",
        "colab": {
          "base_uri": "https://localhost:8080/",
          "height": 50
        }
      },
      "source": [
        "img = images[1]\n",
        "print(type(img))\n",
        "npimg = img.numpy()\n",
        "print(npimg.shape)\n"
      ],
      "execution_count": 10,
      "outputs": [
        {
          "output_type": "stream",
          "text": [
            "<class 'torch.Tensor'>\n",
            "(3, 32, 32)\n"
          ],
          "name": "stdout"
        }
      ]
    },
    {
      "cell_type": "code",
      "metadata": {
        "id": "LPA_PP0tD_XI",
        "colab_type": "code",
        "outputId": "6e11c3ff-85e2-4d27-beb5-06e0d2981d61",
        "colab": {
          "base_uri": "https://localhost:8080/",
          "height": 34
        }
      },
      "source": [
        "# Since we want size of image to be (32,32,3) from (3,32,32) we use np.transpose\n",
        "npimg = np.transpose(npimg, (1, 2, 0))\n",
        "print(npimg.shape)"
      ],
      "execution_count": 11,
      "outputs": [
        {
          "output_type": "stream",
          "text": [
            "(32, 32, 3)\n"
          ],
          "name": "stdout"
        }
      ]
    },
    {
      "cell_type": "code",
      "metadata": {
        "id": "VwACwWarD_Tu",
        "colab_type": "code",
        "outputId": "82a4feb7-17eb-4cea-de95-f0be3473e837",
        "colab": {
          "base_uri": "https://localhost:8080/",
          "height": 105
        }
      },
      "source": [
        "plt.figure(figsize = (1,1))\n",
        "plt.imshow(npimg)\n",
        "plt.show()"
      ],
      "execution_count": 12,
      "outputs": [
        {
          "output_type": "display_data",
          "data": {
            "image/png": "[encoded data removed]",
            "text/plain": [
              "<Figure size 72x72 with 1 Axes>"
            ]
          },
          "metadata": {
            "tags": []
          }
        }
      ]
    },
    {
      "cell_type": "code",
      "metadata": {
        "id": "pwjTSCdGAh64",
        "colab_type": "code",
        "colab": {}
      },
      "source": [
        "# Putting the above code into a function\n",
        "def imshow(img):\n",
        "    npimg = img.numpy()\n",
        "    plt.imshow(np.transpose(npimg, (1, 2, 0)))\n",
        "    plt.show()"
      ],
      "execution_count": 0,
      "outputs": []
    },
    {
      "cell_type": "code",
      "metadata": {
        "id": "XKaAKzv-G2HO",
        "colab_type": "code",
        "outputId": "b7900f03-a07d-4fb7-8a8b-df92044b7127",
        "colab": {
          "base_uri": "https://localhost:8080/",
          "height": 155
        }
      },
      "source": [
        "imshow(torchvision.utils.make_grid(images))\n",
        "print(' '.join(classes[label] for label in labels ))\n"
      ],
      "execution_count": 14,
      "outputs": [
        {
          "output_type": "display_data",
          "data": {
            "image/png": "[encoded data removed]",
            "text/plain": [
              "<Figure size 432x288 with 1 Axes>"
            ]
          },
          "metadata": {
            "tags": []
          }
        },
        {
          "output_type": "stream",
          "text": [
            "dog cat frog frog\n"
          ],
          "name": "stdout"
        }
      ]
    },
    {
      "cell_type": "code",
      "metadata": {
        "id": "s-T77DdDG52H",
        "colab_type": "code",
        "colab": {}
      },
      "source": [
        ""
      ],
      "execution_count": 0,
      "outputs": []
    },
    {
      "cell_type": "code",
      "metadata": {
        "id": "6OESVJr3M8Ds",
        "colab_type": "code",
        "colab": {}
      },
      "source": [
        ""
      ],
      "execution_count": 0,
      "outputs": []
    },
    {
      "cell_type": "markdown",
      "metadata": {
        "id": "nhDsi71NrhhX",
        "colab_type": "text"
      },
      "source": [
        "<h3> Deep CNN </h3>"
      ]
    },
    {
      "cell_type": "code",
      "metadata": {
        "id": "4xAXBUOTHau1",
        "colab_type": "code",
        "colab": {}
      },
      "source": [
        "class CNN_v1(nn.Module):\n",
        "  def __init__(self):\n",
        "    #super().__init__() This was giving not implemented error\n",
        "    super(CNN_v1, self).__init__()\n",
        "    self.model = nn.Sequential(\n",
        "        nn.Conv2d(3,8,3), # depth of kernel = 3 , number of kernels = 8 , filter size = 3 x 3\n",
        "        nn.Conv2d(8,16,3) # depth of kernel = 8 = number of kernels in previous layer\n",
        "    )\n",
        "\n",
        "#https://stackoverflow.com/questions/55932767/pytorchs-model-cant-feed-forward-a-dataloader-dataset-notimplementederror\n",
        "#This function has to be named as forward, else it will give 'NotImplementedError'\n",
        "  def forward(self, x):\n",
        "    x = self.model(x)\n",
        "    return x\n",
        "\n"
      ],
      "execution_count": 0,
      "outputs": []
    },
    {
      "cell_type": "code",
      "metadata": {
        "id": "N0dq7Xp7Jhgc",
        "colab_type": "code",
        "outputId": "37c089c4-3408-4055-87bd-48ec53d057c6",
        "colab": {
          "base_uri": "https://localhost:8080/",
          "height": 34
        }
      },
      "source": [
        "net = CNN_v1()\n",
        "out = net(images)\n",
        "out.shape"
      ],
      "execution_count": 16,
      "outputs": [
        {
          "output_type": "execute_result",
          "data": {
            "text/plain": [
              "torch.Size([4, 16, 28, 28])"
            ]
          },
          "metadata": {
            "tags": []
          },
          "execution_count": 16
        }
      ]
    },
    {
      "cell_type": "markdown",
      "metadata": {
        "id": "woSYinwCMuqM",
        "colab_type": "text"
      },
      "source": [
        "detach() method constructs a new view on a tensor which is declared not to need gradients, i.e., it is to be excluded from further tracking of operations, and therefore the subgraph involving this view is not recorded. This can be easily visualised using the torchviz package"
      ]
    },
    {
      "cell_type": "code",
      "metadata": {
        "id": "16OCJYSJK0pm",
        "colab_type": "code",
        "outputId": "0134f13e-991e-4477-bb0b-373bcddea186",
        "colab": {
          "base_uri": "https://localhost:8080/",
          "height": 282
        }
      },
      "source": [
        "plt.imshow(out[0, 0, :, :].detach().numpy())"
      ],
      "execution_count": 17,
      "outputs": [
        {
          "output_type": "execute_result",
          "data": {
            "text/plain": [
              "<matplotlib.image.AxesImage at 0x7f5a1fad88d0>"
            ]
          },
          "metadata": {
            "tags": []
          },
          "execution_count": 17
        },
        {
          "output_type": "display_data",
          "data": {
            "image/png": "[encoded data removed]",
            "text/plain": [
              "<Figure size 432x288 with 1 Axes>"
            ]
          },
          "metadata": {
            "tags": []
          }
        }
      ]
    },
    {
      "cell_type": "code",
      "metadata": {
        "id": "Z8oGhaSDMHgn",
        "colab_type": "code",
        "colab": {}
      },
      "source": [
        ""
      ],
      "execution_count": 0,
      "outputs": []
    },
    {
      "cell_type": "code",
      "metadata": {
        "id": "D_jPGW09T7PO",
        "colab_type": "code",
        "colab": {}
      },
      "source": [
        ""
      ],
      "execution_count": 0,
      "outputs": []
    },
    {
      "cell_type": "code",
      "metadata": {
        "id": "sSs5BajVMOHh",
        "colab_type": "code",
        "colab": {}
      },
      "source": [
        "class CNN_v2(nn.Module):\n",
        "    def __init__(self): \n",
        "        super(CNN_v2, self).__init__()\n",
        "        self.model = nn.Sequential(\n",
        "            nn.Conv2d(3, 6, 5),          # (N, 3, 32, 32) -> (N, 6, 28, 28)\n",
        "            nn.AvgPool2d(2, stride=2),   # (N, 6, 28, 28) -> (N, 6, 14, 14)\n",
        "            nn.Conv2d(6, 16, 5),         # (N, 6, 14, 14) -> (N, 16, 10, 10)\n",
        "            nn.AvgPool2d(2, stride=2)    # (N, 16, 10, 10) -> (N, 16, 5, 5)\n",
        "        )\n",
        "        \n",
        "    def forward(self, x):\n",
        "        x = self.model(x)\n",
        "        return x"
      ],
      "execution_count": 0,
      "outputs": []
    },
    {
      "cell_type": "code",
      "metadata": {
        "id": "Kh__oBK2NLb9",
        "colab_type": "code",
        "outputId": "327e2120-1e44-4ad9-8db5-055c53bdb3cd",
        "colab": {
          "base_uri": "https://localhost:8080/",
          "height": 34
        }
      },
      "source": [
        "net = CNN_v2()\n",
        "out = net(images)\n",
        "out.shape"
      ],
      "execution_count": 19,
      "outputs": [
        {
          "output_type": "execute_result",
          "data": {
            "text/plain": [
              "torch.Size([4, 16, 5, 5])"
            ]
          },
          "metadata": {
            "tags": []
          },
          "execution_count": 19
        }
      ]
    },
    {
      "cell_type": "code",
      "metadata": {
        "id": "rOv0FFC5Nj-b",
        "colab_type": "code",
        "colab": {}
      },
      "source": [
        ""
      ],
      "execution_count": 0,
      "outputs": []
    },
    {
      "cell_type": "markdown",
      "metadata": {
        "id": "L7wFcsr5sD5Z",
        "colab_type": "text"
      },
      "source": [
        "<h3> LeNet </h3>\n"
      ]
    },
    {
      "cell_type": "code",
      "metadata": {
        "id": "Z6IrlUXRT8Ca",
        "colab_type": "code",
        "colab": {}
      },
      "source": [
        "class LeNet(nn.Module):\n",
        "  def __init__(self):\n",
        "    super(LeNet,self).__init__()\n",
        "    torch.manual_seed(0)\n",
        "    self.cnn_model = nn.Sequential(\n",
        "        # in channels is depth of the filter\n",
        "        # out channels is number of filters used\n",
        "        nn.Conv2d(in_channels = 3 , out_channels = 6, kernel_size = 5),\n",
        "        nn.Tanh(),\n",
        "        nn.AvgPool2d(kernel_size=2, stride = 2),\n",
        "        nn.Conv2d(in_channels=6, out_channels=16, kernel_size=5 ),\n",
        "        nn.Tanh(),\n",
        "        nn.AvgPool2d(kernel_size=2, stride = 2)\n",
        "    )\n",
        "\n",
        "    self.fc_model = nn.Sequential(\n",
        "            nn.Linear(in_features = 400,out_features = 120),         \n",
        "            nn.Tanh(),\n",
        "            nn.Linear(120,84),         \n",
        "            nn.Tanh(),\n",
        "            nn.Linear(84,10)           \n",
        "             )\n",
        "    \n",
        "  def forward(self, x):\n",
        "      print(\"Initial shape is\",x.shape)\n",
        "      x = self.cnn_model(x)\n",
        "      print(\"Shape after passing through all CNN layes is\",x.shape)\n",
        "      x = x.view(x.size(0),-1) # Flattening \n",
        "      print(\"Shape after flattening and before passing to FC layer is \",x.shape)\n",
        "      x = self.fc_model(x)  \n",
        "      return x\n"
      ],
      "execution_count": 0,
      "outputs": []
    },
    {
      "cell_type": "code",
      "metadata": {
        "id": "N5kqjnK2sLbT",
        "colab_type": "code",
        "colab": {}
      },
      "source": [
        ""
      ],
      "execution_count": 0,
      "outputs": []
    },
    {
      "cell_type": "code",
      "metadata": {
        "id": "G7mWUtbQsRqV",
        "colab_type": "code",
        "colab": {}
      },
      "source": [
        ""
      ],
      "execution_count": 0,
      "outputs": []
    },
    {
      "cell_type": "markdown",
      "metadata": {
        "id": "-oPYSUnKsR9p",
        "colab_type": "text"
      },
      "source": [
        "<h3> Understanding LeNet Input and Output </h3>"
      ]
    },
    {
      "cell_type": "code",
      "metadata": {
        "id": "WPIpi1S1P7OE",
        "colab_type": "code",
        "outputId": "f2d24bc6-5719-49ec-aebb-e076777ae266",
        "colab": {
          "base_uri": "https://localhost:8080/",
          "height": 50
        }
      },
      "source": [
        "batch_size = 128\n",
        "trainset = torchvision.datasets.CIFAR10(root='./data', train=True, download=True, transform=transforms.ToTensor())\n",
        "trainloader = torch.utils.data.DataLoader(trainset, batch_size=batch_size, shuffle=True)\n",
        "testset = torchvision.datasets.CIFAR10(root='./data', train=False, download=True, transform=transforms.ToTensor())\n",
        "testloader = torch.utils.data.DataLoader(testset, batch_size=batch_size, shuffle=False)"
      ],
      "execution_count": 21,
      "outputs": [
        {
          "output_type": "stream",
          "text": [
            "Files already downloaded and verified\n",
            "Files already downloaded and verified\n"
          ],
          "name": "stdout"
        }
      ]
    },
    {
      "cell_type": "code",
      "metadata": {
        "id": "U2Tt8nAJP7ew",
        "colab_type": "code",
        "colab": {}
      },
      "source": [
        "def evaluation(dataloader):\n",
        "    total, correct = 0, 0\n",
        "    for data in dataloader:\n",
        "        inputs, labels = data\n",
        "        outputs = net(inputs)\n",
        "        _, pred = torch.max(outputs.data, 1)\n",
        "        total += labels.size(0)\n",
        "        correct += (pred == labels).sum().item()\n",
        "    return 100 * correct / total"
      ],
      "execution_count": 0,
      "outputs": []
    },
    {
      "cell_type": "code",
      "metadata": {
        "id": "qcIFAfZMP7uB",
        "colab_type": "code",
        "colab": {}
      },
      "source": [
        "inputs , labels= iter(trainloader).next()"
      ],
      "execution_count": 0,
      "outputs": []
    },
    {
      "cell_type": "code",
      "metadata": {
        "id": "Yzxx84KvZVka",
        "colab_type": "code",
        "colab": {}
      },
      "source": [
        "net = LeNet()"
      ],
      "execution_count": 0,
      "outputs": []
    },
    {
      "cell_type": "code",
      "metadata": {
        "id": "AYkujKf3QaUi",
        "colab_type": "code",
        "outputId": "a5035bc9-2793-4568-aa3c-2ef4b108c337",
        "colab": {
          "base_uri": "https://localhost:8080/",
          "height": 67
        }
      },
      "source": [
        "#Pass input and see sizes after different stages\n",
        "outputs = net(inputs)"
      ],
      "execution_count": 25,
      "outputs": [
        {
          "output_type": "stream",
          "text": [
            "Initial shape is torch.Size([128, 3, 32, 32])\n",
            "Shape after passing through all CNN layes is torch.Size([128, 16, 5, 5])\n",
            "Shape after flattening and before passing to FC layer is  torch.Size([128, 400])\n"
          ],
          "name": "stdout"
        }
      ]
    },
    {
      "cell_type": "code",
      "metadata": {
        "id": "De5wbpL3Rqtt",
        "colab_type": "code",
        "colab": {}
      },
      "source": [
        "#outputs[0].data"
      ],
      "execution_count": 0,
      "outputs": []
    },
    {
      "cell_type": "code",
      "metadata": {
        "id": "1J4mpSt2RX3C",
        "colab_type": "code",
        "colab": {}
      },
      "source": [
        " _,pred = torch.max(outputs.data,1)"
      ],
      "execution_count": 0,
      "outputs": []
    },
    {
      "cell_type": "code",
      "metadata": {
        "id": "z2UGxqHeScjk",
        "colab_type": "code",
        "outputId": "e65f71de-395f-4425-cf5a-146feaa162d9",
        "colab": {
          "base_uri": "https://localhost:8080/",
          "height": 50
        }
      },
      "source": [
        "print(pred.shape)\n",
        "print(labels.shape)"
      ],
      "execution_count": 28,
      "outputs": [
        {
          "output_type": "stream",
          "text": [
            "torch.Size([128])\n",
            "torch.Size([128])\n"
          ],
          "name": "stdout"
        }
      ]
    },
    {
      "cell_type": "code",
      "metadata": {
        "id": "ovsUn--VX_cv",
        "colab_type": "code",
        "colab": {}
      },
      "source": [
        ""
      ],
      "execution_count": 0,
      "outputs": []
    },
    {
      "cell_type": "markdown",
      "metadata": {
        "id": "Z341THM-tS2i",
        "colab_type": "text"
      },
      "source": [
        "<h3> Training LeNet </h3>"
      ]
    },
    {
      "cell_type": "code",
      "metadata": {
        "id": "SK9EniG4Ql8b",
        "colab_type": "code",
        "colab": {}
      },
      "source": [
        "class LeNet(nn.Module):\n",
        "  def __init__(self):\n",
        "    super(LeNet,self).__init__()\n",
        "    torch.manual_seed(0)\n",
        "    self.cnn_model = nn.Sequential(\n",
        "        # in channels is depth of the filter\n",
        "        # out channels is number of filters used\n",
        "        nn.Conv2d(in_channels = 3 , out_channels = 6, kernel_size = 5),\n",
        "        nn.Tanh(),\n",
        "        nn.AvgPool2d(kernel_size=2, stride = 2),\n",
        "        nn.Conv2d(in_channels=6, out_channels=16, kernel_size=5 ),\n",
        "        nn.Tanh(),\n",
        "        nn.AvgPool2d(kernel_size=2, stride = 2)\n",
        "    )\n",
        "\n",
        "    self.fc_model = nn.Sequential(\n",
        "            nn.Linear(in_features = 400,out_features = 120),         \n",
        "            nn.Tanh(),\n",
        "            nn.Linear(120,84),         \n",
        "            nn.Tanh(),\n",
        "            nn.Linear(84,10)           \n",
        "             )\n",
        "    \n",
        "  def forward(self, x):\n",
        "      #print(x.shape)\n",
        "      x = self.cnn_model(x)\n",
        "      #print(x.shape)\n",
        "      x = x.view(x.size(0),-1) # Flattening \n",
        "      #print(x.shape)\n",
        "      x = self.fc_model(x)  \n",
        "      return x\n"
      ],
      "execution_count": 0,
      "outputs": []
    },
    {
      "cell_type": "code",
      "metadata": {
        "id": "zddMUsC8bHYj",
        "colab_type": "code",
        "colab": {}
      },
      "source": [
        "\n",
        "net = LeNet()"
      ],
      "execution_count": 0,
      "outputs": []
    },
    {
      "cell_type": "code",
      "metadata": {
        "id": "PZv9ANpVRRvQ",
        "colab_type": "code",
        "colab": {}
      },
      "source": [
        "import torch.optim as optim"
      ],
      "execution_count": 0,
      "outputs": []
    },
    {
      "cell_type": "code",
      "metadata": {
        "id": "YquvbkwdSve7",
        "colab_type": "code",
        "colab": {}
      },
      "source": [
        "loss_fn = nn.CrossEntropyLoss()\n",
        "opt = optim.Adam(net.parameters())"
      ],
      "execution_count": 0,
      "outputs": []
    },
    {
      "cell_type": "code",
      "metadata": {
        "id": "Lj_mnv_eTu_z",
        "colab_type": "code",
        "outputId": "b5659ddd-9a94-4f14-9069-b7f4755a9f2e",
        "colab": {
          "base_uri": "https://localhost:8080/",
          "height": 282
        }
      },
      "source": [
        "loss_arr = []\n",
        "loss_epoch_arr = []\n",
        "max_epochs = 1\n",
        "\n",
        "for epoch in range(max_epochs):\n",
        "\n",
        "    for i, data in enumerate(trainloader, 0):\n",
        "\n",
        "        inputs, labels = data\n",
        "\n",
        "        opt.zero_grad() #Make all gradients zero\n",
        "\n",
        "        outputs = net(inputs)\n",
        "        #print(outputs.shape, labels.shape)\n",
        "        loss = loss_fn(outputs, labels)\n",
        "        loss.backward()\n",
        "        opt.step()\n",
        "        \n",
        "        loss_arr.append(loss.item())\n",
        "        \n",
        "    loss_epoch_arr.append(loss.item())\n",
        "        \n",
        "    print('Epoch: %d/%d, Test acc: %0.2f, Train acc: %0.2f' % (epoch, max_epochs, evaluation(testloader), evaluation(trainloader)))\n",
        "    \n",
        "    \n",
        "plt.plot(loss_epoch_arr)\n",
        "plt.show()"
      ],
      "execution_count": 33,
      "outputs": [
        {
          "output_type": "stream",
          "text": [
            "Epoch: 0/1, Test acc: 37.25, Train acc: 37.18\n"
          ],
          "name": "stdout"
        },
        {
          "output_type": "display_data",
          "data": {
            "image/png": "[encoded data removed]",
            "text/plain": [
              "<Figure size 432x288 with 1 Axes>"
            ]
          },
          "metadata": {
            "tags": []
          }
        }
      ]
    },
    {
      "cell_type": "code",
      "metadata": {
        "id": "zyFyrnyAUNlK",
        "colab_type": "code",
        "colab": {}
      },
      "source": [
        ""
      ],
      "execution_count": 0,
      "outputs": []
    },
    {
      "cell_type": "markdown",
      "metadata": {
        "id": "0p95C26ybUGx",
        "colab_type": "text"
      },
      "source": [
        "Even for running 2 epochs we take a very long time so we go for GPU"
      ]
    },
    {
      "cell_type": "markdown",
      "metadata": {
        "id": "mcwD0ymFtj8C",
        "colab_type": "text"
      },
      "source": [
        "<h3> Running LeNet on GPU </h3>"
      ]
    },
    {
      "cell_type": "code",
      "metadata": {
        "id": "WD3FCPUGb2EI",
        "colab_type": "code",
        "outputId": "6a95bf0e-c2f7-4583-e27f-e39cb2f0c906",
        "colab": {
          "base_uri": "https://localhost:8080/",
          "height": 34
        }
      },
      "source": [
        "print(torch.cuda.device_count())"
      ],
      "execution_count": 34,
      "outputs": [
        {
          "output_type": "stream",
          "text": [
            "1\n"
          ],
          "name": "stdout"
        }
      ]
    },
    {
      "cell_type": "code",
      "metadata": {
        "id": "Uz08ijT1bZdK",
        "colab_type": "code",
        "outputId": "dd77cb2e-3488-4f3d-8da8-5b69cddcb968",
        "colab": {
          "base_uri": "https://localhost:8080/",
          "height": 34
        }
      },
      "source": [
        "device = torch.device('cuda:0' if torch.cuda.is_available() else 'cpu')\n",
        "print(device)"
      ],
      "execution_count": 35,
      "outputs": [
        {
          "output_type": "stream",
          "text": [
            "cuda:0\n"
          ],
          "name": "stdout"
        }
      ]
    },
    {
      "cell_type": "code",
      "metadata": {
        "id": "qXfG05JKdcX8",
        "colab_type": "code",
        "colab": {}
      },
      "source": [
        "def evaluation(dataloader):\n",
        "  total, correct = 0,0\n",
        "  for inputs, label in dataloader:\n",
        "    inputs, label = inputs.to(device), label.to(device)\n",
        "    outputs = net(inputs)\n",
        "    #print(output.shape)\n",
        "    _,pred = torch.max(outputs.data , -1) # See in more detail\n",
        "    total += labels.size(0)\n",
        "    correct += (pred == label).sum().item()\n",
        "  return 100 * correct / total"
      ],
      "execution_count": 0,
      "outputs": []
    },
    {
      "cell_type": "code",
      "metadata": {
        "id": "yrG8f7hQgymQ",
        "colab_type": "code",
        "colab": {}
      },
      "source": [
        "net = LeNet().to(device)\n",
        "loss_fn = nn.CrossEntropyLoss()\n",
        "# Weight decay helps in L2 Regularization\n",
        "opt = optim.Adam(net.parameters(), weight_decay = 1e-5)"
      ],
      "execution_count": 0,
      "outputs": []
    },
    {
      "cell_type": "code",
      "metadata": {
        "id": "YV8R2k6Tg_Va",
        "colab_type": "code",
        "colab": {}
      },
      "source": [
        ""
      ],
      "execution_count": 0,
      "outputs": []
    },
    {
      "cell_type": "code",
      "metadata": {
        "id": "BFtHAHyxhsJN",
        "colab_type": "code",
        "outputId": "b25a68e3-7e9b-4718-8695-e3eec018e955",
        "colab": {
          "base_uri": "https://localhost:8080/",
          "height": 118
        }
      },
      "source": [
        "%%time\n",
        "max_epochs = 4\n",
        "\n",
        "for epoch in range(max_epochs):\n",
        "  for i, data in enumerate(trainloader,0):\n",
        "    inputs , labels = data # you cannot do this in for loop itself because of the format in which enumerate returns data\n",
        "    inputs, labels = inputs.to(device), labels.to(device)\n",
        "\n",
        "    opt.zero_grad()\n",
        "    outputs = net(inputs)\n",
        "    loss = loss_fn(outputs, labels)\n",
        "    loss.backward()\n",
        "    opt.step()\n",
        "\n",
        "  \n",
        "  print('Epoch: %d/%d' % (epoch, max_epochs))\n",
        "\n",
        "  "
      ],
      "execution_count": 38,
      "outputs": [
        {
          "output_type": "stream",
          "text": [
            "Epoch: 0/4\n",
            "Epoch: 1/4\n",
            "Epoch: 2/4\n",
            "Epoch: 3/4\n",
            "CPU times: user 33.3 s, sys: 200 ms, total: 33.5 s\n",
            "Wall time: 33.7 s\n"
          ],
          "name": "stdout"
        }
      ]
    },
    {
      "cell_type": "code",
      "metadata": {
        "id": "qB0smo4DhwG0",
        "colab_type": "code",
        "outputId": "074cfa3f-1a01-4732-bf23-4ddbab56a58b",
        "colab": {
          "base_uri": "https://localhost:8080/",
          "height": 34
        }
      },
      "source": [
        "print('Test acc: %0.2f, Train acc: %0.2f' % (evaluation(testloader), evaluation(trainloader)))"
      ],
      "execution_count": 39,
      "outputs": [
        {
          "output_type": "stream",
          "text": [
            "Test acc: 76.95, Train acc: 79.49\n"
          ],
          "name": "stdout"
        }
      ]
    },
    {
      "cell_type": "code",
      "metadata": {
        "id": "mMzfsGbTjkbZ",
        "colab_type": "code",
        "colab": {}
      },
      "source": [
        ""
      ],
      "execution_count": 0,
      "outputs": []
    },
    {
      "cell_type": "markdown",
      "metadata": {
        "id": "YWRrXyk2sBKO",
        "colab_type": "text"
      },
      "source": [
        "<h3> Visualising Output of First Conv layer of LeNet </h3>"
      ]
    },
    {
      "cell_type": "code",
      "metadata": {
        "id": "R6T8O-ZroyNs",
        "colab_type": "code",
        "outputId": "5bc61999-9fd8-4ee7-85f2-cf8acc9bbf6e",
        "colab": {
          "base_uri": "https://localhost:8080/",
          "height": 138
        }
      },
      "source": [
        "imshow(torchvision.utils.make_grid(images))"
      ],
      "execution_count": 40,
      "outputs": [
        {
          "output_type": "display_data",
          "data": {
            "image/png": "[encoded data removed]",
            "text/plain": [
              "<Figure size 432x288 with 1 Axes>"
            ]
          },
          "metadata": {
            "tags": []
          }
        }
      ]
    },
    {
      "cell_type": "code",
      "metadata": {
        "id": "XE97EiWTrdIw",
        "colab_type": "code",
        "colab": {}
      },
      "source": [
        "#Since all images on CPU bring the CNN network from GPU to CPU\n",
        "net = net.to('cpu')"
      ],
      "execution_count": 0,
      "outputs": []
    },
    {
      "cell_type": "code",
      "metadata": {
        "id": "FtPwk976tDjV",
        "colab_type": "code",
        "outputId": "c298680f-6752-4829-9f1a-c1ca9c7ee275",
        "colab": {
          "base_uri": "https://localhost:8080/",
          "height": 151
        }
      },
      "source": [
        "net.cnn_model"
      ],
      "execution_count": 42,
      "outputs": [
        {
          "output_type": "execute_result",
          "data": {
            "text/plain": [
              "Sequential(\n",
              "  (0): Conv2d(3, 6, kernel_size=(5, 5), stride=(1, 1))\n",
              "  (1): Tanh()\n",
              "  (2): AvgPool2d(kernel_size=2, stride=2, padding=0)\n",
              "  (3): Conv2d(6, 16, kernel_size=(5, 5), stride=(1, 1))\n",
              "  (4): Tanh()\n",
              "  (5): AvgPool2d(kernel_size=2, stride=2, padding=0)\n",
              ")"
            ]
          },
          "metadata": {
            "tags": []
          },
          "execution_count": 42
        }
      ]
    },
    {
      "cell_type": "code",
      "metadata": {
        "id": "YZ1DFN8jtJDr",
        "colab_type": "code",
        "colab": {
          "base_uri": "https://localhost:8080/",
          "height": 34
        },
        "outputId": "69f6061a-df8e-4865-9882-28ef3d49f066"
      },
      "source": [
        "out = net.cnn_model[0](images)\n",
        "out.shape"
      ],
      "execution_count": 43,
      "outputs": [
        {
          "output_type": "execute_result",
          "data": {
            "text/plain": [
              "torch.Size([4, 6, 28, 28])"
            ]
          },
          "metadata": {
            "tags": []
          },
          "execution_count": 43
        }
      ]
    },
    {
      "cell_type": "code",
      "metadata": {
        "id": "Ie5JZKXKuFek",
        "colab_type": "code",
        "colab": {
          "base_uri": "https://localhost:8080/",
          "height": 430
        },
        "outputId": "98e31f31-7269-4a0b-e028-8b64ae84c00a"
      },
      "source": [
        "image_id = 3\n",
        "plt.figure(figsize = (6,6))\n",
        "plt.subplot(321)\n",
        "for i in range(6):\n",
        "    ax1 = plt.subplot(3, 2, i+1)\n",
        "    plt.imshow(out[image_id, i, :, :].detach().numpy(), cmap=\"binary\")\n",
        "plt.show()\n"
      ],
      "execution_count": 44,
      "outputs": [
        {
          "output_type": "stream",
          "text": [
            "/usr/local/lib/python3.6/dist-packages/ipykernel_launcher.py:5: MatplotlibDeprecationWarning: Adding an axes using the same arguments as a previous axes currently reuses the earlier instance.  In a future version, a new instance will always be created and returned.  Meanwhile, this warning can be suppressed, and the future behavior ensured, by passing a unique label to each axes instance.\n",
            "  \"\"\"\n"
          ],
          "name": "stderr"
        },
        {
          "output_type": "display_data",
          "data": {
            "image/png": "[encoded data removed]",
            "text/plain": [
              "<Figure size 432x432 with 6 Axes>"
            ]
          },
          "metadata": {
            "tags": []
          }
        }
      ]
    },
    {
      "cell_type": "code",
      "metadata": {
        "id": "_eFcJHuWuMIR",
        "colab_type": "code",
        "colab": {}
      },
      "source": [
        ""
      ],
      "execution_count": 0,
      "outputs": []
    },
    {
      "cell_type": "markdown",
      "metadata": {
        "id": "-wCDKoj3uQCw",
        "colab_type": "text"
      },
      "source": [
        "<h3> Visualising ouput of second Convolution layer </h3>\n",
        "\n",
        "\n",
        "\n"
      ]
    },
    {
      "cell_type": "code",
      "metadata": {
        "id": "xG8AR_dhuLuI",
        "colab_type": "code",
        "colab": {}
      },
      "source": [
        ""
      ],
      "execution_count": 0,
      "outputs": []
    },
    {
      "cell_type": "code",
      "metadata": {
        "id": "e0N6Y5nToykN",
        "colab_type": "code",
        "outputId": "6261f753-bf74-47d6-ac72-0f1194b931d0",
        "colab": {
          "base_uri": "https://localhost:8080/",
          "height": 34
        }
      },
      "source": [
        "out3 = net.cnn_model[3](net.cnn_model[2](net.cnn_model[1](net.cnn_model[0](images))))\n",
        "out3.shape"
      ],
      "execution_count": 45,
      "outputs": [
        {
          "output_type": "execute_result",
          "data": {
            "text/plain": [
              "torch.Size([4, 16, 10, 10])"
            ]
          },
          "metadata": {
            "tags": []
          },
          "execution_count": 45
        }
      ]
    },
    {
      "cell_type": "code",
      "metadata": {
        "id": "xm-jzDLSsZYE",
        "colab_type": "code",
        "outputId": "3572aa29-c2b4-4771-f772-09f6a9092a43",
        "colab": {
          "base_uri": "https://localhost:8080/",
          "height": 593
        }
      },
      "source": [
        "image_id = 1\n",
        "plt.figure(figsize = (9,9))\n",
        "plt.subplot(821)\n",
        "for i in range(16):\n",
        "    ax1 = plt.subplot(8, 2, i+1)\n",
        "    plt.imshow(out3[image_id, i, :, :].detach().numpy(), cmap=\"binary\")\n",
        "plt.show()"
      ],
      "execution_count": 46,
      "outputs": [
        {
          "output_type": "stream",
          "text": [
            "/usr/local/lib/python3.6/dist-packages/ipykernel_launcher.py:5: MatplotlibDeprecationWarning: Adding an axes using the same arguments as a previous axes currently reuses the earlier instance.  In a future version, a new instance will always be created and returned.  Meanwhile, this warning can be suppressed, and the future behavior ensured, by passing a unique label to each axes instance.\n",
            "  \"\"\"\n"
          ],
          "name": "stderr"
        },
        {
          "output_type": "display_data",
          "data": {
            "image/png": "[encoded data removed]",
            "text/plain": [
              "<Figure size 648x648 with 16 Axes>"
            ]
          },
          "metadata": {
            "tags": []
          }
        }
      ]
    },
    {
      "cell_type": "code",
      "metadata": {
        "id": "KtB9IWiesrVo",
        "colab_type": "code",
        "colab": {}
      },
      "source": [
        ""
      ],
      "execution_count": 0,
      "outputs": []
    }
  ]
}