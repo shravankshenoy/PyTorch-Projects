{
  "nbformat": 4,
  "nbformat_minor": 0,
  "metadata": {
    "colab": {
      "name": "RESNET18_CIFAR10.ipynb",
      "provenance": []
    },
    "kernelspec": {
      "name": "python3",
      "display_name": "Python 3"
    },
    "accelerator": "GPU"
  },
  "cells": [
    {
      "cell_type": "code",
      "metadata": {
        "id": "uy5r25TZ9Jts",
        "colab_type": "code",
        "colab": {}
      },
      "source": [
        "import numpy as np\n",
        "import matplotlib.pyplot as plt"
      ],
      "execution_count": 0,
      "outputs": []
    },
    {
      "cell_type": "code",
      "metadata": {
        "id": "oD8HAQHX9Rzc",
        "colab_type": "code",
        "colab": {}
      },
      "source": [
        "import torch\n",
        "import torchvision\n",
        "import torch.optim as optim\n",
        "import torch.nn as nn\n",
        "from torchvision import models"
      ],
      "execution_count": 0,
      "outputs": []
    },
    {
      "cell_type": "code",
      "metadata": {
        "id": "w2U_TrtQAFK2",
        "colab_type": "code",
        "colab": {}
      },
      "source": [
        "import torchvision.transforms as transforms"
      ],
      "execution_count": 0,
      "outputs": []
    },
    {
      "cell_type": "code",
      "metadata": {
        "id": "byFXy6Ma96gU",
        "colab_type": "code",
        "colab": {}
      },
      "source": [
        "device = torch.device('cuda:0' if torch.cuda.is_available() else 'cpu')"
      ],
      "execution_count": 0,
      "outputs": []
    },
    {
      "cell_type": "markdown",
      "metadata": {
        "id": "7oW5hISt_h2l",
        "colab_type": "text"
      },
      "source": [
        ""
      ]
    },
    {
      "cell_type": "code",
      "metadata": {
        "id": "M_Hpo06c_DLf",
        "colab_type": "code",
        "outputId": "c518d67b-774a-4e70-fd87-16e6ef741cc8",
        "colab": {
          "base_uri": "https://localhost:8080/",
          "height": 34
        }
      },
      "source": [
        "print(device)"
      ],
      "execution_count": 5,
      "outputs": [
        {
          "output_type": "stream",
          "text": [
            "cuda:0\n"
          ],
          "name": "stdout"
        }
      ]
    },
    {
      "cell_type": "code",
      "metadata": {
        "id": "awc6dzUf_EDm",
        "colab_type": "code",
        "colab": {}
      },
      "source": [
        ""
      ],
      "execution_count": 0,
      "outputs": []
    },
    {
      "cell_type": "code",
      "metadata": {
        "id": "E5G4TFYB_cSf",
        "colab_type": "code",
        "colab": {}
      },
      "source": [
        ""
      ],
      "execution_count": 0,
      "outputs": []
    },
    {
      "cell_type": "markdown",
      "metadata": {
        "id": "a2prrySIDQRJ",
        "colab_type": "text"
      },
      "source": [
        "<h3>Loading Dataset and Applying Transforms </h3>"
      ]
    },
    {
      "cell_type": "code",
      "metadata": {
        "id": "6fUCQ52p_cZP",
        "colab_type": "code",
        "colab": {}
      },
      "source": [
        "transforms_train = transforms.Compose([\n",
        "        transforms.RandomResizedCrop(224),\n",
        "        transforms.ToTensor(),\n",
        "        transforms.Normalize((0.5,0.5,0.5),(0.5,0.5,0.5))\n",
        "\n",
        "])\n",
        "\n",
        "transforms_test = transforms.Compose([\n",
        "        transforms.RandomResizedCrop(224),\n",
        "        transforms.ToTensor(),\n",
        "        transforms.Normalize((0.5,0.5,0.5),(0.5,0.5,0.5))\n",
        "\n",
        "])\n",
        "\n",
        "\n"
      ],
      "execution_count": 0,
      "outputs": []
    },
    {
      "cell_type": "markdown",
      "metadata": {
        "id": "J6GcGiF7ASzP",
        "colab_type": "text"
      },
      "source": [
        "<b>Note : </b>transforms.Normalize does the following for each of the 3 channels: image = (image - mean) / std The parameters mean, std are passed as 0.5, 0.5 in your case. This will normalize the image in the range [-1,1]. For example, the minimum value 0 will be converted to (0-0.5)/0.5=-1, the maximum value of 1 will be converted to 1\n"
      ]
    },
    {
      "cell_type": "markdown",
      "metadata": {
        "id": "afladPNIAT7V",
        "colab_type": "text"
      },
      "source": [
        "<b> Steps in Image Preprocessing </b>\n",
        "\n",
        "<ul>\n",
        "  <li>Uniform aspect ratio : Most of the neural network models assume a square shape input image, which means that each image needs to be checked if it is a square or not, and cropped appropriately </li>\n",
        "  <li> Image scaling </li>\n",
        "  <li> Computing mean, std dev and normalizing inputs </li>\n",
        "  <li> Data augmentation </li>\n",
        "\n",
        "</ul>\n",
        "\n",
        "https://becominghuman.ai/image-data-pre-processing-for-neural-networks-498289068258"
      ]
    },
    {
      "cell_type": "code",
      "metadata": {
        "id": "1VEH0bMJ_cQr",
        "colab_type": "code",
        "colab": {}
      },
      "source": [
        ""
      ],
      "execution_count": 0,
      "outputs": []
    },
    {
      "cell_type": "code",
      "metadata": {
        "id": "PO6DDdoT_cN6",
        "colab_type": "code",
        "outputId": "e6fb4786-2d9a-43bb-d810-00f8146f22b5",
        "colab": {
          "base_uri": "https://localhost:8080/",
          "height": 67
        }
      },
      "source": [
        "trainset = torchvision.datasets.CIFAR10(root = './data', train = True, download = True, transform = transforms_train)\n",
        "testset = torchvision.datasets.CIFAR10(root = './data', train = False, download = True, transform = transforms_train)"
      ],
      "execution_count": 7,
      "outputs": [
        {
          "output_type": "stream",
          "text": [
            "\r0it [00:00, ?it/s]"
          ],
          "name": "stderr"
        },
        {
          "output_type": "stream",
          "text": [
            "Downloading https://www.cs.toronto.edu/~kriz/cifar-10-python.tar.gz to ./data/cifar-10-python.tar.gz\n"
          ],
          "name": "stdout"
        },
        {
          "output_type": "stream",
          "text": [
            "100%|█████████▉| 170074112/170498071 [00:14<00:00, 14707928.74it/s]"
          ],
          "name": "stderr"
        },
        {
          "output_type": "stream",
          "text": [
            "Extracting ./data/cifar-10-python.tar.gz to ./data\n",
            "Files already downloaded and verified\n"
          ],
          "name": "stdout"
        }
      ]
    },
    {
      "cell_type": "code",
      "metadata": {
        "id": "6DYz53UQAr6R",
        "colab_type": "code",
        "colab": {}
      },
      "source": [
        "num_classes = 10"
      ],
      "execution_count": 0,
      "outputs": []
    },
    {
      "cell_type": "code",
      "metadata": {
        "id": "qfOGoPFyAyTK",
        "colab_type": "code",
        "colab": {}
      },
      "source": [
        "batch_size = 4"
      ],
      "execution_count": 0,
      "outputs": []
    },
    {
      "cell_type": "code",
      "metadata": {
        "id": "eKPc5zhCAzmc",
        "colab_type": "code",
        "colab": {}
      },
      "source": [
        "trainloader = torch.utils.data.DataLoader(trainset, batch_size=batch_size, shuffle=True)\n"
      ],
      "execution_count": 0,
      "outputs": []
    },
    {
      "cell_type": "code",
      "metadata": {
        "id": "vz7XSymqA7xl",
        "colab_type": "code",
        "outputId": "6dedb9d1-eba9-4836-dcc2-17124350036f",
        "colab": {
          "base_uri": "https://localhost:8080/",
          "height": 67
        }
      },
      "source": [
        "dataiter = iter(trainloader)\n",
        "\n",
        "images, labels = dataiter.next()\n",
        "\n",
        "print(images.shape)\n",
        "\n",
        "print(images[1].shape)\n",
        "print(labels[1].item())\n"
      ],
      "execution_count": 11,
      "outputs": [
        {
          "output_type": "stream",
          "text": [
            "torch.Size([4, 3, 224, 224])\n",
            "torch.Size([3, 224, 224])\n",
            "6\n"
          ],
          "name": "stdout"
        }
      ]
    },
    {
      "cell_type": "markdown",
      "metadata": {
        "id": "1ksUwHa9BD3Y",
        "colab_type": "text"
      },
      "source": [
        "Note: The original size of CIFAR image is 32 x 32, but using the RandomResizedCrop function we changed it to 224 x 224"
      ]
    },
    {
      "cell_type": "code",
      "metadata": {
        "id": "rYyoc7EpA-4W",
        "colab_type": "code",
        "outputId": "cd1d2912-8ce2-4cac-83f2-11ab6a3a3f18",
        "colab": {
          "base_uri": "https://localhost:8080/",
          "height": 34
        }
      },
      "source": [
        "len(trainloader)\n"
      ],
      "execution_count": 12,
      "outputs": [
        {
          "output_type": "execute_result",
          "data": {
            "text/plain": [
              "12500"
            ]
          },
          "metadata": {
            "tags": []
          },
          "execution_count": 12
        }
      ]
    },
    {
      "cell_type": "code",
      "metadata": {
        "id": "RmAtjhc4BGHE",
        "colab_type": "code",
        "colab": {}
      },
      "source": [
        "def imshow(img, title):\n",
        "    # Unnormalize the image, we multiply by 0.5 that is the std deviation, and add 0.5 which is the mean\n",
        "    npimg = img.numpy() / 2 + 0.5\n",
        "    plt.figure(figsize=(batch_size, 1))\n",
        "    plt.axis('off')\n",
        "    #Convert [3,224,224] to [224,224,3]\n",
        "    plt.imshow(np.transpose(npimg, (1, 2, 0)))\n",
        "    plt.title(title)\n",
        "    plt.show()\n",
        "\n",
        "    "
      ],
      "execution_count": 0,
      "outputs": []
    },
    {
      "cell_type": "code",
      "metadata": {
        "id": "JnCB7LG9BIFA",
        "colab_type": "code",
        "colab": {}
      },
      "source": [
        "def show_batch_images(dataloader):\n",
        "    images, labels = next(iter(dataloader))\n",
        "    img = torchvision.utils.make_grid(images)\n",
        "    imshow(img, title=[str(x.item()) for x in labels])"
      ],
      "execution_count": 0,
      "outputs": []
    },
    {
      "cell_type": "code",
      "metadata": {
        "id": "zPrf3cByBKGY",
        "colab_type": "code",
        "outputId": "b9e7b394-e348-4b3e-a75a-9382273cdee4",
        "colab": {
          "base_uri": "https://localhost:8080/",
          "height": 353
        }
      },
      "source": [
        "for i in range(4):\n",
        "    show_batch_images(trainloader)"
      ],
      "execution_count": 15,
      "outputs": [
        {
          "output_type": "display_data",
          "data": {
            "image/png": "[encoded data removed]",
            "text/plain": [
              "<Figure size 288x72 with 1 Axes>"
            ]
          },
          "metadata": {
            "tags": []
          }
        },
        {
          "output_type": "display_data",
          "data": {
            "image/png": "[encoded data removed]",
            "text/plain": [
              "<Figure size 288x72 with 1 Axes>"
            ]
          },
          "metadata": {
            "tags": []
          }
        },
        {
          "output_type": "display_data",
          "data": {
            "image/png": "[encoded data removed]",
            "text/plain": [
              "<Figure size 288x72 with 1 Axes>"
            ]
          },
          "metadata": {
            "tags": []
          }
        },
        {
          "output_type": "display_data",
          "data": {
            "image/png": "[encoded data removed]",
            "text/plain": [
              "<Figure size 288x72 with 1 Axes>"
            ]
          },
          "metadata": {
            "tags": []
          }
        }
      ]
    },
    {
      "cell_type": "code",
      "metadata": {
        "id": "z8ARxyK_BMLR",
        "colab_type": "code",
        "colab": {}
      },
      "source": [
        ""
      ],
      "execution_count": 0,
      "outputs": []
    },
    {
      "cell_type": "code",
      "metadata": {
        "id": "m5d2tbWEBRjc",
        "colab_type": "code",
        "colab": {}
      },
      "source": [
        ""
      ],
      "execution_count": 0,
      "outputs": []
    },
    {
      "cell_type": "markdown",
      "metadata": {
        "id": "L1zuMEhsDbBZ",
        "colab_type": "text"
      },
      "source": [
        "<h3> Using Pretrained Resnet and Transfer Learning </h3>"
      ]
    },
    {
      "cell_type": "code",
      "metadata": {
        "id": "D5xuMwXhBRWF",
        "colab_type": "code",
        "colab": {}
      },
      "source": [
        "resnet = models.resnet18()"
      ],
      "execution_count": 0,
      "outputs": []
    },
    {
      "cell_type": "code",
      "metadata": {
        "id": "uOoJzAbmBRJC",
        "colab_type": "code",
        "outputId": "f17119cd-fc44-4443-87a1-d25829f84bf7",
        "colab": {
          "base_uri": "https://localhost:8080/",
          "height": 1000
        }
      },
      "source": [
        "print(resnet)"
      ],
      "execution_count": 17,
      "outputs": [
        {
          "output_type": "stream",
          "text": [
            "ResNet(\n",
            "  (conv1): Conv2d(3, 64, kernel_size=(7, 7), stride=(2, 2), padding=(3, 3), bias=False)\n",
            "  (bn1): BatchNorm2d(64, eps=1e-05, momentum=0.1, affine=True, track_running_stats=True)\n",
            "  (relu): ReLU(inplace=True)\n",
            "  (maxpool): MaxPool2d(kernel_size=3, stride=2, padding=1, dilation=1, ceil_mode=False)\n",
            "  (layer1): Sequential(\n",
            "    (0): BasicBlock(\n",
            "      (conv1): Conv2d(64, 64, kernel_size=(3, 3), stride=(1, 1), padding=(1, 1), bias=False)\n",
            "      (bn1): BatchNorm2d(64, eps=1e-05, momentum=0.1, affine=True, track_running_stats=True)\n",
            "      (relu): ReLU(inplace=True)\n",
            "      (conv2): Conv2d(64, 64, kernel_size=(3, 3), stride=(1, 1), padding=(1, 1), bias=False)\n",
            "      (bn2): BatchNorm2d(64, eps=1e-05, momentum=0.1, affine=True, track_running_stats=True)\n",
            "    )\n",
            "    (1): BasicBlock(\n",
            "      (conv1): Conv2d(64, 64, kernel_size=(3, 3), stride=(1, 1), padding=(1, 1), bias=False)\n",
            "      (bn1): BatchNorm2d(64, eps=1e-05, momentum=0.1, affine=True, track_running_stats=True)\n",
            "      (relu): ReLU(inplace=True)\n",
            "      (conv2): Conv2d(64, 64, kernel_size=(3, 3), stride=(1, 1), padding=(1, 1), bias=False)\n",
            "      (bn2): BatchNorm2d(64, eps=1e-05, momentum=0.1, affine=True, track_running_stats=True)\n",
            "    )\n",
            "  )\n",
            "  (layer2): Sequential(\n",
            "    (0): BasicBlock(\n",
            "      (conv1): Conv2d(64, 128, kernel_size=(3, 3), stride=(2, 2), padding=(1, 1), bias=False)\n",
            "      (bn1): BatchNorm2d(128, eps=1e-05, momentum=0.1, affine=True, track_running_stats=True)\n",
            "      (relu): ReLU(inplace=True)\n",
            "      (conv2): Conv2d(128, 128, kernel_size=(3, 3), stride=(1, 1), padding=(1, 1), bias=False)\n",
            "      (bn2): BatchNorm2d(128, eps=1e-05, momentum=0.1, affine=True, track_running_stats=True)\n",
            "      (downsample): Sequential(\n",
            "        (0): Conv2d(64, 128, kernel_size=(1, 1), stride=(2, 2), bias=False)\n",
            "        (1): BatchNorm2d(128, eps=1e-05, momentum=0.1, affine=True, track_running_stats=True)\n",
            "      )\n",
            "    )\n",
            "    (1): BasicBlock(\n",
            "      (conv1): Conv2d(128, 128, kernel_size=(3, 3), stride=(1, 1), padding=(1, 1), bias=False)\n",
            "      (bn1): BatchNorm2d(128, eps=1e-05, momentum=0.1, affine=True, track_running_stats=True)\n",
            "      (relu): ReLU(inplace=True)\n",
            "      (conv2): Conv2d(128, 128, kernel_size=(3, 3), stride=(1, 1), padding=(1, 1), bias=False)\n",
            "      (bn2): BatchNorm2d(128, eps=1e-05, momentum=0.1, affine=True, track_running_stats=True)\n",
            "    )\n",
            "  )\n",
            "  (layer3): Sequential(\n",
            "    (0): BasicBlock(\n",
            "      (conv1): Conv2d(128, 256, kernel_size=(3, 3), stride=(2, 2), padding=(1, 1), bias=False)\n",
            "      (bn1): BatchNorm2d(256, eps=1e-05, momentum=0.1, affine=True, track_running_stats=True)\n",
            "      (relu): ReLU(inplace=True)\n",
            "      (conv2): Conv2d(256, 256, kernel_size=(3, 3), stride=(1, 1), padding=(1, 1), bias=False)\n",
            "      (bn2): BatchNorm2d(256, eps=1e-05, momentum=0.1, affine=True, track_running_stats=True)\n",
            "      (downsample): Sequential(\n",
            "        (0): Conv2d(128, 256, kernel_size=(1, 1), stride=(2, 2), bias=False)\n",
            "        (1): BatchNorm2d(256, eps=1e-05, momentum=0.1, affine=True, track_running_stats=True)\n",
            "      )\n",
            "    )\n",
            "    (1): BasicBlock(\n",
            "      (conv1): Conv2d(256, 256, kernel_size=(3, 3), stride=(1, 1), padding=(1, 1), bias=False)\n",
            "      (bn1): BatchNorm2d(256, eps=1e-05, momentum=0.1, affine=True, track_running_stats=True)\n",
            "      (relu): ReLU(inplace=True)\n",
            "      (conv2): Conv2d(256, 256, kernel_size=(3, 3), stride=(1, 1), padding=(1, 1), bias=False)\n",
            "      (bn2): BatchNorm2d(256, eps=1e-05, momentum=0.1, affine=True, track_running_stats=True)\n",
            "    )\n",
            "  )\n",
            "  (layer4): Sequential(\n",
            "    (0): BasicBlock(\n",
            "      (conv1): Conv2d(256, 512, kernel_size=(3, 3), stride=(2, 2), padding=(1, 1), bias=False)\n",
            "      (bn1): BatchNorm2d(512, eps=1e-05, momentum=0.1, affine=True, track_running_stats=True)\n",
            "      (relu): ReLU(inplace=True)\n",
            "      (conv2): Conv2d(512, 512, kernel_size=(3, 3), stride=(1, 1), padding=(1, 1), bias=False)\n",
            "      (bn2): BatchNorm2d(512, eps=1e-05, momentum=0.1, affine=True, track_running_stats=True)\n",
            "      (downsample): Sequential(\n",
            "        (0): Conv2d(256, 512, kernel_size=(1, 1), stride=(2, 2), bias=False)\n",
            "        (1): BatchNorm2d(512, eps=1e-05, momentum=0.1, affine=True, track_running_stats=True)\n",
            "      )\n",
            "    )\n",
            "    (1): BasicBlock(\n",
            "      (conv1): Conv2d(512, 512, kernel_size=(3, 3), stride=(1, 1), padding=(1, 1), bias=False)\n",
            "      (bn1): BatchNorm2d(512, eps=1e-05, momentum=0.1, affine=True, track_running_stats=True)\n",
            "      (relu): ReLU(inplace=True)\n",
            "      (conv2): Conv2d(512, 512, kernel_size=(3, 3), stride=(1, 1), padding=(1, 1), bias=False)\n",
            "      (bn2): BatchNorm2d(512, eps=1e-05, momentum=0.1, affine=True, track_running_stats=True)\n",
            "    )\n",
            "  )\n",
            "  (avgpool): AdaptiveAvgPool2d(output_size=(1, 1))\n",
            "  (fc): Linear(in_features=512, out_features=1000, bias=True)\n",
            ")\n"
          ],
          "name": "stdout"
        }
      ]
    },
    {
      "cell_type": "code",
      "metadata": {
        "id": "iEYeNJxfDmXQ",
        "colab_type": "code",
        "colab": {}
      },
      "source": [
        ""
      ],
      "execution_count": 0,
      "outputs": []
    },
    {
      "cell_type": "code",
      "metadata": {
        "id": "jiuRDN9OBg7O",
        "colab_type": "code",
        "outputId": "fe35f332-534b-47f5-df0b-b475fa4ab9f5",
        "colab": {
          "base_uri": "https://localhost:8080/",
          "height": 154
        }
      },
      "source": [
        "resnet = models.resnet18(pretrained= True)"
      ],
      "execution_count": 18,
      "outputs": [
        {
          "output_type": "stream",
          "text": [
            "Downloading: \"https://download.pytorch.org/models/resnet18-5c106cde.pth\" to /root/.cache/torch/checkpoints/resnet18-5c106cde.pth\n",
            "\n",
            "  0%|          | 0.00/44.7M [00:00<?, ?B/s]\u001b[A\n",
            " 27%|██▋       | 11.9M/44.7M [00:00<00:00, 125MB/s]\u001b[A\n",
            " 53%|█████▎    | 23.8M/44.7M [00:00<00:00, 125MB/s]\u001b[A\n",
            " 79%|███████▉  | 35.4M/44.7M [00:00<00:00, 124MB/s]\u001b[A\n",
            "100%|██████████| 44.7M/44.7M [00:00<00:00, 123MB/s]\u001b[A"
          ],
          "name": "stderr"
        }
      ]
    },
    {
      "cell_type": "code",
      "metadata": {
        "id": "BUKp4RwcB8uT",
        "colab_type": "code",
        "colab": {}
      },
      "source": [
        "for param in resnet.parameters():\n",
        "  param.requires_grad= False\n",
        "\n",
        "# we have frozen the parameters by making gradients 0\n",
        "# because weights are already pretrained on imagenet dataset\n"
      ],
      "execution_count": 0,
      "outputs": []
    },
    {
      "cell_type": "code",
      "metadata": {
        "id": "sbjBDgkGCRLD",
        "colab_type": "code",
        "colab": {}
      },
      "source": [
        "in_features = resnet.fc.in_features\n",
        "resnet.fc = nn.Linear(in_features, num_classes) # modifying last layer"
      ],
      "execution_count": 0,
      "outputs": []
    },
    {
      "cell_type": "code",
      "metadata": {
        "id": "K5YAFES9CuOc",
        "colab_type": "code",
        "outputId": "2ce393cf-2ae4-474d-9546-148275550031",
        "colab": {
          "base_uri": "https://localhost:8080/",
          "height": 50
        }
      },
      "source": [
        "for param in resnet.parameters():\n",
        "  if param.requires_grad:\n",
        "    print(param.shape)# only last layer should be printed as gradients has been set to zero for all other layers"
      ],
      "execution_count": 21,
      "outputs": [
        {
          "output_type": "stream",
          "text": [
            "torch.Size([10, 512])\n",
            "torch.Size([10])\n"
          ],
          "name": "stdout"
        }
      ]
    },
    {
      "cell_type": "code",
      "metadata": {
        "id": "QQDnXka8C235",
        "colab_type": "code",
        "colab": {}
      },
      "source": [
        "resnet = resnet.to(device)\n",
        "loss_fn = nn.CrossEntropyLoss()\n",
        "opt = optim.SGD(resnet.parameters(), lr=0.01)"
      ],
      "execution_count": 0,
      "outputs": []
    },
    {
      "cell_type": "code",
      "metadata": {
        "id": "oC5XCqPgEIyI",
        "colab_type": "code",
        "colab": {}
      },
      "source": [
        "def evaluation(dataloader, model):\n",
        "    total, correct = 0, 0\n",
        "    for data in dataloader:\n",
        "        inputs, labels = data\n",
        "        inputs, labels = inputs.to(device), labels.to(device)\n",
        "        outputs = model(inputs)\n",
        "        _, pred = torch.max(outputs.data, 1)\n",
        "        total += labels.size(0)\n",
        "        correct += (pred == labels).sum().item()\n",
        "    return 100 * correct / total\n"
      ],
      "execution_count": 0,
      "outputs": []
    },
    {
      "cell_type": "code",
      "metadata": {
        "id": "ARGS_lzvEJOk",
        "colab_type": "code",
        "colab": {}
      },
      "source": [
        "testloader = torch.utils.data.DataLoader(testset, batch_size=batch_size, shuffle=False)\n"
      ],
      "execution_count": 0,
      "outputs": []
    },
    {
      "cell_type": "code",
      "metadata": {
        "id": "bK_fYyrKDBf5",
        "colab_type": "code",
        "colab": {}
      },
      "source": [
        "import copy # To store best intermediate models"
      ],
      "execution_count": 0,
      "outputs": []
    },
    {
      "cell_type": "code",
      "metadata": {
        "id": "lQixd4UtC8w7",
        "colab_type": "code",
        "outputId": "f13eedc1-bb21-40b5-fc7c-39dcfce874e4",
        "colab": {
          "base_uri": "https://localhost:8080/",
          "height": 1000
        }
      },
      "source": [
        "loss_epoch_arr = []\n",
        "max_epochs = 4\n",
        "\n",
        "min_loss = 1000\n",
        "\n",
        "n_iters = np.ceil(50000/batch_size)\n",
        "\n",
        "for epoch in range(max_epochs):\n",
        "\n",
        "    for i, data in enumerate(trainloader, 0):\n",
        "\n",
        "        inputs, labels = data\n",
        "        inputs, labels = inputs.to(device), labels.to(device)\n",
        "\n",
        "        opt.zero_grad()\n",
        "\n",
        "        outputs = resnet(inputs)\n",
        "        loss = loss_fn(outputs, labels)\n",
        "        loss.backward()\n",
        "        opt.step()\n",
        "        \n",
        "        if min_loss > loss.item():\n",
        "            min_loss = loss.item()\n",
        "            best_model = copy.deepcopy(resnet.state_dict())\n",
        "            print('Min loss %0.2f' % min_loss)\n",
        "        \n",
        "        if i % 100 == 0:\n",
        "            print('Iteration: %d/%d, Loss: %0.2f' % (i, n_iters, loss.item()))\n",
        "            \n",
        "        del inputs, labels, outputs\n",
        "        torch.cuda.empty_cache()\n",
        "        \n",
        "    loss_epoch_arr.append(loss.item())\n",
        "        \n",
        "    print('Epoch: %d/%d, Test acc: %0.2f, Train acc: %0.2f' % (\n",
        "        epoch, max_epochs, \n",
        "        evaluation(testloader, resnet), evaluation(trainloader, resnet)))\n",
        "    \n",
        "    \n",
        "plt.plot(loss_epoch_arr)\n",
        "plt.show()"
      ],
      "execution_count": 27,
      "outputs": [
        {
          "output_type": "stream",
          "text": [
            "Min loss 3.49\n",
            "Iteration: 0/12500, Loss: 3.49\n",
            "Min loss 0.80\n",
            "Min loss 0.78\n",
            "Min loss 0.45\n",
            "Min loss 0.31\n",
            "Iteration: 100/12500, Loss: 1.69\n",
            "Min loss 0.23\n",
            "Min loss 0.19\n",
            "Iteration: 200/12500, Loss: 1.34\n",
            "Iteration: 300/12500, Loss: 2.11\n",
            "Iteration: 400/12500, Loss: 1.12\n",
            "Iteration: 500/12500, Loss: 1.70\n",
            "Iteration: 600/12500, Loss: 2.54\n",
            "Iteration: 700/12500, Loss: 1.50\n",
            "Iteration: 800/12500, Loss: 1.82\n",
            "Iteration: 900/12500, Loss: 0.46\n",
            "Iteration: 1000/12500, Loss: 2.55\n",
            "Iteration: 1100/12500, Loss: 2.09\n",
            "Min loss 0.16\n",
            "Iteration: 1200/12500, Loss: 2.69\n",
            "Iteration: 1300/12500, Loss: 2.59\n",
            "Iteration: 1400/12500, Loss: 1.74\n",
            "Iteration: 1500/12500, Loss: 1.12\n",
            "Iteration: 1600/12500, Loss: 1.51\n",
            "Iteration: 1700/12500, Loss: 2.11\n",
            "Iteration: 1800/12500, Loss: 2.25\n",
            "Iteration: 1900/12500, Loss: 3.41\n",
            "Iteration: 2000/12500, Loss: 1.87\n",
            "Iteration: 2100/12500, Loss: 1.34\n",
            "Iteration: 2200/12500, Loss: 0.98\n",
            "Iteration: 2300/12500, Loss: 1.81\n",
            "Iteration: 2400/12500, Loss: 1.78\n",
            "Iteration: 2500/12500, Loss: 1.64\n",
            "Min loss 0.07\n",
            "Iteration: 2600/12500, Loss: 1.24\n",
            "Iteration: 2700/12500, Loss: 1.99\n",
            "Iteration: 2800/12500, Loss: 1.54\n",
            "Iteration: 2900/12500, Loss: 0.76\n",
            "Iteration: 3000/12500, Loss: 1.23\n",
            "Iteration: 3100/12500, Loss: 1.27\n",
            "Iteration: 3200/12500, Loss: 1.89\n",
            "Iteration: 3300/12500, Loss: 0.97\n",
            "Iteration: 3400/12500, Loss: 3.68\n",
            "Iteration: 3500/12500, Loss: 2.20\n",
            "Iteration: 3600/12500, Loss: 1.29\n",
            "Iteration: 3700/12500, Loss: 1.43\n",
            "Iteration: 3800/12500, Loss: 1.43\n",
            "Iteration: 3900/12500, Loss: 1.26\n",
            "Iteration: 4000/12500, Loss: 0.45\n",
            "Iteration: 4100/12500, Loss: 1.63\n",
            "Iteration: 4200/12500, Loss: 0.93\n",
            "Iteration: 4300/12500, Loss: 1.49\n",
            "Iteration: 4400/12500, Loss: 2.88\n",
            "Iteration: 4500/12500, Loss: 1.66\n",
            "Iteration: 4600/12500, Loss: 0.93\n",
            "Iteration: 4700/12500, Loss: 1.48\n",
            "Iteration: 4800/12500, Loss: 0.56\n",
            "Iteration: 4900/12500, Loss: 0.92\n",
            "Iteration: 5000/12500, Loss: 1.93\n",
            "Iteration: 5100/12500, Loss: 1.09\n",
            "Iteration: 5200/12500, Loss: 1.53\n",
            "Iteration: 5300/12500, Loss: 2.30\n",
            "Iteration: 5400/12500, Loss: 1.53\n",
            "Iteration: 5500/12500, Loss: 1.51\n",
            "Iteration: 5600/12500, Loss: 3.56\n",
            "Iteration: 5700/12500, Loss: 2.31\n",
            "Iteration: 5800/12500, Loss: 2.25\n",
            "Iteration: 5900/12500, Loss: 2.95\n",
            "Iteration: 6000/12500, Loss: 1.12\n",
            "Iteration: 6100/12500, Loss: 1.04\n",
            "Iteration: 6200/12500, Loss: 1.81\n",
            "Iteration: 6300/12500, Loss: 2.00\n",
            "Iteration: 6400/12500, Loss: 2.11\n",
            "Iteration: 6500/12500, Loss: 1.45\n",
            "Iteration: 6600/12500, Loss: 0.69\n",
            "Iteration: 6700/12500, Loss: 2.17\n",
            "Iteration: 6800/12500, Loss: 1.85\n",
            "Iteration: 6900/12500, Loss: 1.45\n",
            "Iteration: 7000/12500, Loss: 3.27\n",
            "Iteration: 7100/12500, Loss: 1.73\n",
            "Iteration: 7200/12500, Loss: 0.94\n",
            "Iteration: 7300/12500, Loss: 2.88\n",
            "Iteration: 7400/12500, Loss: 2.65\n",
            "Iteration: 7500/12500, Loss: 1.82\n",
            "Iteration: 7600/12500, Loss: 1.97\n",
            "Iteration: 7700/12500, Loss: 1.12\n",
            "Iteration: 7800/12500, Loss: 2.38\n",
            "Iteration: 7900/12500, Loss: 0.21\n",
            "Iteration: 8000/12500, Loss: 2.07\n",
            "Iteration: 8100/12500, Loss: 1.18\n",
            "Iteration: 8200/12500, Loss: 1.45\n",
            "Iteration: 8300/12500, Loss: 3.35\n",
            "Iteration: 8400/12500, Loss: 3.84\n",
            "Iteration: 8500/12500, Loss: 2.27\n",
            "Iteration: 8600/12500, Loss: 2.35\n",
            "Iteration: 8700/12500, Loss: 2.31\n",
            "Iteration: 8800/12500, Loss: 2.13\n",
            "Iteration: 8900/12500, Loss: 2.86\n",
            "Iteration: 9000/12500, Loss: 2.24\n",
            "Iteration: 9100/12500, Loss: 2.11\n",
            "Iteration: 9200/12500, Loss: 2.48\n",
            "Iteration: 9300/12500, Loss: 1.58\n",
            "Iteration: 9400/12500, Loss: 2.49\n",
            "Iteration: 9500/12500, Loss: 2.40\n",
            "Iteration: 9600/12500, Loss: 2.36\n",
            "Iteration: 9700/12500, Loss: 2.02\n",
            "Iteration: 9800/12500, Loss: 1.35\n",
            "Iteration: 9900/12500, Loss: 2.06\n",
            "Iteration: 10000/12500, Loss: 2.10\n",
            "Iteration: 10100/12500, Loss: 2.11\n",
            "Iteration: 10200/12500, Loss: 1.35\n",
            "Iteration: 10300/12500, Loss: 1.79\n",
            "Iteration: 10400/12500, Loss: 2.24\n",
            "Iteration: 10500/12500, Loss: 0.46\n",
            "Iteration: 10600/12500, Loss: 2.60\n",
            "Iteration: 10700/12500, Loss: 0.83\n",
            "Iteration: 10800/12500, Loss: 2.96\n",
            "Iteration: 10900/12500, Loss: 2.31\n",
            "Iteration: 11000/12500, Loss: 0.94\n",
            "Iteration: 11100/12500, Loss: 1.65\n",
            "Iteration: 11200/12500, Loss: 2.33\n",
            "Iteration: 11300/12500, Loss: 0.88\n",
            "Iteration: 11400/12500, Loss: 1.77\n",
            "Iteration: 11500/12500, Loss: 1.68\n",
            "Iteration: 11600/12500, Loss: 2.66\n",
            "Iteration: 11700/12500, Loss: 2.21\n",
            "Iteration: 11800/12500, Loss: 1.08\n",
            "Iteration: 11900/12500, Loss: 1.52\n",
            "Iteration: 12000/12500, Loss: 2.22\n",
            "Iteration: 12100/12500, Loss: 1.33\n",
            "Iteration: 12200/12500, Loss: 0.89\n",
            "Iteration: 12300/12500, Loss: 1.50\n",
            "Iteration: 12400/12500, Loss: 1.54\n",
            "Epoch: 0/4, Test acc: 44.68, Train acc: 45.89\n",
            "Iteration: 0/12500, Loss: 0.85\n",
            "Iteration: 100/12500, Loss: 0.86\n",
            "Iteration: 200/12500, Loss: 1.48\n",
            "Iteration: 300/12500, Loss: 1.08\n",
            "Iteration: 400/12500, Loss: 2.28\n",
            "Iteration: 500/12500, Loss: 1.73\n",
            "Iteration: 600/12500, Loss: 2.01\n",
            "Iteration: 700/12500, Loss: 2.52\n",
            "Iteration: 800/12500, Loss: 0.63\n",
            "Iteration: 900/12500, Loss: 1.81\n",
            "Iteration: 1000/12500, Loss: 2.00\n",
            "Iteration: 1100/12500, Loss: 1.82\n",
            "Iteration: 1200/12500, Loss: 0.70\n",
            "Iteration: 1300/12500, Loss: 2.17\n",
            "Iteration: 1400/12500, Loss: 1.80\n",
            "Iteration: 1500/12500, Loss: 3.90\n",
            "Iteration: 1600/12500, Loss: 0.39\n",
            "Iteration: 1700/12500, Loss: 3.54\n",
            "Iteration: 1800/12500, Loss: 1.94\n",
            "Iteration: 1900/12500, Loss: 2.20\n",
            "Iteration: 2000/12500, Loss: 1.79\n",
            "Iteration: 2100/12500, Loss: 2.70\n",
            "Iteration: 2200/12500, Loss: 2.20\n",
            "Iteration: 2300/12500, Loss: 2.12\n",
            "Iteration: 2400/12500, Loss: 1.07\n",
            "Iteration: 2500/12500, Loss: 1.53\n",
            "Iteration: 2600/12500, Loss: 0.50\n",
            "Iteration: 2700/12500, Loss: 1.56\n",
            "Iteration: 2800/12500, Loss: 2.44\n",
            "Iteration: 2900/12500, Loss: 2.30\n",
            "Iteration: 3000/12500, Loss: 3.41\n",
            "Min loss 0.06\n",
            "Iteration: 3100/12500, Loss: 2.31\n",
            "Iteration: 3200/12500, Loss: 0.82\n",
            "Iteration: 3300/12500, Loss: 1.24\n",
            "Iteration: 3400/12500, Loss: 1.43\n",
            "Min loss 0.06\n",
            "Iteration: 3500/12500, Loss: 1.04\n",
            "Iteration: 3600/12500, Loss: 0.53\n",
            "Iteration: 3700/12500, Loss: 1.94\n",
            "Iteration: 3800/12500, Loss: 2.09\n",
            "Iteration: 3900/12500, Loss: 3.71\n",
            "Iteration: 4000/12500, Loss: 2.76\n",
            "Iteration: 4100/12500, Loss: 2.95\n",
            "Iteration: 4200/12500, Loss: 2.68\n",
            "Iteration: 4300/12500, Loss: 0.68\n",
            "Iteration: 4400/12500, Loss: 1.24\n",
            "Iteration: 4500/12500, Loss: 1.76\n",
            "Iteration: 4600/12500, Loss: 1.24\n",
            "Iteration: 4700/12500, Loss: 1.03\n",
            "Iteration: 4800/12500, Loss: 2.44\n",
            "Iteration: 4900/12500, Loss: 3.31\n",
            "Iteration: 5000/12500, Loss: 3.93\n",
            "Iteration: 5100/12500, Loss: 2.67\n",
            "Iteration: 5200/12500, Loss: 3.42\n",
            "Iteration: 5300/12500, Loss: 1.46\n",
            "Iteration: 5400/12500, Loss: 1.58\n",
            "Iteration: 5500/12500, Loss: 2.20\n",
            "Iteration: 5600/12500, Loss: 1.92\n",
            "Iteration: 5700/12500, Loss: 1.07\n",
            "Iteration: 5800/12500, Loss: 1.27\n",
            "Iteration: 5900/12500, Loss: 1.69\n",
            "Iteration: 6000/12500, Loss: 1.00\n",
            "Iteration: 6100/12500, Loss: 1.17\n",
            "Iteration: 6200/12500, Loss: 2.08\n",
            "Iteration: 6300/12500, Loss: 2.92\n",
            "Iteration: 6400/12500, Loss: 1.65\n",
            "Iteration: 6500/12500, Loss: 1.60\n",
            "Iteration: 6600/12500, Loss: 1.25\n",
            "Iteration: 6700/12500, Loss: 2.29\n",
            "Iteration: 6800/12500, Loss: 0.87\n",
            "Iteration: 6900/12500, Loss: 2.73\n",
            "Iteration: 7000/12500, Loss: 1.95\n",
            "Iteration: 7100/12500, Loss: 1.11\n",
            "Iteration: 7200/12500, Loss: 1.94\n",
            "Iteration: 7300/12500, Loss: 2.14\n",
            "Iteration: 7400/12500, Loss: 0.97\n",
            "Iteration: 7500/12500, Loss: 1.66\n",
            "Iteration: 7600/12500, Loss: 0.68\n",
            "Iteration: 7700/12500, Loss: 2.08\n",
            "Iteration: 7800/12500, Loss: 1.32\n",
            "Iteration: 7900/12500, Loss: 1.15\n",
            "Iteration: 8000/12500, Loss: 2.90\n",
            "Iteration: 8100/12500, Loss: 0.63\n",
            "Iteration: 8200/12500, Loss: 2.99\n",
            "Iteration: 8300/12500, Loss: 1.32\n",
            "Iteration: 8400/12500, Loss: 1.20\n",
            "Iteration: 8500/12500, Loss: 2.13\n",
            "Iteration: 8600/12500, Loss: 0.84\n",
            "Iteration: 8700/12500, Loss: 1.31\n",
            "Iteration: 8800/12500, Loss: 1.80\n",
            "Iteration: 8900/12500, Loss: 2.34\n",
            "Iteration: 9000/12500, Loss: 0.42\n",
            "Iteration: 9100/12500, Loss: 0.62\n",
            "Iteration: 9200/12500, Loss: 1.88\n",
            "Iteration: 9300/12500, Loss: 1.01\n",
            "Iteration: 9400/12500, Loss: 2.18\n",
            "Iteration: 9500/12500, Loss: 2.58\n",
            "Iteration: 9600/12500, Loss: 2.03\n",
            "Iteration: 9700/12500, Loss: 0.98\n",
            "Iteration: 9800/12500, Loss: 1.05\n",
            "Iteration: 9900/12500, Loss: 2.61\n",
            "Iteration: 10000/12500, Loss: 0.24\n",
            "Iteration: 10100/12500, Loss: 2.54\n",
            "Iteration: 10200/12500, Loss: 2.77\n",
            "Iteration: 10300/12500, Loss: 2.46\n",
            "Iteration: 10400/12500, Loss: 2.04\n",
            "Iteration: 10500/12500, Loss: 2.43\n",
            "Iteration: 10600/12500, Loss: 1.10\n",
            "Iteration: 10700/12500, Loss: 3.74\n",
            "Iteration: 10800/12500, Loss: 1.52\n",
            "Iteration: 10900/12500, Loss: 1.24\n",
            "Iteration: 11000/12500, Loss: 1.77\n",
            "Iteration: 11100/12500, Loss: 0.57\n",
            "Iteration: 11200/12500, Loss: 1.94\n",
            "Iteration: 11300/12500, Loss: 1.69\n",
            "Iteration: 11400/12500, Loss: 1.63\n",
            "Iteration: 11500/12500, Loss: 1.71\n",
            "Iteration: 11600/12500, Loss: 2.24\n",
            "Iteration: 11700/12500, Loss: 1.54\n",
            "Iteration: 11800/12500, Loss: 1.13\n",
            "Iteration: 11900/12500, Loss: 1.45\n",
            "Iteration: 12000/12500, Loss: 2.39\n",
            "Iteration: 12100/12500, Loss: 1.23\n",
            "Iteration: 12200/12500, Loss: 3.68\n",
            "Iteration: 12300/12500, Loss: 1.31\n",
            "Iteration: 12400/12500, Loss: 2.19\n",
            "Epoch: 1/4, Test acc: 44.13, Train acc: 45.19\n",
            "Iteration: 0/12500, Loss: 1.39\n",
            "Iteration: 100/12500, Loss: 1.86\n",
            "Iteration: 200/12500, Loss: 0.33\n",
            "Iteration: 300/12500, Loss: 2.57\n",
            "Iteration: 400/12500, Loss: 2.91\n",
            "Iteration: 500/12500, Loss: 1.55\n",
            "Iteration: 600/12500, Loss: 4.02\n",
            "Iteration: 700/12500, Loss: 3.45\n",
            "Iteration: 800/12500, Loss: 1.72\n",
            "Iteration: 900/12500, Loss: 0.84\n",
            "Iteration: 1000/12500, Loss: 1.10\n",
            "Iteration: 1100/12500, Loss: 1.34\n",
            "Iteration: 1200/12500, Loss: 1.98\n",
            "Iteration: 1300/12500, Loss: 2.84\n",
            "Iteration: 1400/12500, Loss: 2.33\n",
            "Iteration: 1500/12500, Loss: 2.76\n",
            "Iteration: 1600/12500, Loss: 0.49\n",
            "Iteration: 1700/12500, Loss: 1.65\n",
            "Iteration: 1800/12500, Loss: 1.62\n",
            "Iteration: 1900/12500, Loss: 1.25\n",
            "Iteration: 2000/12500, Loss: 2.48\n",
            "Iteration: 2100/12500, Loss: 1.36\n",
            "Iteration: 2200/12500, Loss: 2.32\n",
            "Iteration: 2300/12500, Loss: 2.25\n",
            "Iteration: 2400/12500, Loss: 1.63\n",
            "Iteration: 2500/12500, Loss: 2.65\n",
            "Iteration: 2600/12500, Loss: 0.21\n",
            "Iteration: 2700/12500, Loss: 1.82\n",
            "Iteration: 2800/12500, Loss: 2.15\n",
            "Iteration: 2900/12500, Loss: 2.40\n",
            "Iteration: 3000/12500, Loss: 1.08\n",
            "Iteration: 3100/12500, Loss: 2.25\n",
            "Iteration: 3200/12500, Loss: 1.74\n",
            "Iteration: 3300/12500, Loss: 2.45\n",
            "Iteration: 3400/12500, Loss: 0.75\n",
            "Iteration: 3500/12500, Loss: 1.81\n",
            "Iteration: 3600/12500, Loss: 1.35\n",
            "Iteration: 3700/12500, Loss: 1.08\n",
            "Iteration: 3800/12500, Loss: 4.01\n",
            "Iteration: 3900/12500, Loss: 1.07\n",
            "Iteration: 4000/12500, Loss: 0.49\n",
            "Iteration: 4100/12500, Loss: 1.42\n",
            "Iteration: 4200/12500, Loss: 1.98\n",
            "Iteration: 4300/12500, Loss: 2.25\n",
            "Iteration: 4400/12500, Loss: 0.81\n",
            "Iteration: 4500/12500, Loss: 2.00\n",
            "Iteration: 4600/12500, Loss: 2.10\n",
            "Iteration: 4700/12500, Loss: 1.88\n",
            "Iteration: 4800/12500, Loss: 2.19\n",
            "Iteration: 4900/12500, Loss: 3.28\n",
            "Iteration: 5000/12500, Loss: 1.28\n",
            "Iteration: 5100/12500, Loss: 2.07\n",
            "Iteration: 5200/12500, Loss: 1.53\n",
            "Min loss 0.02\n",
            "Iteration: 5300/12500, Loss: 3.14\n",
            "Iteration: 5400/12500, Loss: 3.12\n",
            "Iteration: 5500/12500, Loss: 0.99\n",
            "Iteration: 5600/12500, Loss: 2.01\n",
            "Iteration: 5700/12500, Loss: 1.45\n",
            "Iteration: 5800/12500, Loss: 0.93\n",
            "Iteration: 5900/12500, Loss: 3.25\n",
            "Iteration: 6000/12500, Loss: 0.26\n",
            "Iteration: 6100/12500, Loss: 1.16\n",
            "Iteration: 6200/12500, Loss: 0.80\n",
            "Iteration: 6300/12500, Loss: 1.44\n",
            "Iteration: 6400/12500, Loss: 1.05\n",
            "Iteration: 6500/12500, Loss: 2.69\n",
            "Iteration: 6600/12500, Loss: 0.75\n",
            "Iteration: 6700/12500, Loss: 2.10\n",
            "Iteration: 6800/12500, Loss: 0.82\n",
            "Iteration: 6900/12500, Loss: 2.13\n",
            "Iteration: 7000/12500, Loss: 2.48\n",
            "Iteration: 7100/12500, Loss: 2.88\n",
            "Iteration: 7200/12500, Loss: 2.78\n",
            "Iteration: 7300/12500, Loss: 1.80\n",
            "Iteration: 7400/12500, Loss: 0.24\n",
            "Iteration: 7500/12500, Loss: 0.49\n",
            "Iteration: 7600/12500, Loss: 1.45\n",
            "Iteration: 7700/12500, Loss: 1.04\n",
            "Iteration: 7800/12500, Loss: 0.78\n",
            "Iteration: 7900/12500, Loss: 2.90\n",
            "Iteration: 8000/12500, Loss: 2.18\n",
            "Iteration: 8100/12500, Loss: 4.35\n",
            "Iteration: 8200/12500, Loss: 1.73\n",
            "Iteration: 8300/12500, Loss: 1.54\n",
            "Iteration: 8400/12500, Loss: 3.52\n",
            "Iteration: 8500/12500, Loss: 0.46\n",
            "Iteration: 8600/12500, Loss: 1.52\n",
            "Iteration: 8700/12500, Loss: 1.09\n",
            "Iteration: 8800/12500, Loss: 1.99\n",
            "Iteration: 8900/12500, Loss: 2.15\n",
            "Iteration: 9000/12500, Loss: 2.09\n",
            "Iteration: 9100/12500, Loss: 1.09\n",
            "Iteration: 9200/12500, Loss: 2.01\n",
            "Iteration: 9300/12500, Loss: 1.81\n",
            "Iteration: 9400/12500, Loss: 2.36\n",
            "Iteration: 9500/12500, Loss: 1.86\n",
            "Iteration: 9600/12500, Loss: 1.55\n",
            "Iteration: 9700/12500, Loss: 1.60\n",
            "Iteration: 9800/12500, Loss: 3.40\n",
            "Iteration: 9900/12500, Loss: 1.05\n",
            "Iteration: 10000/12500, Loss: 0.53\n",
            "Iteration: 10100/12500, Loss: 0.49\n",
            "Iteration: 10200/12500, Loss: 1.85\n",
            "Iteration: 10300/12500, Loss: 1.81\n",
            "Iteration: 10400/12500, Loss: 1.76\n",
            "Iteration: 10500/12500, Loss: 0.85\n",
            "Iteration: 10600/12500, Loss: 0.78\n",
            "Iteration: 10700/12500, Loss: 1.12\n",
            "Iteration: 10800/12500, Loss: 3.03\n",
            "Iteration: 10900/12500, Loss: 1.90\n",
            "Iteration: 11000/12500, Loss: 2.57\n",
            "Iteration: 11100/12500, Loss: 2.54\n",
            "Iteration: 11200/12500, Loss: 2.29\n",
            "Iteration: 11300/12500, Loss: 2.53\n",
            "Iteration: 11400/12500, Loss: 0.95\n",
            "Iteration: 11500/12500, Loss: 1.35\n",
            "Iteration: 11600/12500, Loss: 1.63\n",
            "Iteration: 11700/12500, Loss: 0.87\n",
            "Iteration: 11800/12500, Loss: 2.51\n",
            "Iteration: 11900/12500, Loss: 2.92\n",
            "Iteration: 12000/12500, Loss: 1.43\n",
            "Iteration: 12100/12500, Loss: 1.98\n",
            "Iteration: 12200/12500, Loss: 3.90\n",
            "Iteration: 12300/12500, Loss: 2.62\n",
            "Iteration: 12400/12500, Loss: 2.82\n",
            "Epoch: 2/4, Test acc: 47.11, Train acc: 47.60\n",
            "Iteration: 0/12500, Loss: 1.53\n",
            "Iteration: 100/12500, Loss: 1.73\n",
            "Iteration: 200/12500, Loss: 2.64\n",
            "Iteration: 300/12500, Loss: 2.67\n",
            "Iteration: 400/12500, Loss: 1.19\n",
            "Iteration: 500/12500, Loss: 1.26\n",
            "Iteration: 600/12500, Loss: 0.85\n",
            "Iteration: 700/12500, Loss: 1.67\n",
            "Iteration: 800/12500, Loss: 0.32\n",
            "Iteration: 900/12500, Loss: 0.97\n",
            "Iteration: 1000/12500, Loss: 1.86\n",
            "Iteration: 1100/12500, Loss: 1.05\n",
            "Iteration: 1200/12500, Loss: 0.54\n",
            "Iteration: 1300/12500, Loss: 1.71\n",
            "Iteration: 1400/12500, Loss: 1.40\n",
            "Iteration: 1500/12500, Loss: 0.73\n",
            "Iteration: 1600/12500, Loss: 1.95\n",
            "Iteration: 1700/12500, Loss: 2.28\n",
            "Iteration: 1800/12500, Loss: 2.89\n",
            "Iteration: 1900/12500, Loss: 2.02\n",
            "Iteration: 2000/12500, Loss: 1.97\n",
            "Iteration: 2100/12500, Loss: 2.08\n",
            "Iteration: 2200/12500, Loss: 2.11\n",
            "Iteration: 2300/12500, Loss: 2.12\n",
            "Iteration: 2400/12500, Loss: 2.73\n",
            "Iteration: 2500/12500, Loss: 2.53\n",
            "Iteration: 2600/12500, Loss: 1.43\n",
            "Iteration: 2700/12500, Loss: 1.41\n",
            "Iteration: 2800/12500, Loss: 1.17\n",
            "Iteration: 2900/12500, Loss: 1.83\n",
            "Iteration: 3000/12500, Loss: 0.97\n",
            "Iteration: 3100/12500, Loss: 1.03\n",
            "Iteration: 3200/12500, Loss: 1.27\n",
            "Iteration: 3300/12500, Loss: 3.02\n",
            "Iteration: 3400/12500, Loss: 1.40\n",
            "Iteration: 3500/12500, Loss: 2.39\n",
            "Iteration: 3600/12500, Loss: 3.11\n",
            "Iteration: 3700/12500, Loss: 1.88\n",
            "Iteration: 3800/12500, Loss: 1.48\n",
            "Iteration: 3900/12500, Loss: 1.37\n",
            "Iteration: 4000/12500, Loss: 1.26\n",
            "Iteration: 4100/12500, Loss: 2.00\n",
            "Iteration: 4200/12500, Loss: 0.62\n",
            "Iteration: 4300/12500, Loss: 0.94\n",
            "Iteration: 4400/12500, Loss: 1.40\n",
            "Iteration: 4500/12500, Loss: 1.41\n",
            "Iteration: 4600/12500, Loss: 0.70\n",
            "Iteration: 4700/12500, Loss: 1.07\n",
            "Iteration: 4800/12500, Loss: 1.60\n",
            "Iteration: 4900/12500, Loss: 1.37\n",
            "Iteration: 5000/12500, Loss: 1.90\n",
            "Iteration: 5100/12500, Loss: 0.22\n",
            "Iteration: 5200/12500, Loss: 1.99\n",
            "Iteration: 5300/12500, Loss: 4.09\n",
            "Iteration: 5400/12500, Loss: 1.41\n",
            "Iteration: 5500/12500, Loss: 0.66\n",
            "Iteration: 5600/12500, Loss: 2.42\n",
            "Iteration: 5700/12500, Loss: 3.47\n",
            "Iteration: 5800/12500, Loss: 1.23\n",
            "Iteration: 5900/12500, Loss: 1.29\n",
            "Iteration: 6000/12500, Loss: 0.82\n",
            "Iteration: 6100/12500, Loss: 3.79\n",
            "Iteration: 6200/12500, Loss: 0.84\n",
            "Iteration: 6300/12500, Loss: 1.58\n",
            "Iteration: 6400/12500, Loss: 0.59\n",
            "Iteration: 6500/12500, Loss: 1.29\n",
            "Iteration: 6600/12500, Loss: 2.77\n",
            "Iteration: 6700/12500, Loss: 2.42\n",
            "Iteration: 6800/12500, Loss: 1.41\n",
            "Iteration: 6900/12500, Loss: 1.09\n",
            "Iteration: 7000/12500, Loss: 1.19\n",
            "Iteration: 7100/12500, Loss: 2.31\n",
            "Iteration: 7200/12500, Loss: 2.87\n",
            "Iteration: 7300/12500, Loss: 1.72\n",
            "Iteration: 7400/12500, Loss: 1.61\n",
            "Iteration: 7500/12500, Loss: 2.96\n",
            "Iteration: 7600/12500, Loss: 2.21\n",
            "Iteration: 7700/12500, Loss: 0.31\n",
            "Iteration: 7800/12500, Loss: 0.49\n",
            "Iteration: 7900/12500, Loss: 2.56\n",
            "Iteration: 8000/12500, Loss: 1.47\n",
            "Iteration: 8100/12500, Loss: 0.92\n",
            "Iteration: 8200/12500, Loss: 1.98\n",
            "Iteration: 8300/12500, Loss: 3.32\n",
            "Iteration: 8400/12500, Loss: 1.48\n",
            "Iteration: 8500/12500, Loss: 1.94\n",
            "Iteration: 8600/12500, Loss: 2.98\n",
            "Iteration: 8700/12500, Loss: 1.53\n",
            "Iteration: 8800/12500, Loss: 1.26\n",
            "Iteration: 8900/12500, Loss: 2.71\n",
            "Iteration: 9000/12500, Loss: 2.66\n",
            "Iteration: 9100/12500, Loss: 1.02\n",
            "Iteration: 9200/12500, Loss: 2.14\n",
            "Iteration: 9300/12500, Loss: 2.56\n",
            "Iteration: 9400/12500, Loss: 1.78\n",
            "Iteration: 9500/12500, Loss: 2.31\n",
            "Iteration: 9600/12500, Loss: 2.19\n",
            "Iteration: 9700/12500, Loss: 1.80\n",
            "Iteration: 9800/12500, Loss: 1.75\n",
            "Iteration: 9900/12500, Loss: 0.45\n",
            "Iteration: 10000/12500, Loss: 1.33\n",
            "Iteration: 10100/12500, Loss: 1.45\n",
            "Iteration: 10200/12500, Loss: 0.45\n",
            "Iteration: 10300/12500, Loss: 1.48\n",
            "Iteration: 10400/12500, Loss: 1.35\n",
            "Iteration: 10500/12500, Loss: 1.90\n",
            "Iteration: 10600/12500, Loss: 1.42\n",
            "Iteration: 10700/12500, Loss: 0.67\n",
            "Iteration: 10800/12500, Loss: 1.33\n",
            "Iteration: 10900/12500, Loss: 1.76\n",
            "Iteration: 11000/12500, Loss: 2.10\n",
            "Iteration: 11100/12500, Loss: 0.89\n",
            "Iteration: 11200/12500, Loss: 1.89\n",
            "Iteration: 11300/12500, Loss: 2.27\n",
            "Iteration: 11400/12500, Loss: 1.48\n",
            "Iteration: 11500/12500, Loss: 2.24\n",
            "Iteration: 11600/12500, Loss: 2.04\n",
            "Iteration: 11700/12500, Loss: 0.60\n",
            "Iteration: 11800/12500, Loss: 1.95\n",
            "Iteration: 11900/12500, Loss: 1.72\n",
            "Iteration: 12000/12500, Loss: 3.04\n",
            "Iteration: 12100/12500, Loss: 1.11\n",
            "Iteration: 12200/12500, Loss: 1.17\n",
            "Iteration: 12300/12500, Loss: 0.43\n",
            "Iteration: 12400/12500, Loss: 0.30\n",
            "Epoch: 3/4, Test acc: 44.99, Train acc: 45.54\n"
          ],
          "name": "stdout"
        },
        {
          "output_type": "display_data",
          "data": {
            "image/png": "[encoded data removed]",
            "text/plain": [
              "<Figure size 432x288 with 1 Axes>"
            ]
          },
          "metadata": {
            "tags": []
          }
        }
      ]
    },
    {
      "cell_type": "code",
      "metadata": {
        "id": "oWaGgD-8GjRb",
        "colab_type": "code",
        "colab": {}
      },
      "source": [
        ""
      ],
      "execution_count": 0,
      "outputs": []
    },
    {
      "cell_type": "code",
      "metadata": {
        "id": "T-xQEOtlDEf1",
        "colab_type": "code",
        "outputId": "937c4252-dc06-4abb-e1a6-84c4a5605674",
        "colab": {
          "base_uri": "https://localhost:8080/",
          "height": 34
        }
      },
      "source": [
        "resnet.load_state_dict(best_model)\n",
        "print(evaluation(trainloader, resnet), evaluation(testloader, resnet))"
      ],
      "execution_count": 28,
      "outputs": [
        {
          "output_type": "stream",
          "text": [
            "43.548 42.38\n"
          ],
          "name": "stdout"
        }
      ]
    },
    {
      "cell_type": "code",
      "metadata": {
        "id": "YmKSFXSKGpU_",
        "colab_type": "code",
        "colab": {}
      },
      "source": [
        ""
      ],
      "execution_count": 0,
      "outputs": []
    }
  ]
}