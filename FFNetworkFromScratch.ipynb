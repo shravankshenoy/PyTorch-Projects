{
  "nbformat": 4,
  "nbformat_minor": 0,
  "metadata": {
    "colab": {
      "name": "FFNetwork.ipynb",
      "provenance": [],
      "collapsed_sections": []
    },
    "kernelspec": {
      "name": "python3",
      "display_name": "Python 3"
    }
  },
  "cells": [
    {
      "cell_type": "code",
      "metadata": {
        "id": "zNNblnKjs-4T",
        "colab_type": "code",
        "colab": {}
      },
      "source": [
        "import numpy\n",
        "import matplotlib.pyplot as plt\n",
        "import torch"
      ],
      "execution_count": 0,
      "outputs": []
    },
    {
      "cell_type": "code",
      "metadata": {
        "id": "xA4OXOTVt_lK",
        "colab_type": "code",
        "colab": {}
      },
      "source": [
        "from sklearn.datasets import make_blobs"
      ],
      "execution_count": 0,
      "outputs": []
    },
    {
      "cell_type": "code",
      "metadata": {
        "id": "ioOE_QR1uArm",
        "colab_type": "code",
        "colab": {}
      },
      "source": [
        "from sklearn.model_selection import train_test_split"
      ],
      "execution_count": 0,
      "outputs": []
    },
    {
      "cell_type": "code",
      "metadata": {
        "id": "XdaPSp1HwiRS",
        "colab_type": "code",
        "colab": {}
      },
      "source": [
        "import math"
      ],
      "execution_count": 0,
      "outputs": []
    },
    {
      "cell_type": "code",
      "metadata": {
        "id": "LRh4Q2OBDWqK",
        "colab_type": "code",
        "colab": {
          "base_uri": "https://localhost:8080/",
          "height": 34
        },
        "outputId": "535c63c1-5529-4b69-e483-fa8ab64734e9"
      },
      "source": [
        "torch.manual_seed(0)"
      ],
      "execution_count": 5,
      "outputs": [
        {
          "output_type": "execute_result",
          "data": {
            "text/plain": [
              "<torch._C.Generator at 0x7fcc8b0f2cb0>"
            ]
          },
          "metadata": {
            "tags": []
          },
          "execution_count": 5
        }
      ]
    },
    {
      "cell_type": "markdown",
      "metadata": {
        "id": "thSlaXc4FAMu",
        "colab_type": "text"
      },
      "source": [
        "<h3> Data Generation </h3>"
      ]
    },
    {
      "cell_type": "code",
      "metadata": {
        "id": "qu_xzEOauIoY",
        "colab_type": "code",
        "colab": {}
      },
      "source": [
        "X, Y = make_blobs(n_samples = 600, n_features = 2,centers=4, random_state=47)"
      ],
      "execution_count": 0,
      "outputs": []
    },
    {
      "cell_type": "code",
      "metadata": {
        "id": "YNp-ILi0uJLl",
        "colab_type": "code",
        "colab": {
          "base_uri": "https://localhost:8080/",
          "height": 282
        },
        "outputId": "60f5dcf7-e64b-46d4-e074-36751ee3ff01"
      },
      "source": [
        "plt.scatter(X[:,0],X[:,1],c=Y)"
      ],
      "execution_count": 7,
      "outputs": [
        {
          "output_type": "execute_result",
          "data": {
            "text/plain": [
              "<matplotlib.collections.PathCollection at 0x7fcc7b319320>"
            ]
          },
          "metadata": {
            "tags": []
          },
          "execution_count": 7
        },
        {
          "output_type": "display_data",
          "data": {
            "image/png": "[encoded data removed]",
            "text/plain": [
              "<Figure size 432x288 with 1 Axes>"
            ]
          },
          "metadata": {
            "tags": []
          }
        }
      ]
    },
    {
      "cell_type": "code",
      "metadata": {
        "id": "FjtbbyIjuJi3",
        "colab_type": "code",
        "colab": {}
      },
      "source": [
        "X_train, X_val, Y_train, Y_val = train_test_split(X,Y, stratify= Y, random_state =47)"
      ],
      "execution_count": 0,
      "outputs": []
    },
    {
      "cell_type": "code",
      "metadata": {
        "id": "HxL7aSfszRa9",
        "colab_type": "code",
        "colab": {}
      },
      "source": [
        "X_train, X_val, Y_train, Y_val = map(torch.tensor, (X_train, X_val, Y_train, Y_val))\n"
      ],
      "execution_count": 0,
      "outputs": []
    },
    {
      "cell_type": "markdown",
      "metadata": {
        "id": "9VqehqiL0akl",
        "colab_type": "text"
      },
      "source": [
        "Note: What map is doing above is essentially (https://stackoverflow.com/questions/56327213/how-does-python-map-works-with-torch-tensor):\n",
        "\n",
        "X_train, X_val, Y_train, Y_val = [torch.tensor(X_train), torch.tensor(X_val), torch.tensor(Y_train), torch.tensor(Y_val)]\n"
      ]
    },
    {
      "cell_type": "code",
      "metadata": {
        "id": "EktGxaHSFP7b",
        "colab_type": "code",
        "colab": {}
      },
      "source": [
        ""
      ],
      "execution_count": 0,
      "outputs": []
    },
    {
      "cell_type": "code",
      "metadata": {
        "id": "HlbDIdmyFQJ6",
        "colab_type": "code",
        "colab": {}
      },
      "source": [
        ""
      ],
      "execution_count": 0,
      "outputs": []
    },
    {
      "cell_type": "markdown",
      "metadata": {
        "id": "KW5fUrD3FIIw",
        "colab_type": "text"
      },
      "source": [
        "<h3> Feedforward Network Model using PyTorch </h3>\n"
      ]
    },
    {
      "cell_type": "code",
      "metadata": {
        "id": "W7rmU5Rawj6s",
        "colab_type": "code",
        "colab": {}
      },
      "source": [
        "#Two layer feedforward neural network\n",
        "def model(x):\n",
        "  a1 = torch.matmul(x,weights1) + bias1\n",
        "  h1 = torch.sigmoid(a1)\n",
        "  a2 = torch.matmul(h1,weights2) + bias2\n",
        "  h2 = a2.exp()/a2.exp().sum(-1).unsqueeze(-1)\n",
        "  return h2"
      ],
      "execution_count": 0,
      "outputs": []
    },
    {
      "cell_type": "code",
      "metadata": {
        "id": "_fQ7jAaLB3D9",
        "colab_type": "code",
        "colab": {}
      },
      "source": [
        "y_hat = torch.tensor([[0.1, 0.2, 0.3, 0.4], [0.8, 0.1, 0.05, 0.05]])\n",
        "y = torch.tensor([2, 0])\n"
      ],
      "execution_count": 0,
      "outputs": []
    },
    {
      "cell_type": "code",
      "metadata": {
        "id": "4Lo2tCY4B966",
        "colab_type": "code",
        "colab": {
          "base_uri": "https://localhost:8080/",
          "height": 50
        },
        "outputId": "7083a714-66c2-4a2a-b225-705ab468c39f"
      },
      "source": [
        "y_hat[range(y_hat.shape[0])]"
      ],
      "execution_count": 12,
      "outputs": [
        {
          "output_type": "execute_result",
          "data": {
            "text/plain": [
              "tensor([[0.1000, 0.2000, 0.3000, 0.4000],\n",
              "        [0.8000, 0.1000, 0.0500, 0.0500]])"
            ]
          },
          "metadata": {
            "tags": []
          },
          "execution_count": 12
        }
      ]
    },
    {
      "cell_type": "code",
      "metadata": {
        "id": "-ODQsZRVCPOH",
        "colab_type": "code",
        "colab": {
          "base_uri": "https://localhost:8080/",
          "height": 34
        },
        "outputId": "7cb9a061-76a4-44ae-bd48-cc8b2488d4d9"
      },
      "source": [
        "y_hat[range(y_hat.shape[0]),y]"
      ],
      "execution_count": 13,
      "outputs": [
        {
          "output_type": "execute_result",
          "data": {
            "text/plain": [
              "tensor([0.3000, 0.8000])"
            ]
          },
          "metadata": {
            "tags": []
          },
          "execution_count": 13
        }
      ]
    },
    {
      "cell_type": "code",
      "metadata": {
        "id": "IbhIf0vC05nw",
        "colab_type": "code",
        "colab": {}
      },
      "source": [
        "#Cross entropy loss is -log yi\n",
        "def loss_fn(y_hat,y):\n",
        "  return -(y_hat[range(y_hat.shape[0]),y].log()).mean()"
      ],
      "execution_count": 0,
      "outputs": []
    },
    {
      "cell_type": "code",
      "metadata": {
        "id": "vZYvKPAC06EY",
        "colab_type": "code",
        "colab": {}
      },
      "source": [
        "def accuracy(y_hat,y):\n",
        "  pred = torch.argmax(y_hat, dim=1)\n",
        "  return (pred == y).float().mean()"
      ],
      "execution_count": 0,
      "outputs": []
    },
    {
      "cell_type": "code",
      "metadata": {
        "id": "8HPGjw7kDaAw",
        "colab_type": "code",
        "colab": {}
      },
      "source": [
        ""
      ],
      "execution_count": 0,
      "outputs": []
    },
    {
      "cell_type": "markdown",
      "metadata": {
        "id": "BmWi-K-IFV1P",
        "colab_type": "text"
      },
      "source": [
        "<h3> Fitting the model </h3>"
      ]
    },
    {
      "cell_type": "code",
      "metadata": {
        "id": "ExImJuHtFViA",
        "colab_type": "code",
        "colab": {}
      },
      "source": [
        ""
      ],
      "execution_count": 0,
      "outputs": []
    },
    {
      "cell_type": "code",
      "metadata": {
        "id": "FD9o-JW8DZyT",
        "colab_type": "code",
        "colab": {
          "base_uri": "https://localhost:8080/",
          "height": 298
        },
        "outputId": "dd5ea843-5ed0-4225-9997-a98b36f249e0"
      },
      "source": [
        "torch.manual_seed(0)\n",
        "weights1 = torch.randn(2, 2) / math.sqrt(2) # Xavier Initialisation\n",
        "weights1.requires_grad_() \n",
        "bias1 = torch.zeros(2, requires_grad=True)\n",
        "\n",
        "weights2 = torch.randn(2, 4) / math.sqrt(2) #Xavier initialisation\n",
        "weights2.requires_grad_()\n",
        "bias2 = torch.zeros(4, requires_grad=True)\n",
        "\n",
        "learning_rate = 0.2\n",
        "epochs = 5000\n",
        "\n",
        "X_train = X_train.float()\n",
        "Y_train = Y_train.long()\n",
        "\n",
        "loss_arr = []\n",
        "acc_arr = []\n",
        "\n",
        "#Backpropagation\n",
        "for epoch in range(epochs):\n",
        "  y_hat = model(X_train)\n",
        "  loss = loss_fn(y_hat, Y_train)\n",
        "  loss.backward()\n",
        "  loss_arr.append(loss.item())\n",
        "  acc_arr.append(accuracy(y_hat, Y_train))\n",
        "\n",
        "  with torch.no_grad():#sets requires_grad=False for all parameters,\n",
        "                       #so that gradients are not computed while doing weight update\n",
        "    weights1 -= weights1.grad * learning_rate\n",
        "    bias1 -= bias1.grad * learning_rate\n",
        "    weights2 -= weights2.grad * learning_rate\n",
        "    bias2 -= bias2.grad * learning_rate\n",
        "    weights1.grad.zero_() # set gradients to zero\n",
        "    bias1.grad.zero_()\n",
        "    weights2.grad.zero_()\n",
        "    bias2.grad.zero_()\n",
        "\n",
        "plt.plot(loss_arr, 'r-')\n",
        "plt.plot(acc_arr, 'b-')\n",
        "plt.show()\n",
        "print('Loss before training', loss_arr[0])\n",
        "print('Loss after training', loss_arr[-1])"
      ],
      "execution_count": 16,
      "outputs": [
        {
          "output_type": "display_data",
          "data": {
            "image/png": "[encoded data removed]",
            "text/plain": [
              "<Figure size 432x288 with 1 Axes>"
            ]
          },
          "metadata": {
            "tags": []
          }
        },
        {
          "output_type": "stream",
          "text": [
            "Loss before training 1.5737839937210083\n",
            "Loss after training 0.2558369040489197\n"
          ],
          "name": "stdout"
        }
      ]
    },
    {
      "cell_type": "code",
      "metadata": {
        "id": "JDwIdXMoDZlY",
        "colab_type": "code",
        "colab": {}
      },
      "source": [
        ""
      ],
      "execution_count": 0,
      "outputs": []
    },
    {
      "cell_type": "code",
      "metadata": {
        "id": "vwX39k-lDZVi",
        "colab_type": "code",
        "colab": {}
      },
      "source": [
        ""
      ],
      "execution_count": 0,
      "outputs": []
    },
    {
      "cell_type": "markdown",
      "metadata": {
        "id": "An3qZy4CE3ID",
        "colab_type": "text"
      },
      "source": [
        "<h3> Understanding Unsqueeze </h3>"
      ]
    },
    {
      "cell_type": "markdown",
      "metadata": {
        "id": "NKkaNfpG6ulD",
        "colab_type": "text"
      },
      "source": [
        "Note: To understand any reshaping operation, look at the shape\n"
      ]
    },
    {
      "cell_type": "code",
      "metadata": {
        "id": "c0ynb81706c6",
        "colab_type": "code",
        "colab": {
          "base_uri": "https://localhost:8080/",
          "height": 34
        },
        "outputId": "a31985ac-2a52-463a-e8f3-931da86c1066"
      },
      "source": [
        "x = torch.tensor([1,2,3,4])\n",
        "print(x.shape)\n",
        "y = torch.unsqueeze(x,-1)\n",
        "z = torch.unsqueeze(y,1)"
      ],
      "execution_count": 17,
      "outputs": [
        {
          "output_type": "stream",
          "text": [
            "torch.Size([4])\n"
          ],
          "name": "stdout"
        }
      ]
    },
    {
      "cell_type": "code",
      "metadata": {
        "id": "4ldqnMO11Aub",
        "colab_type": "code",
        "colab": {
          "base_uri": "https://localhost:8080/",
          "height": 353
        },
        "outputId": "d012f69c-3a05-4e38-c1a7-94b6627443fb"
      },
      "source": [
        "print(torch.unsqueeze(x, 0))\n",
        "print(torch.unsqueeze(x, 0).shape)\n",
        "print(torch.unsqueeze(x, 1))\n",
        "print(torch.unsqueeze(x,1).shape)\n",
        "\n",
        "print(torch.unsqueeze(y, 0))\n",
        "print(torch.unsqueeze(y, 0).shape)\n",
        "print(torch.unsqueeze(y, 1))\n",
        "print(torch.unsqueeze(y,1).shape)\n"
      ],
      "execution_count": 18,
      "outputs": [
        {
          "output_type": "stream",
          "text": [
            "tensor([[1, 2, 3, 4]])\n",
            "torch.Size([1, 4])\n",
            "tensor([[1],\n",
            "        [2],\n",
            "        [3],\n",
            "        [4]])\n",
            "torch.Size([4, 1])\n",
            "tensor([[[1],\n",
            "         [2],\n",
            "         [3],\n",
            "         [4]]])\n",
            "torch.Size([1, 4, 1])\n",
            "tensor([[[1]],\n",
            "\n",
            "        [[2]],\n",
            "\n",
            "        [[3]],\n",
            "\n",
            "        [[4]]])\n",
            "torch.Size([4, 1, 1])\n"
          ],
          "name": "stdout"
        }
      ]
    },
    {
      "cell_type": "markdown",
      "metadata": {
        "id": "A6rjayD77m_d",
        "colab_type": "text"
      },
      "source": [
        "From the shape perspective, unsqueeze adds a one at the location specified in the unsqueeze function"
      ]
    },
    {
      "cell_type": "markdown",
      "metadata": {
        "id": "qbB4q0i2-S8S",
        "colab_type": "text"
      },
      "source": [
        "Always read shape from right to left(corresponds to innermost to outermost), each number tells number of elements in that layer/dimension\n"
      ]
    },
    {
      "cell_type": "code",
      "metadata": {
        "id": "4TuwmAzd6B9O",
        "colab_type": "code",
        "colab": {
          "base_uri": "https://localhost:8080/",
          "height": 185
        },
        "outputId": "0f056210-9432-4d39-9032-ed96f0966a17"
      },
      "source": [
        "torch.unsqueeze(z,1)"
      ],
      "execution_count": 19,
      "outputs": [
        {
          "output_type": "execute_result",
          "data": {
            "text/plain": [
              "tensor([[[[1]]],\n",
              "\n",
              "\n",
              "        [[[2]]],\n",
              "\n",
              "\n",
              "        [[[3]]],\n",
              "\n",
              "\n",
              "        [[[4]]]])"
            ]
          },
          "metadata": {
            "tags": []
          },
          "execution_count": 19
        }
      ]
    },
    {
      "cell_type": "code",
      "metadata": {
        "id": "-eFL0NIZ8ffK",
        "colab_type": "code",
        "colab": {}
      },
      "source": [
        ""
      ],
      "execution_count": 0,
      "outputs": []
    },
    {
      "cell_type": "code",
      "metadata": {
        "id": "9cNjbYJy9adU",
        "colab_type": "code",
        "colab": {}
      },
      "source": [
        ""
      ],
      "execution_count": 0,
      "outputs": []
    }
  ]
}