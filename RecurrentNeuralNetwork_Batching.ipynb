{
  "nbformat": 4,
  "nbformat_minor": 0,
  "metadata": {
    "colab": {
      "name": "RecurrentNeuralNetwork_Batching.ipynb",
      "provenance": [],
      "collapsed_sections": []
    },
    "kernelspec": {
      "name": "python3",
      "display_name": "Python 3"
    }
  },
  "cells": [
    {
      "cell_type": "code",
      "metadata": {
        "id": "WbHKXUDFNmBP",
        "colab_type": "code",
        "colab": {}
      },
      "source": [
        "from io import open\n",
        "import os, string, random, time, math\n",
        "import matplotlib.pyplot as plt\n",
        "import seaborn as sns\n",
        "import numpy as np"
      ],
      "execution_count": 0,
      "outputs": []
    },
    {
      "cell_type": "code",
      "metadata": {
        "id": "rBXnR_W8N98t",
        "colab_type": "code",
        "colab": {}
      },
      "source": [
        "from sklearn.model_selection import train_test_split"
      ],
      "execution_count": 0,
      "outputs": []
    },
    {
      "cell_type": "code",
      "metadata": {
        "id": "4P3G4j6pOAcg",
        "colab_type": "code",
        "colab": {}
      },
      "source": [
        "import torch\n",
        "import torch.nn as nn\n",
        "import torch.optim as optim"
      ],
      "execution_count": 0,
      "outputs": []
    },
    {
      "cell_type": "code",
      "metadata": {
        "id": "DM8-SKmDOCdV",
        "colab_type": "code",
        "colab": {}
      },
      "source": [
        "from IPython.display import clear_output"
      ],
      "execution_count": 0,
      "outputs": []
    },
    {
      "cell_type": "code",
      "metadata": {
        "id": "DH4QW1UqOMlx",
        "colab_type": "code",
        "colab": {}
      },
      "source": [
        ""
      ],
      "execution_count": 0,
      "outputs": []
    },
    {
      "cell_type": "markdown",
      "metadata": {
        "id": "8NVFXR5cwPIq",
        "colab_type": "text"
      },
      "source": [
        "Task: Language Classification"
      ]
    },
    {
      "cell_type": "markdown",
      "metadata": {
        "id": "FtSqcw4l1fsd",
        "colab_type": "text"
      },
      "source": [
        "The aim of this project is to build a model which predicts the language given a name (which is essentially a sequence of characters)"
      ]
    },
    {
      "cell_type": "markdown",
      "metadata": {
        "id": "hcArIR6U16JO",
        "colab_type": "text"
      },
      "source": [
        "<h3> Data Preprocessing </h3>"
      ]
    },
    {
      "cell_type": "code",
      "metadata": {
        "id": "U3tTyBEcOZCX",
        "colab_type": "code",
        "colab": {}
      },
      "source": [
        "languages = []\n",
        "data = []\n",
        "X = []\n",
        "y = []\n",
        "\n",
        "with open('name2lang.txt', 'r') as f: \n",
        "    for line in f:\n",
        "        line = line.split(',')\n",
        "        name = line[0].strip()\n",
        "        lang = line[1].strip()\n",
        "        if not lang in languages:\n",
        "            languages.append(lang)\n",
        "        X.append(name)\n",
        "        y.append(lang)\n",
        "        data.append((name, lang))\n",
        "\n",
        "n_languages = len(languages)"
      ],
      "execution_count": 0,
      "outputs": []
    },
    {
      "cell_type": "code",
      "metadata": {
        "id": "1Qhgumvfwv35",
        "colab_type": "code",
        "colab": {}
      },
      "source": [
        ""
      ],
      "execution_count": 0,
      "outputs": []
    },
    {
      "cell_type": "code",
      "metadata": {
        "id": "l6BYye4VPDu3",
        "colab_type": "code",
        "outputId": "a8678fd4-6a14-4e75-8177-6626314bded7",
        "colab": {
          "base_uri": "https://localhost:8080/",
          "height": 54
        }
      },
      "source": [
        "print(languages)"
      ],
      "execution_count": 79,
      "outputs": [
        {
          "output_type": "stream",
          "text": [
            "['Portuguese', 'Irish', 'Spanish', 'Vietnamese', 'Chinese', 'Greek', 'Czech', 'Dutch', 'Japanese', 'French', 'German', 'Scottish', 'English', 'Russian', 'Polish', 'Arabic', 'Korean', 'Italian']\n"
          ],
          "name": "stdout"
        }
      ]
    },
    {
      "cell_type": "markdown",
      "metadata": {
        "id": "s3fPMqp-w3GK",
        "colab_type": "text"
      },
      "source": [
        "There are totally 18 languages"
      ]
    },
    {
      "cell_type": "code",
      "metadata": {
        "id": "c6jvNhnXPF9E",
        "colab_type": "code",
        "colab": {}
      },
      "source": [
        "X_train, X_test, y_train, y_test = train_test_split(X, y, test_size=0.2, random_state=0, stratify=y)"
      ],
      "execution_count": 0,
      "outputs": []
    },
    {
      "cell_type": "code",
      "metadata": {
        "id": "An3NsR_PxBzH",
        "colab_type": "code",
        "colab": {}
      },
      "source": [
        ""
      ],
      "execution_count": 0,
      "outputs": []
    },
    {
      "cell_type": "markdown",
      "metadata": {
        "id": "cRVFmOCXxCTF",
        "colab_type": "text"
      },
      "source": [
        "<h4> Creating Vector Representation for Inputs </h4>"
      ]
    },
    {
      "cell_type": "markdown",
      "metadata": {
        "id": "C1eUnNPwxRUX",
        "colab_type": "text"
      },
      "source": [
        "<p> Since the possible inputs are set of all english albhabets(capital and small) we represent each alphabet using a one hot vector. The size of each input vector is equal to the total number of characters (n_letters) </p>"
      ]
    },
    {
      "cell_type": "code",
      "metadata": {
        "id": "muSV4gdrPTRk",
        "colab_type": "code",
        "colab": {}
      },
      "source": [
        "all_letters = string.ascii_letters + \" .,;'\"\n",
        "n_letters = len(all_letters)"
      ],
      "execution_count": 0,
      "outputs": []
    },
    {
      "cell_type": "code",
      "metadata": {
        "id": "eec5_W80QD9r",
        "colab_type": "code",
        "outputId": "bc94bf7b-6de5-46e3-8803-71d8369720a8",
        "colab": {
          "base_uri": "https://localhost:8080/",
          "height": 34
        }
      },
      "source": [
        "all_letters"
      ],
      "execution_count": 82,
      "outputs": [
        {
          "output_type": "execute_result",
          "data": {
            "text/plain": [
              "\"abcdefghijklmnopqrstuvwxyzABCDEFGHIJKLMNOPQRSTUVWXYZ .,;'\""
            ]
          },
          "metadata": {
            "tags": []
          },
          "execution_count": 82
        }
      ]
    },
    {
      "cell_type": "code",
      "metadata": {
        "id": "WTE5btexP2Ut",
        "colab_type": "code",
        "colab": {}
      },
      "source": [
        "# Creating one hot representation for each input\n",
        "def name_rep(name):\n",
        "    rep = torch.zeros(len(name), 1, n_letters) # Tensor for word representation, which is basically combination of \n",
        "                                               # vector representation of each character in the word\n",
        "    for index, letter in enumerate(name):\n",
        "        pos = all_letters.find(letter)\n",
        "        #print(pos)\n",
        "        rep[index][0][pos] = 1 # index corresponds to number of letters\n",
        "                               # 0 corresponds to batch\n",
        "                               # pos corresponds to character position in the one hot encoding\n",
        "\n",
        "    return rep"
      ],
      "execution_count": 0,
      "outputs": []
    },
    {
      "cell_type": "code",
      "metadata": {
        "id": "SYtCtlVuP5Cr",
        "colab_type": "code",
        "outputId": "9b68a82c-0b0c-4983-ac69-f632891861f5",
        "colab": {
          "base_uri": "https://localhost:8080/",
          "height": 252
        }
      },
      "source": [
        "name_rep('Kim') # note 'i' represented by 1 at 8th index"
      ],
      "execution_count": 84,
      "outputs": [
        {
          "output_type": "execute_result",
          "data": {
            "text/plain": [
              "tensor([[[0., 0., 0., 0., 0., 0., 0., 0., 0., 0., 0., 0., 0., 0., 0., 0., 0.,\n",
              "          0., 0., 0., 0., 0., 0., 0., 0., 0., 0., 0., 0., 0., 0., 0., 0., 0.,\n",
              "          0., 0., 1., 0., 0., 0., 0., 0., 0., 0., 0., 0., 0., 0., 0., 0., 0.,\n",
              "          0., 0., 0., 0., 0., 0.]],\n",
              "\n",
              "        [[0., 0., 0., 0., 0., 0., 0., 0., 1., 0., 0., 0., 0., 0., 0., 0., 0.,\n",
              "          0., 0., 0., 0., 0., 0., 0., 0., 0., 0., 0., 0., 0., 0., 0., 0., 0.,\n",
              "          0., 0., 0., 0., 0., 0., 0., 0., 0., 0., 0., 0., 0., 0., 0., 0., 0.,\n",
              "          0., 0., 0., 0., 0., 0.]],\n",
              "\n",
              "        [[0., 0., 0., 0., 0., 0., 0., 0., 0., 0., 0., 0., 1., 0., 0., 0., 0.,\n",
              "          0., 0., 0., 0., 0., 0., 0., 0., 0., 0., 0., 0., 0., 0., 0., 0., 0.,\n",
              "          0., 0., 0., 0., 0., 0., 0., 0., 0., 0., 0., 0., 0., 0., 0., 0., 0.,\n",
              "          0., 0., 0., 0., 0., 0.]]])"
            ]
          },
          "metadata": {
            "tags": []
          },
          "execution_count": 84
        }
      ]
    },
    {
      "cell_type": "code",
      "metadata": {
        "id": "PNmWX1UJzOSK",
        "colab_type": "code",
        "colab": {}
      },
      "source": [
        ""
      ],
      "execution_count": 0,
      "outputs": []
    },
    {
      "cell_type": "markdown",
      "metadata": {
        "id": "vy5F60DKzId6",
        "colab_type": "text"
      },
      "source": [
        "<h4> Creating Vector Representation for Output </h4>"
      ]
    },
    {
      "cell_type": "code",
      "metadata": {
        "id": "t_PKPIRgQLjX",
        "colab_type": "code",
        "colab": {}
      },
      "source": [
        "def lang_rep(lang):\n",
        "  return torch.tensor([languages.index(lang)],dtype = torch.long)"
      ],
      "execution_count": 0,
      "outputs": []
    },
    {
      "cell_type": "code",
      "metadata": {
        "id": "AP9BbDYIzf-b",
        "colab_type": "code",
        "outputId": "ed362310-4f99-4e7a-e032-c3db5c808dba",
        "colab": {
          "base_uri": "https://localhost:8080/",
          "height": 34
        }
      },
      "source": [
        "languages.index('English')"
      ],
      "execution_count": 86,
      "outputs": [
        {
          "output_type": "execute_result",
          "data": {
            "text/plain": [
              "12"
            ]
          },
          "metadata": {
            "tags": []
          },
          "execution_count": 86
        }
      ]
    },
    {
      "cell_type": "code",
      "metadata": {
        "id": "3n9JJtkhQ6_6",
        "colab_type": "code",
        "outputId": "50f4aa2d-d4f0-45ea-8b84-26c525013598",
        "colab": {
          "base_uri": "https://localhost:8080/",
          "height": 34
        }
      },
      "source": [
        "lang_rep('English')"
      ],
      "execution_count": 87,
      "outputs": [
        {
          "output_type": "execute_result",
          "data": {
            "text/plain": [
              "tensor([12])"
            ]
          },
          "metadata": {
            "tags": []
          },
          "execution_count": 87
        }
      ]
    },
    {
      "cell_type": "code",
      "metadata": {
        "id": "DFcOGhi4z6V_",
        "colab_type": "code",
        "colab": {}
      },
      "source": [
        ""
      ],
      "execution_count": 0,
      "outputs": []
    },
    {
      "cell_type": "markdown",
      "metadata": {
        "id": "mCbLsLHm0Jph",
        "colab_type": "text"
      },
      "source": [
        "<h4> Data Visualisation </h4>"
      ]
    },
    {
      "cell_type": "code",
      "metadata": {
        "id": "pxy_euHsQ9tE",
        "colab_type": "code",
        "colab": {}
      },
      "source": [
        "count = {}\n",
        "for l in languages: \n",
        "    count[l] = 0\n",
        "for d in data:\n",
        "    count[d[1]] += 1 # d[0] is name, d[1] is language"
      ],
      "execution_count": 0,
      "outputs": []
    },
    {
      "cell_type": "code",
      "metadata": {
        "id": "bG2CMB5NRDrd",
        "colab_type": "code",
        "outputId": "040ceff2-79b1-4234-b794-261e2d2b7034",
        "colab": {
          "base_uri": "https://localhost:8080/",
          "height": 54
        }
      },
      "source": [
        "print(count)"
      ],
      "execution_count": 89,
      "outputs": [
        {
          "output_type": "stream",
          "text": [
            "{'Portuguese': 74, 'Irish': 232, 'Spanish': 298, 'Vietnamese': 73, 'Chinese': 268, 'Greek': 203, 'Czech': 519, 'Dutch': 297, 'Japanese': 991, 'French': 277, 'German': 724, 'Scottish': 100, 'English': 3668, 'Russian': 9384, 'Polish': 139, 'Arabic': 2000, 'Korean': 94, 'Italian': 709}\n"
          ],
          "name": "stdout"
        }
      ]
    },
    {
      "cell_type": "code",
      "metadata": {
        "id": "62Qh37blRFNk",
        "colab_type": "code",
        "outputId": "020462a7-0426-4ffe-a117-afaff4d67558",
        "colab": {
          "base_uri": "https://localhost:8080/",
          "height": 315
        }
      },
      "source": [
        "plt_ = sns.barplot(list(count.keys()), list(count.values()))\n",
        "plt_.set_xticklabels(plt_.get_xticklabels(), rotation=90)\n",
        "plt.show()"
      ],
      "execution_count": 90,
      "outputs": [
        {
          "output_type": "display_data",
          "data": {
            "image/png": "[encoded data removed]",
            "text/plain": [
              "<Figure size 432x288 with 1 Axes>"
            ]
          },
          "metadata": {
            "tags": []
          }
        }
      ]
    },
    {
      "cell_type": "markdown",
      "metadata": {
        "id": "ecpHfX1mKCwf",
        "colab_type": "text"
      },
      "source": [
        "The number of English , Russian and Arabic datapoints are very large compared to other languages, which may cause some problems while building the model\n"
      ]
    },
    {
      "cell_type": "code",
      "metadata": {
        "id": "k3GyexCIRLRA",
        "colab_type": "code",
        "colab": {}
      },
      "source": [
        ""
      ],
      "execution_count": 0,
      "outputs": []
    },
    {
      "cell_type": "markdown",
      "metadata": {
        "id": "7kTDHHkHfLtA",
        "colab_type": "text"
      },
      "source": [
        "<h3> RNN Model </h3>"
      ]
    },
    {
      "cell_type": "code",
      "metadata": {
        "id": "ut9CTGqYZt2s",
        "colab_type": "code",
        "colab": {}
      },
      "source": [
        "class RNN(nn.Module):\n",
        "  def __init__(self, input_size, hidden_size, output_size):\n",
        "    super(RNN,self).__init__() #calling init of parent class\n",
        "    self.hidden_size = hidden_size\n",
        "    self.rnn_cell = nn.RNN(input_size, hidden_size)\n",
        "    self.h2o = nn.Linear(hidden_size, output_size)                                                           \n",
        "    self.softmax = nn.LogSoftmax(dim = 1) \n",
        "\n",
        "  def forward(self,input_, hidden=None, batch_size = 1):\n",
        "    out, hidden = self.rnn_cell(input_,hidden) # hidden_shape => (1,batch_size, 128)\n",
        "    output = self.h2o(hidden.view(-1, self.hidden_size)) \n",
        "    # (1,batch_size , hidden_size) => (1 x batch_size, hidden_size)\n",
        "    output = self.softmax(output)\n",
        "    return output,hidden\n",
        "\n",
        "  def init_hidden(self, batch_size=1): # We write this function here to ensure size of hidden state is uniform throughout code\n",
        "    return torch.zeros(1,batch_size, self.hidden_size)# first index corresponds to number of characters\n",
        "                                                      # second index corresponds to number of words\n",
        "\n",
        "\n",
        "\n"
      ],
      "execution_count": 0,
      "outputs": []
    },
    {
      "cell_type": "code",
      "metadata": {
        "id": "nz7OE-3HdsrW",
        "colab_type": "code",
        "colab": {}
      },
      "source": [
        "n_hidden = 128\n",
        "net = RNN(n_letters, n_hidden, n_languages) "
      ],
      "execution_count": 0,
      "outputs": []
    },
    {
      "cell_type": "markdown",
      "metadata": {
        "id": "DevhVNy30c6e",
        "colab_type": "text"
      },
      "source": [
        "<h3> Inference </h3>"
      ]
    },
    {
      "cell_type": "markdown",
      "metadata": {
        "id": "PHMxPtv2EAzu",
        "colab_type": "text"
      },
      "source": [
        "Batching wll not used in inference and evaluation, only in training"
      ]
    },
    {
      "cell_type": "code",
      "metadata": {
        "id": "udK6L7LDf1kn",
        "colab_type": "code",
        "colab": {}
      },
      "source": [
        "#To see output of the untrained model for given name as input\n",
        "def infer(net, name):\n",
        "    net.eval() # We are not training the model\n",
        "    name_ohe = name_rep(name) # Convert input to combination of one hot vector representation\n",
        "    hidden = net.init_hidden() # Initialise hidden state\n",
        "    \n",
        "    #print(name_ohe.size()[0]) # Basically number of letters in input\n",
        "    \n",
        "    #No need of for loop as we are using nn.RNN - for i in range(name_ohe.size()[0]):\n",
        "    output, hidden = net(name_ohe, hidden)\n",
        "    \n",
        "    if type(hidden) is tuple: # For LSTM\n",
        "        hidden = hidden[0]\n",
        "    index = torch.argmax(hidden)\n",
        "    \n",
        "\n",
        "    return output"
      ],
      "execution_count": 0,
      "outputs": []
    },
    {
      "cell_type": "code",
      "metadata": {
        "id": "p4N77jF6XeMg",
        "colab_type": "code",
        "outputId": "c78bb8f6-33db-427c-a0ea-d2b6b2a50caf",
        "colab": {
          "base_uri": "https://localhost:8080/",
          "height": 34
        }
      },
      "source": [
        "name_rep('Adam').size()"
      ],
      "execution_count": 94,
      "outputs": [
        {
          "output_type": "execute_result",
          "data": {
            "text/plain": [
              "torch.Size([4, 1, 57])"
            ]
          },
          "metadata": {
            "tags": []
          },
          "execution_count": 94
        }
      ]
    },
    {
      "cell_type": "code",
      "metadata": {
        "id": "PTdq6wlDW6D5",
        "colab_type": "code",
        "outputId": "a5e69207-ea35-4133-efbf-a5695b985c25",
        "colab": {
          "base_uri": "https://localhost:8080/",
          "height": 67
        }
      },
      "source": [
        "output = infer(net, 'Adam')\n",
        "#index = torch.argmax(output)\n",
        "print(output)"
      ],
      "execution_count": 95,
      "outputs": [
        {
          "output_type": "stream",
          "text": [
            "tensor([[-2.9073, -2.9444, -2.8955, -2.8394, -2.8238, -2.8628, -2.7373, -3.0204,\n",
            "         -2.8978, -2.8716, -2.9379, -2.9592, -2.9859, -2.7150, -2.9365, -2.9041,\n",
            "         -2.9166, -2.9235]], grad_fn=<LogSoftmaxBackward>)\n"
          ],
          "name": "stdout"
        }
      ]
    },
    {
      "cell_type": "code",
      "metadata": {
        "id": "Qi4rMVLV8Jr-",
        "colab_type": "code",
        "colab": {}
      },
      "source": [
        ""
      ],
      "execution_count": 0,
      "outputs": []
    },
    {
      "cell_type": "markdown",
      "metadata": {
        "id": "g6ojrXkvJRzt",
        "colab_type": "text"
      },
      "source": [
        "<h3> Creating Vector Representation for Batched Input </h3>"
      ]
    },
    {
      "cell_type": "code",
      "metadata": {
        "id": "FtmK3lzP8KyT",
        "colab_type": "code",
        "colab": {}
      },
      "source": [
        "def batched_name_rep(names, max_word_size): # list of names and size of largest name\n",
        "    rep = torch.zeros(max_word_size, len(names), n_letters) # len(names) is the batch size , n_letters is 57\n",
        "    for name_index, name in enumerate(names):\n",
        "        for letter_index, letter in enumerate(name):\n",
        "            pos = all_letters.find(letter)\n",
        "            rep[letter_index][name_index][pos] = 1 # pad represented by all zeros (see picture in video)\n",
        "            # as for loop runs only till length of words, everything after that will be zer\n",
        "    return rep"
      ],
      "execution_count": 0,
      "outputs": []
    },
    {
      "cell_type": "code",
      "metadata": {
        "id": "frWygROW8K-D",
        "colab_type": "code",
        "colab": {}
      },
      "source": [
        "def print_char(name_reps): # visualize batching\n",
        "    print(name_reps.size())\n",
        "    name_reps = name_reps.view((-1, name_reps.size()[-1])) # not clear about -1\n",
        "    print(name_reps.size())\n",
        "    for t in name_reps: \n",
        "        if torch.sum(t) == 0:\n",
        "            print('<pad>')\n",
        "        else:\n",
        "            index = t.argmax()\n",
        "            print(all_letters[index])"
      ],
      "execution_count": 0,
      "outputs": []
    },
    {
      "cell_type": "code",
      "metadata": {
        "id": "0ZGC0UUc8LIu",
        "colab_type": "code",
        "outputId": "00f1ff78-76ac-4919-9541-738fdf4f2b87",
        "colab": {
          "base_uri": "https://localhost:8080/",
          "height": 974
        }
      },
      "source": [
        "out_ = batched_name_rep(['Shyam', 'Ram'], 5)\n",
        "print(out_)\n",
        "print(out_.shape)\n",
        "print_char(out_)"
      ],
      "execution_count": 98,
      "outputs": [
        {
          "output_type": "stream",
          "text": [
            "tensor([[[0., 0., 0., 0., 0., 0., 0., 0., 0., 0., 0., 0., 0., 0., 0., 0., 0.,\n",
            "          0., 0., 0., 0., 0., 0., 0., 0., 0., 0., 0., 0., 0., 0., 0., 0., 0.,\n",
            "          0., 0., 0., 0., 0., 0., 0., 0., 0., 0., 1., 0., 0., 0., 0., 0., 0.,\n",
            "          0., 0., 0., 0., 0., 0.],\n",
            "         [0., 0., 0., 0., 0., 0., 0., 0., 0., 0., 0., 0., 0., 0., 0., 0., 0.,\n",
            "          0., 0., 0., 0., 0., 0., 0., 0., 0., 0., 0., 0., 0., 0., 0., 0., 0.,\n",
            "          0., 0., 0., 0., 0., 0., 0., 0., 0., 1., 0., 0., 0., 0., 0., 0., 0.,\n",
            "          0., 0., 0., 0., 0., 0.]],\n",
            "\n",
            "        [[0., 0., 0., 0., 0., 0., 0., 1., 0., 0., 0., 0., 0., 0., 0., 0., 0.,\n",
            "          0., 0., 0., 0., 0., 0., 0., 0., 0., 0., 0., 0., 0., 0., 0., 0., 0.,\n",
            "          0., 0., 0., 0., 0., 0., 0., 0., 0., 0., 0., 0., 0., 0., 0., 0., 0.,\n",
            "          0., 0., 0., 0., 0., 0.],\n",
            "         [1., 0., 0., 0., 0., 0., 0., 0., 0., 0., 0., 0., 0., 0., 0., 0., 0.,\n",
            "          0., 0., 0., 0., 0., 0., 0., 0., 0., 0., 0., 0., 0., 0., 0., 0., 0.,\n",
            "          0., 0., 0., 0., 0., 0., 0., 0., 0., 0., 0., 0., 0., 0., 0., 0., 0.,\n",
            "          0., 0., 0., 0., 0., 0.]],\n",
            "\n",
            "        [[0., 0., 0., 0., 0., 0., 0., 0., 0., 0., 0., 0., 0., 0., 0., 0., 0.,\n",
            "          0., 0., 0., 0., 0., 0., 0., 1., 0., 0., 0., 0., 0., 0., 0., 0., 0.,\n",
            "          0., 0., 0., 0., 0., 0., 0., 0., 0., 0., 0., 0., 0., 0., 0., 0., 0.,\n",
            "          0., 0., 0., 0., 0., 0.],\n",
            "         [0., 0., 0., 0., 0., 0., 0., 0., 0., 0., 0., 0., 1., 0., 0., 0., 0.,\n",
            "          0., 0., 0., 0., 0., 0., 0., 0., 0., 0., 0., 0., 0., 0., 0., 0., 0.,\n",
            "          0., 0., 0., 0., 0., 0., 0., 0., 0., 0., 0., 0., 0., 0., 0., 0., 0.,\n",
            "          0., 0., 0., 0., 0., 0.]],\n",
            "\n",
            "        [[1., 0., 0., 0., 0., 0., 0., 0., 0., 0., 0., 0., 0., 0., 0., 0., 0.,\n",
            "          0., 0., 0., 0., 0., 0., 0., 0., 0., 0., 0., 0., 0., 0., 0., 0., 0.,\n",
            "          0., 0., 0., 0., 0., 0., 0., 0., 0., 0., 0., 0., 0., 0., 0., 0., 0.,\n",
            "          0., 0., 0., 0., 0., 0.],\n",
            "         [0., 0., 0., 0., 0., 0., 0., 0., 0., 0., 0., 0., 0., 0., 0., 0., 0.,\n",
            "          0., 0., 0., 0., 0., 0., 0., 0., 0., 0., 0., 0., 0., 0., 0., 0., 0.,\n",
            "          0., 0., 0., 0., 0., 0., 0., 0., 0., 0., 0., 0., 0., 0., 0., 0., 0.,\n",
            "          0., 0., 0., 0., 0., 0.]],\n",
            "\n",
            "        [[0., 0., 0., 0., 0., 0., 0., 0., 0., 0., 0., 0., 1., 0., 0., 0., 0.,\n",
            "          0., 0., 0., 0., 0., 0., 0., 0., 0., 0., 0., 0., 0., 0., 0., 0., 0.,\n",
            "          0., 0., 0., 0., 0., 0., 0., 0., 0., 0., 0., 0., 0., 0., 0., 0., 0.,\n",
            "          0., 0., 0., 0., 0., 0.],\n",
            "         [0., 0., 0., 0., 0., 0., 0., 0., 0., 0., 0., 0., 0., 0., 0., 0., 0.,\n",
            "          0., 0., 0., 0., 0., 0., 0., 0., 0., 0., 0., 0., 0., 0., 0., 0., 0.,\n",
            "          0., 0., 0., 0., 0., 0., 0., 0., 0., 0., 0., 0., 0., 0., 0., 0., 0.,\n",
            "          0., 0., 0., 0., 0., 0.]]])\n",
            "torch.Size([5, 2, 57])\n",
            "torch.Size([5, 2, 57])\n",
            "torch.Size([10, 57])\n",
            "S\n",
            "R\n",
            "h\n",
            "a\n",
            "y\n",
            "m\n",
            "a\n",
            "<pad>\n",
            "m\n",
            "<pad>\n"
          ],
          "name": "stdout"
        }
      ]
    },
    {
      "cell_type": "markdown",
      "metadata": {
        "id": "ZPkyeNllJmB7",
        "colab_type": "text"
      },
      "source": [
        "<h3> Creating Vector Representation for Batched Output </h3>"
      ]
    },
    {
      "cell_type": "code",
      "metadata": {
        "id": "RjjfZkS-33iq",
        "colab_type": "code",
        "colab": {}
      },
      "source": [
        "# Instead of representing language using a single number\n",
        "# we use array of numbers, with each number corresponding to\n",
        "# one item in the batch\n",
        "def batched_lang_rep(langs):\n",
        "    rep = torch.zeros([len(langs)], dtype=torch.long)\n",
        "    for index, lang in enumerate(langs):\n",
        "        rep[index] = languages.index(lang)\n",
        "    return rep"
      ],
      "execution_count": 0,
      "outputs": []
    },
    {
      "cell_type": "code",
      "metadata": {
        "id": "Bsa3-sSu33xS",
        "colab_type": "code",
        "colab": {}
      },
      "source": [
        ""
      ],
      "execution_count": 0,
      "outputs": []
    },
    {
      "cell_type": "markdown",
      "metadata": {
        "id": "8JEDdVdDUt7k",
        "colab_type": "text"
      },
      "source": [
        "<h3> Custom DataLoader </h3>"
      ]
    },
    {
      "cell_type": "code",
      "metadata": {
        "id": "t55ayrrW9rBm",
        "colab_type": "code",
        "colab": {}
      },
      "source": [
        "def dataloader(npoints, X_,y_, verbose = False):\n",
        "  # Input X_ and y_ are lists\n",
        "\n",
        "  to_ret =[]\n",
        "  for i in range(npoints):\n",
        "    index = np.random.randint(len(X_))\n",
        "    name , lang = X_[index], y_[index]\n",
        "    to_ret.append((name,lang,name_rep(name), lang_rep(lang)))\n",
        "\n",
        "  return to_ret\n",
        "  \n"
      ],
      "execution_count": 0,
      "outputs": []
    },
    {
      "cell_type": "code",
      "metadata": {
        "id": "DdF1ebM5-AoY",
        "colab_type": "code",
        "colab": {
          "base_uri": "https://localhost:8080/",
          "height": 34
        },
        "outputId": "151ad66a-aa7e-48e4-e844-d524522be3d3"
      },
      "source": [
        "len(X_train)"
      ],
      "execution_count": 101,
      "outputs": [
        {
          "output_type": "execute_result",
          "data": {
            "text/plain": [
              "16040"
            ]
          },
          "metadata": {
            "tags": []
          },
          "execution_count": 101
        }
      ]
    },
    {
      "cell_type": "code",
      "metadata": {
        "id": "nYa0lKLG34Bk",
        "colab_type": "code",
        "colab": {}
      },
      "source": [
        "def batched_dataloader(npoints, X_, y_, verbose=False ):\n",
        "    names = []\n",
        "    langs = []\n",
        "    X_lengths = [] # array containing lengths of each item in batch\n",
        "    \n",
        "    for i in range(npoints):\n",
        "        index_ = np.random.randint(len(X_))\n",
        "        name, lang = X_[index_], y_[index_]\n",
        "        X_lengths.append(len(name))\n",
        "        names.append(name)\n",
        "        langs.append(lang)\n",
        "    max_length = max(X_lengths)\n",
        "    \n",
        "    names_rep = batched_name_rep(names, max_length) # this function internally\n",
        "                                                    # does padding\n",
        "    langs_rep = batched_lang_rep(langs)\n",
        "    \n",
        "    padded_names_rep = torch.nn.utils.rnn.pack_padded_sequence(names_rep, X_lengths, enforce_sorted = False) \n",
        "    # does packing\n",
        "    \n",
        "    #visualize packing\n",
        "    if verbose:\n",
        "        print(names_rep.shape, padded_names_rep.data.shape)\n",
        "        print('--')\n",
        "    \n",
        "    if verbose:\n",
        "        print(names)\n",
        "        print_char(names_rep)\n",
        "        print('--')\n",
        "    \n",
        "    if verbose:\n",
        "        print_char(padded_names_rep.data)\n",
        "        print('Lang Rep', langs_rep.data)\n",
        "        print('Batch sizes', padded_names_rep.batch_sizes)\n",
        "    \n",
        "    \n",
        "    return padded_names_rep, langs_rep"
      ],
      "execution_count": 0,
      "outputs": []
    },
    {
      "cell_type": "markdown",
      "metadata": {
        "id": "7gJdfKCEI4Cn",
        "colab_type": "text"
      },
      "source": [
        "<h4> Visulize Padding and Packing </h4>"
      ]
    },
    {
      "cell_type": "markdown",
      "metadata": {
        "id": "GXG0YeXkMKvl",
        "colab_type": "text"
      },
      "source": [
        "[10, 3, 57] => Maximum length of word is 10, 3 such words, and each word is represented by 57 dimension vector\n",
        "\n",
        "[25,57] => Totally 27 letters = 10 + 9 + 8\n",
        "\n",
        "As soon as 'Aldoworth' is over, batch size reduces from 3 to 2\n",
        "\n",
        "As soon as 'Babintsev' is over, batch size reduces from 2 to 1\n"
      ]
    },
    {
      "cell_type": "code",
      "metadata": {
        "id": "oTLnxaQu34V9",
        "colab_type": "code",
        "outputId": "c6f91bbb-b0d7-492a-98fd-a5ddabae8e23",
        "colab": {
          "base_uri": "https://localhost:8080/",
          "height": 1000
        }
      },
      "source": [
        "p, l = batched_dataloader(3, X_train, y_train, True)"
      ],
      "execution_count": 103,
      "outputs": [
        {
          "output_type": "stream",
          "text": [
            "torch.Size([10, 3, 57]) torch.Size([27, 57])\n",
            "--\n",
            "['Androsenko', 'Babintsev', 'Aldworth']\n",
            "torch.Size([10, 3, 57])\n",
            "torch.Size([30, 57])\n",
            "A\n",
            "B\n",
            "A\n",
            "n\n",
            "a\n",
            "l\n",
            "d\n",
            "b\n",
            "d\n",
            "r\n",
            "i\n",
            "w\n",
            "o\n",
            "n\n",
            "o\n",
            "s\n",
            "t\n",
            "r\n",
            "e\n",
            "s\n",
            "t\n",
            "n\n",
            "e\n",
            "h\n",
            "k\n",
            "v\n",
            "<pad>\n",
            "o\n",
            "<pad>\n",
            "<pad>\n",
            "--\n",
            "torch.Size([27, 57])\n",
            "torch.Size([27, 57])\n",
            "A\n",
            "B\n",
            "A\n",
            "n\n",
            "a\n",
            "l\n",
            "d\n",
            "b\n",
            "d\n",
            "r\n",
            "i\n",
            "w\n",
            "o\n",
            "n\n",
            "o\n",
            "s\n",
            "t\n",
            "r\n",
            "e\n",
            "s\n",
            "t\n",
            "n\n",
            "e\n",
            "h\n",
            "k\n",
            "v\n",
            "o\n",
            "Lang Rep tensor([13, 13, 12])\n",
            "Batch sizes tensor([3, 3, 3, 3, 3, 3, 3, 3, 2, 1])\n"
          ],
          "name": "stdout"
        }
      ]
    },
    {
      "cell_type": "code",
      "metadata": {
        "id": "cw6bRST08ZbW",
        "colab_type": "code",
        "colab": {}
      },
      "source": [
        ""
      ],
      "execution_count": 0,
      "outputs": []
    },
    {
      "cell_type": "markdown",
      "metadata": {
        "id": "49mtRqKx7mHi",
        "colab_type": "text"
      },
      "source": [
        "<h3> Custom Evaluation Function </h3>\n"
      ]
    },
    {
      "cell_type": "code",
      "metadata": {
        "id": "QBTRABzVfVHb",
        "colab_type": "code",
        "colab": {}
      },
      "source": [
        "# no batching\n",
        "def eval(net, n_points,k, X_, y_):\n",
        "\n",
        "  data_ = dataloader(n_points,X_, y_)\n",
        "  correct = 0 \n",
        "\n",
        "  for name, lang, name_rep, lang_rep  in data_:\n",
        "      output = infer(net, name) # forwards pass\n",
        "      val, indices = output.topk(k) # obtaining top k values and their corresponding indices in the 18 dim output\n",
        "                                    # (extension of torch.argmax)\n",
        "        \n",
        "      if lang_rep in indices: # if correct language in top k predictions\n",
        "          correct += 1\n",
        "            \n",
        "  accuracy = correct/n_points\n",
        "  return accuracy"
      ],
      "execution_count": 0,
      "outputs": []
    },
    {
      "cell_type": "code",
      "metadata": {
        "id": "lkbOyXtn7si8",
        "colab_type": "code",
        "colab": {
          "base_uri": "https://localhost:8080/",
          "height": 34
        },
        "outputId": "9468acb0-3e35-4ada-cfae-de0f1d22b74b"
      },
      "source": [
        "eval(net, 1000, 1, X_test, y_test)\n"
      ],
      "execution_count": 105,
      "outputs": [
        {
          "output_type": "execute_result",
          "data": {
            "text/plain": [
              "0.287"
            ]
          },
          "metadata": {
            "tags": []
          },
          "execution_count": 105
        }
      ]
    },
    {
      "cell_type": "markdown",
      "metadata": {
        "id": "aqcHw4p464LK",
        "colab_type": "text"
      },
      "source": [
        "<h3> Train </h3>"
      ]
    },
    {
      "cell_type": "code",
      "metadata": {
        "id": "h2-GLZF5fUv7",
        "colab_type": "code",
        "colab": {}
      },
      "source": [
        "def train_batch(net, opt, criterion, n_points):\n",
        "    \n",
        "    opt.zero_grad()\n",
        "    loss = 0\n",
        "    \n",
        "    batch_input, batch_groundtruth = batched_dataloader(n_points, X_train, y_train, False)\n",
        "    \n",
        "    # for name, language, name_ohe, lang_rep in data_:\n",
        "\n",
        "    #     hidden = net.init_hidden()\n",
        "\n",
        "    #     for i in range(name_ohe.size()[0]): # forward pass\n",
        "    #         output, hidden = net(name_ohe[i], hidden) # Note that same hidden variable is used on lhs and rhs\n",
        "            \n",
        "    output, hidden = net(batch_input) # Note: Input automatically passed to forward\n",
        "                                      # as class is derived from nn.Module\n",
        "    \n",
        "    loss = criterion(output, batch_groundtruth)\n",
        "    loss.backward(retain_graph=True) \n",
        "        \n",
        "    opt.step()   # Entire backpropagation through time is done just in this one line\n",
        "        \n",
        "            \n",
        "    return loss"
      ],
      "execution_count": 0,
      "outputs": []
    },
    {
      "cell_type": "code",
      "metadata": {
        "id": "hHaIYyC1fUrN",
        "colab_type": "code",
        "colab": {}
      },
      "source": [
        "net = RNN(n_letters, n_hidden, n_languages)\n",
        "criterion = nn.NLLLoss() #negative log likelihood\n",
        "opt = optim.SGD(net.parameters(), lr=0.01, momentum=0.9)"
      ],
      "execution_count": 0,
      "outputs": []
    },
    {
      "cell_type": "code",
      "metadata": {
        "id": "XijhQWiZfUly",
        "colab_type": "code",
        "outputId": "a26dd827-8496-4962-976a-e3ad1897b8f4",
        "colab": {
          "base_uri": "https://localhost:8080/",
          "height": 67
        }
      },
      "source": [
        "%%time \n",
        "train_batch(net, opt, criterion, 256)"
      ],
      "execution_count": 108,
      "outputs": [
        {
          "output_type": "stream",
          "text": [
            "CPU times: user 56.9 ms, sys: 2.01 ms, total: 58.9 ms\n",
            "Wall time: 59.7 ms\n"
          ],
          "name": "stdout"
        },
        {
          "output_type": "execute_result",
          "data": {
            "text/plain": [
              "tensor(2.9158, grad_fn=<NllLossBackward>)"
            ]
          },
          "metadata": {
            "tags": []
          },
          "execution_count": 108
        }
      ]
    },
    {
      "cell_type": "code",
      "metadata": {
        "id": "D3PA3ei-SXIV",
        "colab_type": "code",
        "outputId": "7482a18b-be6a-47f9-c9ae-589feea0e3d6",
        "colab": {
          "base_uri": "https://localhost:8080/",
          "height": 34
        }
      },
      "source": [
        "eval(net, 1000, 1, X_test, y_test)"
      ],
      "execution_count": 109,
      "outputs": [
        {
          "output_type": "execute_result",
          "data": {
            "text/plain": [
              "0.012"
            ]
          },
          "metadata": {
            "tags": []
          },
          "execution_count": 109
        }
      ]
    },
    {
      "cell_type": "markdown",
      "metadata": {
        "id": "Q1abhRtH7UxY",
        "colab_type": "text"
      },
      "source": [
        "<h3> Train Setup </h3>\n"
      ]
    },
    {
      "cell_type": "code",
      "metadata": {
        "id": "TX0lJyxwSayZ",
        "colab_type": "code",
        "colab": {}
      },
      "source": [
        "def train_setup(net, lr = 0.01, n_batches = 100, batch_size = 10, momentum = 0.9, display_freq=5):\n",
        "    \n",
        "    # Hyperparameters\n",
        "    criterion = nn.NLLLoss()\n",
        "    opt = optim.SGD(net.parameters(), lr=lr, momentum=momentum)\n",
        "    \n",
        "    loss_arr = np.zeros(n_batches + 1) #torch.zeros?\n",
        "    \n",
        "    for i in range(n_batches):\n",
        "        loss_arr[i+1] = (loss_arr[i]*i + train_batch(net, opt, criterion, batch_size))/(i + 1) \n",
        "        # Sum of all the previous losses\n",
        "        \n",
        "        if i%display_freq == display_freq-1:\n",
        "            clear_output(wait=True)\n",
        "            \n",
        "            print('Iteration', i, 'Top-1:', eval(net, len(X_test), 1, X_test, y_test), 'Top-2:', eval(net, len(X_test), 2, X_test, y_test), 'Loss', loss_arr[i])\n",
        "            plt.figure()\n",
        "            plt.plot(loss_arr[1:i], '-*')\n",
        "            plt.xlabel('Iteration')\n",
        "            plt.ylabel('Loss')\n",
        "            plt.show()\n",
        "            print('\\n\\n')\n",
        "                      "
      ],
      "execution_count": 0,
      "outputs": []
    },
    {
      "cell_type": "markdown",
      "metadata": {
        "id": "-HbHRPIpLx0l",
        "colab_type": "text"
      },
      "source": [
        "<h3> Running the Model </h3>"
      ]
    },
    {
      "cell_type": "code",
      "metadata": {
        "id": "VhxTvm4YWu5I",
        "colab_type": "code",
        "outputId": "3e1d978f-62cf-4611-a616-db5ce65ddd61",
        "colab": {
          "base_uri": "https://localhost:8080/",
          "height": 346
        }
      },
      "source": [
        "n_hidden = 128\n",
        "net = RNN(n_letters, n_hidden, n_languages)\n",
        "train_setup(net, lr=0.0005, n_batches=100, batch_size = 256)"
      ],
      "execution_count": 66,
      "outputs": [
        {
          "output_type": "stream",
          "text": [
            "Iteration 99 Top-1: 0.46109725685785535 Top-2: 0.6329177057356609 Loss 2.750166654586792\n"
          ],
          "name": "stdout"
        },
        {
          "output_type": "display_data",
          "data": {
            "image/png": "[encoded data removed]",
            "text/plain": [
              "<Figure size 432x288 with 1 Axes>"
            ]
          },
          "metadata": {
            "tags": []
          }
        },
        {
          "output_type": "stream",
          "text": [
            "\n",
            "\n",
            "\n"
          ],
          "name": "stdout"
        }
      ]
    },
    {
      "cell_type": "markdown",
      "metadata": {
        "id": "sQxxRXQlLhdo",
        "colab_type": "text"
      },
      "source": [
        "When lr was kept constant and batch size increased from 100 to 1000 accuracy did not improve but kept osciallting, possibly becuase learning rate was too small"
      ]
    },
    {
      "cell_type": "code",
      "metadata": {
        "id": "w2PQo12HCvuu",
        "colab_type": "code",
        "colab": {
          "base_uri": "https://localhost:8080/",
          "height": 347
        },
        "outputId": "a03f8071-2cac-4321-a9e4-f42b9b0bcdcc"
      },
      "source": [
        "n_hidden = 128\n",
        "net = RNN(n_letters, n_hidden, n_languages)\n",
        "train_setup(net, lr=0.2, n_batches=1000, batch_size = 256)"
      ],
      "execution_count": 68,
      "outputs": [
        {
          "output_type": "stream",
          "text": [
            "Iteration 999 Top-1: 0.7433915211970075 Top-2: 0.8483790523690773 Loss 0.870783805847168\n"
          ],
          "name": "stdout"
        },
        {
          "output_type": "display_data",
          "data": {
            "image/png": "[encoded data removed]",
            "text/plain": [
              "<Figure size 432x288 with 1 Axes>"
            ]
          },
          "metadata": {
            "tags": []
          }
        },
        {
          "output_type": "stream",
          "text": [
            "\n",
            "\n",
            "\n"
          ],
          "name": "stdout"
        }
      ]
    },
    {
      "cell_type": "markdown",
      "metadata": {
        "id": "mFBZcaqqJNQj",
        "colab_type": "text"
      },
      "source": [
        "<h3> Confusion Matrix </h3"
      ]
    },
    {
      "cell_type": "code",
      "metadata": {
        "id": "C5f0JEiHWyW0",
        "colab_type": "code",
        "outputId": "1940338b-171d-44a6-bfce-70aafdb823a0",
        "colab": {
          "base_uri": "https://localhost:8080/",
          "height": 34
        }
      },
      "source": [
        "len(data)"
      ],
      "execution_count": 69,
      "outputs": [
        {
          "output_type": "execute_result",
          "data": {
            "text/plain": [
              "20050"
            ]
          },
          "metadata": {
            "tags": []
          },
          "execution_count": 69
        }
      ]
    },
    {
      "cell_type": "code",
      "metadata": {
        "id": "IhzffE09_Lpm",
        "colab_type": "code",
        "colab": {}
      },
      "source": [
        "def get_confusion_mat(net, n_points,k, X_, y_):\n",
        "\n",
        "  cfm = np.zeros((n_languages,n_languages))\n",
        "\n",
        "  data_ = dataloader(n_points,X_, y_)\n",
        "   \n",
        "\n",
        "  for name, lang, name_rep, lang_rep  in data_:\n",
        "      output = infer(net, name) # forwards pass\n",
        "      val, index = output.topk(1) # obtaining top value and their corresponding indices in the 18 dim output\n",
        "                                    # (extension of torch.argmax)\n",
        "        \n",
        "      cfm[languages.index(lang)][index] += 1    \n",
        "\n",
        "  return cfm  \n"
      ],
      "execution_count": 0,
      "outputs": []
    },
    {
      "cell_type": "code",
      "metadata": {
        "id": "qhGM8p27Axhg",
        "colab_type": "code",
        "colab": {}
      },
      "source": [
        "cfm = get_confusion_mat(net, 1000, 1, X_test, y_test)"
      ],
      "execution_count": 0,
      "outputs": []
    },
    {
      "cell_type": "code",
      "metadata": {
        "id": "EHhDjXSLBNfh",
        "colab_type": "code",
        "outputId": "551001c4-489c-4119-9510-4d43c10631ae",
        "colab": {
          "base_uri": "https://localhost:8080/",
          "height": 319
        }
      },
      "source": [
        "# Per class accuracy\n",
        "for lang_ind in range(18):\n",
        "  total = np.sum(cfm[lang_ind])\n",
        "  correct = cfm[lang_ind][lang_ind]\n",
        "  print(languages[lang_ind],\"---Total:\",total,\"--Accuracy :\", correct /total)\n"
      ],
      "execution_count": 112,
      "outputs": [
        {
          "output_type": "stream",
          "text": [
            "Portuguese ---Total: 6.0 --Accuracy : 0.0\n",
            "Irish ---Total: 13.0 --Accuracy : 0.23076923076923078\n",
            "Spanish ---Total: 14.0 --Accuracy : 0.0\n",
            "Vietnamese ---Total: 3.0 --Accuracy : 0.0\n",
            "Chinese ---Total: 15.0 --Accuracy : 0.06666666666666667\n",
            "Greek ---Total: 12.0 --Accuracy : 0.0\n",
            "Czech ---Total: 30.0 --Accuracy : 0.0\n",
            "Dutch ---Total: 14.0 --Accuracy : 0.0\n",
            "Japanese ---Total: 53.0 --Accuracy : 0.0\n",
            "French ---Total: 8.0 --Accuracy : 0.0\n",
            "German ---Total: 34.0 --Accuracy : 0.0\n",
            "Scottish ---Total: 2.0 --Accuracy : 0.0\n",
            "English ---Total: 185.0 --Accuracy : 0.0\n",
            "Russian ---Total: 463.0 --Accuracy : 0.0064794816414686825\n",
            "Polish ---Total: 11.0 --Accuracy : 0.2727272727272727\n",
            "Arabic ---Total: 103.0 --Accuracy : 0.0\n",
            "Korean ---Total: 4.0 --Accuracy : 0.0\n",
            "Italian ---Total: 30.0 --Accuracy : 0.0\n"
          ],
          "name": "stdout"
        }
      ]
    },
    {
      "cell_type": "code",
      "metadata": {
        "id": "ZuLGkeDmBlno",
        "colab_type": "code",
        "colab": {}
      },
      "source": [
        ""
      ],
      "execution_count": 0,
      "outputs": []
    },
    {
      "cell_type": "code",
      "metadata": {
        "id": "gXe8rxv1G3OJ",
        "colab_type": "code",
        "colab": {}
      },
      "source": [
        "import seaborn as sn\n",
        "import pandas as pd"
      ],
      "execution_count": 0,
      "outputs": []
    },
    {
      "cell_type": "code",
      "metadata": {
        "id": "v0r1f7zQCFLQ",
        "colab_type": "code",
        "outputId": "d09cd487-be30-4ddd-a5ee-1579fb7fe36a",
        "colab": {
          "base_uri": "https://localhost:8080/",
          "height": 432
        }
      },
      "source": [
        "df_cm = pd.DataFrame(cfm, range(18),\n",
        "                  range(18))\n",
        "plt.figure(figsize = (10,7))\n",
        "sn.set(font_scale=1)#for label size\n",
        "sn.heatmap(cfm, annot=True,annot_kws={\"size\": 5})# font size\n",
        "\n",
        "plt.show()\n"
      ],
      "execution_count": 114,
      "outputs": [
        {
          "output_type": "display_data",
          "data": {
            "image/png": "[encoded data removed]",
            "text/plain": [
              "<Figure size 720x504 with 2 Axes>"
            ]
          },
          "metadata": {
            "tags": []
          }
        }
      ]
    },
    {
      "cell_type": "code",
      "metadata": {
        "id": "smsDuPEaG4sn",
        "colab_type": "code",
        "colab": {}
      },
      "source": [
        ""
      ],
      "execution_count": 0,
      "outputs": []
    }
  ]
}