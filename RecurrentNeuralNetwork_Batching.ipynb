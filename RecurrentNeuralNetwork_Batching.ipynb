{
  "nbformat": 4,
  "nbformat_minor": 0,
  "metadata": {
    "colab": {
      "name": "RecurrentNeuralNetwork_Batching.ipynb",
      "provenance": [],
      "collapsed_sections": []
    },
    "kernelspec": {
      "name": "python3",
      "display_name": "Python 3"
    }
  },
  "cells": [
    {
      "cell_type": "code",
      "metadata": {
        "id": "WbHKXUDFNmBP",
        "colab_type": "code",
        "colab": {}
      },
      "source": [
        "from io import open\n",
        "import os, string, random, time, math\n",
        "import matplotlib.pyplot as plt\n",
        "import seaborn as sns\n",
        "import numpy as np"
      ],
      "execution_count": 0,
      "outputs": []
    },
    {
      "cell_type": "code",
      "metadata": {
        "id": "rBXnR_W8N98t",
        "colab_type": "code",
        "colab": {}
      },
      "source": [
        "from sklearn.model_selection import train_test_split"
      ],
      "execution_count": 0,
      "outputs": []
    },
    {
      "cell_type": "code",
      "metadata": {
        "id": "4P3G4j6pOAcg",
        "colab_type": "code",
        "colab": {}
      },
      "source": [
        "import torch\n",
        "import torch.nn as nn\n",
        "import torch.optim as optim"
      ],
      "execution_count": 0,
      "outputs": []
    },
    {
      "cell_type": "code",
      "metadata": {
        "id": "DM8-SKmDOCdV",
        "colab_type": "code",
        "colab": {}
      },
      "source": [
        "from IPython.display import clear_output"
      ],
      "execution_count": 0,
      "outputs": []
    },
    {
      "cell_type": "code",
      "metadata": {
        "id": "DH4QW1UqOMlx",
        "colab_type": "code",
        "colab": {}
      },
      "source": [
        ""
      ],
      "execution_count": 0,
      "outputs": []
    },
    {
      "cell_type": "markdown",
      "metadata": {
        "id": "8NVFXR5cwPIq",
        "colab_type": "text"
      },
      "source": [
        "Task: Language Classification"
      ]
    },
    {
      "cell_type": "markdown",
      "metadata": {
        "id": "FtSqcw4l1fsd",
        "colab_type": "text"
      },
      "source": [
        "The aim of this project is to build a model which predicts the language given a name (which is essentially a sequence of characters)"
      ]
    },
    {
      "cell_type": "markdown",
      "metadata": {
        "id": "hcArIR6U16JO",
        "colab_type": "text"
      },
      "source": [
        "<h3> Data Preprocessing </h3>"
      ]
    },
    {
      "cell_type": "code",
      "metadata": {
        "id": "U3tTyBEcOZCX",
        "colab_type": "code",
        "colab": {}
      },
      "source": [
        "languages = []\n",
        "data = []\n",
        "X = []\n",
        "y = []\n",
        "\n",
        "with open('name2lang.txt', 'r') as f: \n",
        "    for line in f:\n",
        "        line = line.split(',')\n",
        "        name = line[0].strip()\n",
        "        lang = line[1].strip()\n",
        "        if not lang in languages:\n",
        "            languages.append(lang)\n",
        "        X.append(name)\n",
        "        y.append(lang)\n",
        "        data.append((name, lang))\n",
        "\n",
        "n_languages = len(languages)"
      ],
      "execution_count": 0,
      "outputs": []
    },
    {
      "cell_type": "code",
      "metadata": {
        "id": "1Qhgumvfwv35",
        "colab_type": "code",
        "colab": {}
      },
      "source": [
        ""
      ],
      "execution_count": 0,
      "outputs": []
    },
    {
      "cell_type": "code",
      "metadata": {
        "id": "l6BYye4VPDu3",
        "colab_type": "code",
        "outputId": "e5935643-c456-4c96-e407-19af03a7ab04",
        "colab": {
          "base_uri": "https://localhost:8080/",
          "height": 54
        }
      },
      "source": [
        "print(languages)"
      ],
      "execution_count": 0,
      "outputs": [
        {
          "output_type": "stream",
          "text": [
            "['Portuguese', 'Irish', 'Spanish', 'Vietnamese', 'Chinese', 'Greek', 'Czech', 'Dutch', 'Japanese', 'French', 'German', 'Scottish', 'English', 'Russian', 'Polish', 'Arabic', 'Korean', 'Italian']\n"
          ],
          "name": "stdout"
        }
      ]
    },
    {
      "cell_type": "markdown",
      "metadata": {
        "id": "s3fPMqp-w3GK",
        "colab_type": "text"
      },
      "source": [
        "There are totally 18 languages"
      ]
    },
    {
      "cell_type": "code",
      "metadata": {
        "id": "c6jvNhnXPF9E",
        "colab_type": "code",
        "colab": {}
      },
      "source": [
        "X_train, X_test, y_train, y_test = train_test_split(X, y, test_size=0.2, random_state=0, stratify=y)"
      ],
      "execution_count": 0,
      "outputs": []
    },
    {
      "cell_type": "code",
      "metadata": {
        "id": "An3NsR_PxBzH",
        "colab_type": "code",
        "colab": {}
      },
      "source": [
        ""
      ],
      "execution_count": 0,
      "outputs": []
    },
    {
      "cell_type": "markdown",
      "metadata": {
        "id": "cRVFmOCXxCTF",
        "colab_type": "text"
      },
      "source": [
        "<h4> Creating Vector Representation for Inputs </h4>"
      ]
    },
    {
      "cell_type": "markdown",
      "metadata": {
        "id": "C1eUnNPwxRUX",
        "colab_type": "text"
      },
      "source": [
        "<p> Since the possible inputs are set of all english albhabets(capital and small) we represent each alphabet using a one hot vector. The size of each input vector is equal to the total number of characters (n_letters) </p>"
      ]
    },
    {
      "cell_type": "code",
      "metadata": {
        "id": "muSV4gdrPTRk",
        "colab_type": "code",
        "colab": {}
      },
      "source": [
        "all_letters = string.ascii_letters + \" .,;'\"\n",
        "n_letters = len(all_letters)"
      ],
      "execution_count": 0,
      "outputs": []
    },
    {
      "cell_type": "code",
      "metadata": {
        "id": "eec5_W80QD9r",
        "colab_type": "code",
        "outputId": "71649cc9-214a-46f9-8948-8e2a4468dca1",
        "colab": {
          "base_uri": "https://localhost:8080/",
          "height": 34
        }
      },
      "source": [
        "all_letters"
      ],
      "execution_count": 0,
      "outputs": [
        {
          "output_type": "execute_result",
          "data": {
            "text/plain": [
              "\"abcdefghijklmnopqrstuvwxyzABCDEFGHIJKLMNOPQRSTUVWXYZ .,;'\""
            ]
          },
          "metadata": {
            "tags": []
          },
          "execution_count": 14
        }
      ]
    },
    {
      "cell_type": "code",
      "metadata": {
        "id": "WTE5btexP2Ut",
        "colab_type": "code",
        "colab": {}
      },
      "source": [
        "# Creating one hot representation for each input\n",
        "def name_rep(name):\n",
        "    rep = torch.zeros(len(name), 1, n_letters) # Tensor for word representation, which is basically combination of \n",
        "                                               # vector representation of each character in the word\n",
        "    for index, letter in enumerate(name):\n",
        "        pos = all_letters.find(letter)\n",
        "        #print(pos)\n",
        "        rep[index][0][pos] = 1 # index corresponds to number of letters\n",
        "                               # 0 corresponds to batch\n",
        "                               # pos corresponds to character position in the one hot encoding\n",
        "\n",
        "    return rep"
      ],
      "execution_count": 0,
      "outputs": []
    },
    {
      "cell_type": "code",
      "metadata": {
        "id": "SYtCtlVuP5Cr",
        "colab_type": "code",
        "outputId": "9677517f-d614-4896-e571-0c5c575361df",
        "colab": {
          "base_uri": "https://localhost:8080/",
          "height": 252
        }
      },
      "source": [
        "name_rep('Kim') # note 'i' represented by 1 at 8th index"
      ],
      "execution_count": 0,
      "outputs": [
        {
          "output_type": "execute_result",
          "data": {
            "text/plain": [
              "tensor([[[0., 0., 0., 0., 0., 0., 0., 0., 0., 0., 0., 0., 0., 0., 0., 0., 0.,\n",
              "          0., 0., 0., 0., 0., 0., 0., 0., 0., 0., 0., 0., 0., 0., 0., 0., 0.,\n",
              "          0., 0., 1., 0., 0., 0., 0., 0., 0., 0., 0., 0., 0., 0., 0., 0., 0.,\n",
              "          0., 0., 0., 0., 0., 0.]],\n",
              "\n",
              "        [[0., 0., 0., 0., 0., 0., 0., 0., 1., 0., 0., 0., 0., 0., 0., 0., 0.,\n",
              "          0., 0., 0., 0., 0., 0., 0., 0., 0., 0., 0., 0., 0., 0., 0., 0., 0.,\n",
              "          0., 0., 0., 0., 0., 0., 0., 0., 0., 0., 0., 0., 0., 0., 0., 0., 0.,\n",
              "          0., 0., 0., 0., 0., 0.]],\n",
              "\n",
              "        [[0., 0., 0., 0., 0., 0., 0., 0., 0., 0., 0., 0., 1., 0., 0., 0., 0.,\n",
              "          0., 0., 0., 0., 0., 0., 0., 0., 0., 0., 0., 0., 0., 0., 0., 0., 0.,\n",
              "          0., 0., 0., 0., 0., 0., 0., 0., 0., 0., 0., 0., 0., 0., 0., 0., 0.,\n",
              "          0., 0., 0., 0., 0., 0.]]])"
            ]
          },
          "metadata": {
            "tags": []
          },
          "execution_count": 16
        }
      ]
    },
    {
      "cell_type": "code",
      "metadata": {
        "id": "PNmWX1UJzOSK",
        "colab_type": "code",
        "colab": {}
      },
      "source": [
        ""
      ],
      "execution_count": 0,
      "outputs": []
    },
    {
      "cell_type": "markdown",
      "metadata": {
        "id": "vy5F60DKzId6",
        "colab_type": "text"
      },
      "source": [
        "<h4> Creating Vector Representation for Output </h4>"
      ]
    },
    {
      "cell_type": "code",
      "metadata": {
        "id": "t_PKPIRgQLjX",
        "colab_type": "code",
        "colab": {}
      },
      "source": [
        "def lang_rep(lang):\n",
        "  return torch.tensor([languages.index(lang)],dtype = torch.long)"
      ],
      "execution_count": 0,
      "outputs": []
    },
    {
      "cell_type": "code",
      "metadata": {
        "id": "AP9BbDYIzf-b",
        "colab_type": "code",
        "outputId": "82b3f268-9f2d-4373-9edb-d55b329dc383",
        "colab": {
          "base_uri": "https://localhost:8080/",
          "height": 34
        }
      },
      "source": [
        "languages.index('English')"
      ],
      "execution_count": 0,
      "outputs": [
        {
          "output_type": "execute_result",
          "data": {
            "text/plain": [
              "12"
            ]
          },
          "metadata": {
            "tags": []
          },
          "execution_count": 18
        }
      ]
    },
    {
      "cell_type": "code",
      "metadata": {
        "id": "3n9JJtkhQ6_6",
        "colab_type": "code",
        "outputId": "32451a7f-639e-4aa6-cb2a-68de8cb39322",
        "colab": {
          "base_uri": "https://localhost:8080/",
          "height": 34
        }
      },
      "source": [
        "lang_rep('English')"
      ],
      "execution_count": 0,
      "outputs": [
        {
          "output_type": "execute_result",
          "data": {
            "text/plain": [
              "tensor([12])"
            ]
          },
          "metadata": {
            "tags": []
          },
          "execution_count": 19
        }
      ]
    },
    {
      "cell_type": "code",
      "metadata": {
        "id": "DFcOGhi4z6V_",
        "colab_type": "code",
        "colab": {}
      },
      "source": [
        ""
      ],
      "execution_count": 0,
      "outputs": []
    },
    {
      "cell_type": "markdown",
      "metadata": {
        "id": "mCbLsLHm0Jph",
        "colab_type": "text"
      },
      "source": [
        "<h4> Data Visualisation </h4>"
      ]
    },
    {
      "cell_type": "code",
      "metadata": {
        "id": "pxy_euHsQ9tE",
        "colab_type": "code",
        "colab": {}
      },
      "source": [
        "count = {}\n",
        "for l in languages: \n",
        "    count[l] = 0\n",
        "for d in data:\n",
        "    count[d[1]] += 1 # d[0] is name, d[1] is language"
      ],
      "execution_count": 0,
      "outputs": []
    },
    {
      "cell_type": "code",
      "metadata": {
        "id": "bG2CMB5NRDrd",
        "colab_type": "code",
        "outputId": "4d28a626-935f-4d0c-ac44-9776a308b163",
        "colab": {
          "base_uri": "https://localhost:8080/",
          "height": 54
        }
      },
      "source": [
        "print(count)"
      ],
      "execution_count": 0,
      "outputs": [
        {
          "output_type": "stream",
          "text": [
            "{'Portuguese': 74, 'Irish': 232, 'Spanish': 298, 'Vietnamese': 73, 'Chinese': 268, 'Greek': 203, 'Czech': 519, 'Dutch': 297, 'Japanese': 991, 'French': 277, 'German': 724, 'Scottish': 100, 'English': 3668, 'Russian': 9384, 'Polish': 139, 'Arabic': 2000, 'Korean': 94, 'Italian': 709}\n"
          ],
          "name": "stdout"
        }
      ]
    },
    {
      "cell_type": "code",
      "metadata": {
        "id": "62Qh37blRFNk",
        "colab_type": "code",
        "outputId": "f7d93619-7690-46cc-aa89-3971b6517e0e",
        "colab": {
          "base_uri": "https://localhost:8080/",
          "height": 315
        }
      },
      "source": [
        "plt_ = sns.barplot(list(count.keys()), list(count.values()))\n",
        "plt_.set_xticklabels(plt_.get_xticklabels(), rotation=90)\n",
        "plt.show()"
      ],
      "execution_count": 0,
      "outputs": [
        {
          "output_type": "display_data",
          "data": {
            "image/png": "[encoded data removed]",
            "text/plain": [
              "<Figure size 432x288 with 1 Axes>"
            ]
          },
          "metadata": {
            "tags": []
          }
        }
      ]
    },
    {
      "cell_type": "markdown",
      "metadata": {
        "id": "ecpHfX1mKCwf",
        "colab_type": "text"
      },
      "source": [
        "The number of English , Russian and Arabic datapoints are very large compared to other languages, which may cause some problems while building the model\n"
      ]
    },
    {
      "cell_type": "code",
      "metadata": {
        "id": "k3GyexCIRLRA",
        "colab_type": "code",
        "colab": {}
      },
      "source": [
        ""
      ],
      "execution_count": 0,
      "outputs": []
    },
    {
      "cell_type": "markdown",
      "metadata": {
        "id": "7kTDHHkHfLtA",
        "colab_type": "text"
      },
      "source": [
        "<h3> RNN Model </h3>"
      ]
    },
    {
      "cell_type": "code",
      "metadata": {
        "id": "ut9CTGqYZt2s",
        "colab_type": "code",
        "colab": {}
      },
      "source": [
        "class RNN(nn.Module):\n",
        "  def __init__(self, input_size, hidden_size, output_size):\n",
        "    super(RNN,self).__init__() #calling init of parent class\n",
        "    self.hidden_size = hidden_size\n",
        "    self.rnn_cell = nn.RNN(input_size, hidden_size)\n",
        "    self.h2o = nn.Linear(hidden_size, output_size)                                                           \n",
        "    self.softmax = nn.LogSoftmax(dim = 1) \n",
        "\n",
        "  def forward(self,input_, hidden=None, batch_size = 1):\n",
        "    out, hidden = self.rnn_cell(input_,hidden) # hidden_shape => (1,batch_size, 128)\n",
        "    output = self.h2o(hidden.view(-1, self.hidden_size)) \n",
        "    # (1,batch_size , hidden_size) => (1 x batch_size, hidden_size)\n",
        "    output = self.softmax(output)\n",
        "    return output,hidden\n",
        "\n",
        "  def init_hidden(self, batch_size=1): # We write this function here to ensure size of hidden state is uniform throughout code\n",
        "    return torch.zeros(1,batch_size, self.hidden_size)# first index corresponds to number of characters\n",
        "                                                      # second index corresponds to number of words\n",
        "\n",
        "\n",
        "\n"
      ],
      "execution_count": 0,
      "outputs": []
    },
    {
      "cell_type": "code",
      "metadata": {
        "id": "nz7OE-3HdsrW",
        "colab_type": "code",
        "colab": {}
      },
      "source": [
        "n_hidden = 128\n",
        "net = RNN(n_letters, n_hidden, n_languages) "
      ],
      "execution_count": 0,
      "outputs": []
    },
    {
      "cell_type": "markdown",
      "metadata": {
        "id": "DevhVNy30c6e",
        "colab_type": "text"
      },
      "source": [
        "<h3> Inference </h3>"
      ]
    },
    {
      "cell_type": "markdown",
      "metadata": {
        "id": "PHMxPtv2EAzu",
        "colab_type": "text"
      },
      "source": [
        "Batching wll not used in inference and evaluation, only in training"
      ]
    },
    {
      "cell_type": "code",
      "metadata": {
        "id": "udK6L7LDf1kn",
        "colab_type": "code",
        "colab": {}
      },
      "source": [
        "#To see output of the untrained model for given name as input\n",
        "def infer(net, name):\n",
        "    net.eval() # We are not training the model\n",
        "    name_ohe = name_rep(name) # Convert input to combination of one hot vector representation\n",
        "    hidden = net.init_hidden() # Initialise hidden state\n",
        "    \n",
        "    #print(name_ohe.size()[0]) # Basically number of letters in input\n",
        "    \n",
        "    #No need of for loop as we are using nn.RNN - for i in range(name_ohe.size()[0]):\n",
        "    output, hidden = net(name_ohe, hidden)\n",
        "    \n",
        "    if type(hidden) is tuple: # For LSTM\n",
        "        hidden = hidden[0]\n",
        "    index = torch.argmax(hidden)\n",
        "    \n",
        "\n",
        "    return output"
      ],
      "execution_count": 0,
      "outputs": []
    },
    {
      "cell_type": "code",
      "metadata": {
        "id": "p4N77jF6XeMg",
        "colab_type": "code",
        "outputId": "aeb6aa3b-7060-4468-abbf-765b3259e6fe",
        "colab": {
          "base_uri": "https://localhost:8080/",
          "height": 34
        }
      },
      "source": [
        "name_rep('Adam').size()"
      ],
      "execution_count": 0,
      "outputs": [
        {
          "output_type": "execute_result",
          "data": {
            "text/plain": [
              "torch.Size([4, 1, 57])"
            ]
          },
          "metadata": {
            "tags": []
          },
          "execution_count": 26
        }
      ]
    },
    {
      "cell_type": "code",
      "metadata": {
        "id": "PTdq6wlDW6D5",
        "colab_type": "code",
        "outputId": "46cfa242-ce8b-4738-a057-6393ecf471c1",
        "colab": {
          "base_uri": "https://localhost:8080/",
          "height": 67
        }
      },
      "source": [
        "output = infer(net, 'Adam')\n",
        "#index = torch.argmax(output)\n",
        "print(output)"
      ],
      "execution_count": 0,
      "outputs": [
        {
          "output_type": "stream",
          "text": [
            "tensor([[-2.8581, -2.8505, -2.9604, -2.8565, -2.8383, -2.9333, -2.9288, -2.9208,\n",
            "         -2.9898, -2.7748, -2.8653, -2.8930, -2.9909, -3.0008, -2.8967, -2.9034,\n",
            "         -2.9315, -2.6877]], grad_fn=<LogSoftmaxBackward>)\n"
          ],
          "name": "stdout"
        }
      ]
    },
    {
      "cell_type": "code",
      "metadata": {
        "id": "Qi4rMVLV8Jr-",
        "colab_type": "code",
        "colab": {}
      },
      "source": [
        ""
      ],
      "execution_count": 0,
      "outputs": []
    },
    {
      "cell_type": "markdown",
      "metadata": {
        "id": "g6ojrXkvJRzt",
        "colab_type": "text"
      },
      "source": [
        "<h3> Creating Vector Representation for Batched Input </h3>"
      ]
    },
    {
      "cell_type": "code",
      "metadata": {
        "id": "FtmK3lzP8KyT",
        "colab_type": "code",
        "colab": {}
      },
      "source": [
        "def batched_name_rep(names, max_word_size): # list of names and size of largest name\n",
        "    rep = torch.zeros(max_word_size, len(names), n_letters) # len(names) is the batch size , n_letters is 57\n",
        "    for name_index, name in enumerate(names):\n",
        "        for letter_index, letter in enumerate(name):\n",
        "            pos = all_letters.find(letter)\n",
        "            rep[letter_index][name_index][pos] = 1 # pad represented by all zeros (see picture in video)\n",
        "            # as for loop runs only till length of words, everything after that will be zer\n",
        "    return rep"
      ],
      "execution_count": 0,
      "outputs": []
    },
    {
      "cell_type": "code",
      "metadata": {
        "id": "frWygROW8K-D",
        "colab_type": "code",
        "colab": {}
      },
      "source": [
        "def print_char(name_reps): # visualize batching\n",
        "    print(name_reps.size())\n",
        "    name_reps = name_reps.view((-1, name_reps.size()[-1])) # not clear about -1\n",
        "    print(name_reps.size())\n",
        "    for t in name_reps: \n",
        "        if torch.sum(t) == 0:\n",
        "            print('<pad>')\n",
        "        else:\n",
        "            index = t.argmax()\n",
        "            print(all_letters[index])"
      ],
      "execution_count": 0,
      "outputs": []
    },
    {
      "cell_type": "code",
      "metadata": {
        "id": "0ZGC0UUc8LIu",
        "colab_type": "code",
        "outputId": "d2dce971-d25d-4307-89b6-ef161bf87a97",
        "colab": {
          "base_uri": "https://localhost:8080/",
          "height": 974
        }
      },
      "source": [
        "out_ = batched_name_rep(['Shyam', 'Ram'], 5)\n",
        "print(out_)\n",
        "print(out_.shape)\n",
        "print_char(out_)"
      ],
      "execution_count": 0,
      "outputs": [
        {
          "output_type": "stream",
          "text": [
            "tensor([[[0., 0., 0., 0., 0., 0., 0., 0., 0., 0., 0., 0., 0., 0., 0., 0., 0.,\n",
            "          0., 0., 0., 0., 0., 0., 0., 0., 0., 0., 0., 0., 0., 0., 0., 0., 0.,\n",
            "          0., 0., 0., 0., 0., 0., 0., 0., 0., 0., 1., 0., 0., 0., 0., 0., 0.,\n",
            "          0., 0., 0., 0., 0., 0.],\n",
            "         [0., 0., 0., 0., 0., 0., 0., 0., 0., 0., 0., 0., 0., 0., 0., 0., 0.,\n",
            "          0., 0., 0., 0., 0., 0., 0., 0., 0., 0., 0., 0., 0., 0., 0., 0., 0.,\n",
            "          0., 0., 0., 0., 0., 0., 0., 0., 0., 1., 0., 0., 0., 0., 0., 0., 0.,\n",
            "          0., 0., 0., 0., 0., 0.]],\n",
            "\n",
            "        [[0., 0., 0., 0., 0., 0., 0., 1., 0., 0., 0., 0., 0., 0., 0., 0., 0.,\n",
            "          0., 0., 0., 0., 0., 0., 0., 0., 0., 0., 0., 0., 0., 0., 0., 0., 0.,\n",
            "          0., 0., 0., 0., 0., 0., 0., 0., 0., 0., 0., 0., 0., 0., 0., 0., 0.,\n",
            "          0., 0., 0., 0., 0., 0.],\n",
            "         [1., 0., 0., 0., 0., 0., 0., 0., 0., 0., 0., 0., 0., 0., 0., 0., 0.,\n",
            "          0., 0., 0., 0., 0., 0., 0., 0., 0., 0., 0., 0., 0., 0., 0., 0., 0.,\n",
            "          0., 0., 0., 0., 0., 0., 0., 0., 0., 0., 0., 0., 0., 0., 0., 0., 0.,\n",
            "          0., 0., 0., 0., 0., 0.]],\n",
            "\n",
            "        [[0., 0., 0., 0., 0., 0., 0., 0., 0., 0., 0., 0., 0., 0., 0., 0., 0.,\n",
            "          0., 0., 0., 0., 0., 0., 0., 1., 0., 0., 0., 0., 0., 0., 0., 0., 0.,\n",
            "          0., 0., 0., 0., 0., 0., 0., 0., 0., 0., 0., 0., 0., 0., 0., 0., 0.,\n",
            "          0., 0., 0., 0., 0., 0.],\n",
            "         [0., 0., 0., 0., 0., 0., 0., 0., 0., 0., 0., 0., 1., 0., 0., 0., 0.,\n",
            "          0., 0., 0., 0., 0., 0., 0., 0., 0., 0., 0., 0., 0., 0., 0., 0., 0.,\n",
            "          0., 0., 0., 0., 0., 0., 0., 0., 0., 0., 0., 0., 0., 0., 0., 0., 0.,\n",
            "          0., 0., 0., 0., 0., 0.]],\n",
            "\n",
            "        [[1., 0., 0., 0., 0., 0., 0., 0., 0., 0., 0., 0., 0., 0., 0., 0., 0.,\n",
            "          0., 0., 0., 0., 0., 0., 0., 0., 0., 0., 0., 0., 0., 0., 0., 0., 0.,\n",
            "          0., 0., 0., 0., 0., 0., 0., 0., 0., 0., 0., 0., 0., 0., 0., 0., 0.,\n",
            "          0., 0., 0., 0., 0., 0.],\n",
            "         [0., 0., 0., 0., 0., 0., 0., 0., 0., 0., 0., 0., 0., 0., 0., 0., 0.,\n",
            "          0., 0., 0., 0., 0., 0., 0., 0., 0., 0., 0., 0., 0., 0., 0., 0., 0.,\n",
            "          0., 0., 0., 0., 0., 0., 0., 0., 0., 0., 0., 0., 0., 0., 0., 0., 0.,\n",
            "          0., 0., 0., 0., 0., 0.]],\n",
            "\n",
            "        [[0., 0., 0., 0., 0., 0., 0., 0., 0., 0., 0., 0., 1., 0., 0., 0., 0.,\n",
            "          0., 0., 0., 0., 0., 0., 0., 0., 0., 0., 0., 0., 0., 0., 0., 0., 0.,\n",
            "          0., 0., 0., 0., 0., 0., 0., 0., 0., 0., 0., 0., 0., 0., 0., 0., 0.,\n",
            "          0., 0., 0., 0., 0., 0.],\n",
            "         [0., 0., 0., 0., 0., 0., 0., 0., 0., 0., 0., 0., 0., 0., 0., 0., 0.,\n",
            "          0., 0., 0., 0., 0., 0., 0., 0., 0., 0., 0., 0., 0., 0., 0., 0., 0.,\n",
            "          0., 0., 0., 0., 0., 0., 0., 0., 0., 0., 0., 0., 0., 0., 0., 0., 0.,\n",
            "          0., 0., 0., 0., 0., 0.]]])\n",
            "torch.Size([5, 2, 57])\n",
            "torch.Size([5, 2, 57])\n",
            "torch.Size([10, 57])\n",
            "S\n",
            "R\n",
            "h\n",
            "a\n",
            "y\n",
            "m\n",
            "a\n",
            "<pad>\n",
            "m\n",
            "<pad>\n"
          ],
          "name": "stdout"
        }
      ]
    },
    {
      "cell_type": "markdown",
      "metadata": {
        "id": "ZPkyeNllJmB7",
        "colab_type": "text"
      },
      "source": [
        "<h3> Creating Vector Representation for Batched Output </h3>"
      ]
    },
    {
      "cell_type": "code",
      "metadata": {
        "id": "RjjfZkS-33iq",
        "colab_type": "code",
        "colab": {}
      },
      "source": [
        "# Instead of representing language using a single number\n",
        "# we use array of numbers, with each number corresponding to\n",
        "# one item in the batch\n",
        "def batched_lang_rep(langs):\n",
        "    rep = torch.zeros([len(langs)], dtype=torch.long)\n",
        "    for index, lang in enumerate(langs):\n",
        "        rep[index] = languages.index(lang)\n",
        "    return rep"
      ],
      "execution_count": 0,
      "outputs": []
    },
    {
      "cell_type": "code",
      "metadata": {
        "id": "Bsa3-sSu33xS",
        "colab_type": "code",
        "colab": {}
      },
      "source": [
        ""
      ],
      "execution_count": 0,
      "outputs": []
    },
    {
      "cell_type": "markdown",
      "metadata": {
        "id": "8JEDdVdDUt7k",
        "colab_type": "text"
      },
      "source": [
        "<h3> Custom DataLoader </h3>"
      ]
    },
    {
      "cell_type": "code",
      "metadata": {
        "id": "t55ayrrW9rBm",
        "colab_type": "code",
        "colab": {}
      },
      "source": [
        "def dataloader(npoints, X_,y_, verbose = False):\n",
        "  # Input X_ and y_ are lists\n",
        "\n",
        "  to_ret =[]\n",
        "  for i in range(npoints):\n",
        "    index = np.random.randint(len(X_))\n",
        "    name , lang = X_[index], y_[index]\n",
        "    to_ret.append((name,lang,name_rep(name), lang_rep(lang)))\n",
        "\n",
        "  return to_ret\n",
        "  \n"
      ],
      "execution_count": 0,
      "outputs": []
    },
    {
      "cell_type": "code",
      "metadata": {
        "id": "DdF1ebM5-AoY",
        "colab_type": "code",
        "outputId": "988d46d5-0880-4692-968c-9afd47bf937a",
        "colab": {
          "base_uri": "https://localhost:8080/",
          "height": 34
        }
      },
      "source": [
        "len(X_train)"
      ],
      "execution_count": 0,
      "outputs": [
        {
          "output_type": "execute_result",
          "data": {
            "text/plain": [
              "16040"
            ]
          },
          "metadata": {
            "tags": []
          },
          "execution_count": 33
        }
      ]
    },
    {
      "cell_type": "code",
      "metadata": {
        "id": "nYa0lKLG34Bk",
        "colab_type": "code",
        "colab": {}
      },
      "source": [
        "def batched_dataloader(npoints, X_, y_, verbose=False ):\n",
        "    names = []\n",
        "    langs = []\n",
        "    X_lengths = [] # array containing lengths of each item in batch\n",
        "    \n",
        "    for i in range(npoints):\n",
        "        index_ = np.random.randint(len(X_))\n",
        "        name, lang = X_[index_], y_[index_]\n",
        "        X_lengths.append(len(name))\n",
        "        names.append(name)\n",
        "        langs.append(lang)\n",
        "    max_length = max(X_lengths)\n",
        "    \n",
        "    names_rep = batched_name_rep(names, max_length) # this function internally\n",
        "                                                    # does padding\n",
        "    langs_rep = batched_lang_rep(langs)\n",
        "    \n",
        "    padded_names_rep = torch.nn.utils.rnn.pack_padded_sequence(names_rep, X_lengths, enforce_sorted = False) \n",
        "    # does packing\n",
        "    \n",
        "    #visualize packing\n",
        "    if verbose:\n",
        "        print(names_rep.shape, padded_names_rep.data.shape)\n",
        "        print('--')\n",
        "    \n",
        "    if verbose:\n",
        "        print(names)\n",
        "        print_char(names_rep)\n",
        "        print('--')\n",
        "    \n",
        "    if verbose:\n",
        "        print_char(padded_names_rep.data)\n",
        "        print('Lang Rep', langs_rep.data)\n",
        "        print('Batch sizes', padded_names_rep.batch_sizes)\n",
        "    \n",
        "    \n",
        "    return padded_names_rep, langs_rep"
      ],
      "execution_count": 0,
      "outputs": []
    },
    {
      "cell_type": "markdown",
      "metadata": {
        "id": "7gJdfKCEI4Cn",
        "colab_type": "text"
      },
      "source": [
        "<h4> Visulize Padding and Packing </h4>"
      ]
    },
    {
      "cell_type": "markdown",
      "metadata": {
        "id": "GXG0YeXkMKvl",
        "colab_type": "text"
      },
      "source": [
        "[10, 3, 57] => Maximum length of word is 10, 3 such words, and each word is represented by 57 dimension vector\n",
        "\n",
        "[25,57] => Totally 27 letters = 10 + 9 + 8\n",
        "\n",
        "As soon as 'Aldoworth' is over, batch size reduces from 3 to 2\n",
        "\n",
        "As soon as 'Babintsev' is over, batch size reduces from 2 to 1\n"
      ]
    },
    {
      "cell_type": "code",
      "metadata": {
        "id": "oTLnxaQu34V9",
        "colab_type": "code",
        "outputId": "fb37d527-4389-40a1-c1eb-26d645660a8d",
        "colab": {
          "base_uri": "https://localhost:8080/",
          "height": 823
        }
      },
      "source": [
        "p, l = batched_dataloader(3, X_train, y_train, True)"
      ],
      "execution_count": 0,
      "outputs": [
        {
          "output_type": "stream",
          "text": [
            "torch.Size([7, 3, 57]) torch.Size([17, 57])\n",
            "--\n",
            "['Ilyahin', 'Kent', 'Jepson']\n",
            "torch.Size([7, 3, 57])\n",
            "torch.Size([21, 57])\n",
            "I\n",
            "K\n",
            "J\n",
            "l\n",
            "e\n",
            "e\n",
            "y\n",
            "n\n",
            "p\n",
            "a\n",
            "t\n",
            "s\n",
            "h\n",
            "<pad>\n",
            "o\n",
            "i\n",
            "<pad>\n",
            "n\n",
            "n\n",
            "<pad>\n",
            "<pad>\n",
            "--\n",
            "torch.Size([17, 57])\n",
            "torch.Size([17, 57])\n",
            "I\n",
            "J\n",
            "K\n",
            "l\n",
            "e\n",
            "e\n",
            "y\n",
            "p\n",
            "n\n",
            "a\n",
            "s\n",
            "t\n",
            "h\n",
            "o\n",
            "i\n",
            "n\n",
            "n\n",
            "Lang Rep tensor([13, 12, 12])\n",
            "Batch sizes tensor([3, 3, 3, 3, 2, 2, 1])\n"
          ],
          "name": "stdout"
        }
      ]
    },
    {
      "cell_type": "code",
      "metadata": {
        "id": "cw6bRST08ZbW",
        "colab_type": "code",
        "colab": {}
      },
      "source": [
        ""
      ],
      "execution_count": 0,
      "outputs": []
    },
    {
      "cell_type": "markdown",
      "metadata": {
        "id": "49mtRqKx7mHi",
        "colab_type": "text"
      },
      "source": [
        "<h3> Custom Evaluation Function </h3>\n"
      ]
    },
    {
      "cell_type": "code",
      "metadata": {
        "id": "QBTRABzVfVHb",
        "colab_type": "code",
        "colab": {}
      },
      "source": [
        "# no batching\n",
        "def eval(net, n_points,k, X_, y_):\n",
        "\n",
        "  data_ = dataloader(n_points,X_, y_)\n",
        "  correct = 0 \n",
        "\n",
        "  for name, lang, name_rep, lang_rep  in data_:\n",
        "      output = infer(net, name) # forwards pass\n",
        "      val, indices = output.topk(k) # obtaining top k values and their corresponding indices in the 18 dim output\n",
        "                                    # (extension of torch.argmax)\n",
        "        \n",
        "      if lang_rep in indices: # if correct language in top k predictions\n",
        "          correct += 1\n",
        "            \n",
        "  accuracy = correct/n_points\n",
        "  return accuracy"
      ],
      "execution_count": 0,
      "outputs": []
    },
    {
      "cell_type": "code",
      "metadata": {
        "id": "lkbOyXtn7si8",
        "colab_type": "code",
        "outputId": "9aca7a77-8485-419a-f2a3-84b5a3e48b26",
        "colab": {
          "base_uri": "https://localhost:8080/",
          "height": 34
        }
      },
      "source": [
        "eval(net, 1000, 1, X_test, y_test)\n"
      ],
      "execution_count": 0,
      "outputs": [
        {
          "output_type": "execute_result",
          "data": {
            "text/plain": [
              "0.028"
            ]
          },
          "metadata": {
            "tags": []
          },
          "execution_count": 37
        }
      ]
    },
    {
      "cell_type": "markdown",
      "metadata": {
        "id": "aqcHw4p464LK",
        "colab_type": "text"
      },
      "source": [
        "<h3> Train </h3>"
      ]
    },
    {
      "cell_type": "code",
      "metadata": {
        "id": "h2-GLZF5fUv7",
        "colab_type": "code",
        "colab": {}
      },
      "source": [
        "def train_batch(net, opt, criterion, n_points):\n",
        "    \n",
        "    opt.zero_grad()\n",
        "    loss = 0\n",
        "    \n",
        "    batch_input, batch_groundtruth = batched_dataloader(n_points, X_train, y_train, False)\n",
        "    \n",
        "    # for name, language, name_ohe, lang_rep in data_:\n",
        "\n",
        "    #     hidden = net.init_hidden()\n",
        "\n",
        "    #     for i in range(name_ohe.size()[0]): # forward pass\n",
        "    #         output, hidden = net(name_ohe[i], hidden) # Note that same hidden variable is used on lhs and rhs\n",
        "            \n",
        "    output, hidden = net(batch_input) # Note: Input automatically passed to forward\n",
        "                                      # as class is derived from nn.Module\n",
        "    \n",
        "    loss = criterion(output, batch_groundtruth)\n",
        "    loss.backward(retain_graph=True) \n",
        "        \n",
        "    opt.step()   # Entire backpropagation through time is done just in this one line\n",
        "        \n",
        "            \n",
        "    return loss"
      ],
      "execution_count": 0,
      "outputs": []
    },
    {
      "cell_type": "code",
      "metadata": {
        "id": "hHaIYyC1fUrN",
        "colab_type": "code",
        "colab": {}
      },
      "source": [
        "net = RNN(n_letters, n_hidden, n_languages)\n",
        "criterion = nn.NLLLoss() #negative log likelihood\n",
        "opt = optim.SGD(net.parameters(), lr=0.01, momentum=0.9)"
      ],
      "execution_count": 0,
      "outputs": []
    },
    {
      "cell_type": "code",
      "metadata": {
        "id": "XijhQWiZfUly",
        "colab_type": "code",
        "outputId": "1c24898d-65fd-430f-ddcf-659ac5fde2bd",
        "colab": {
          "base_uri": "https://localhost:8080/",
          "height": 67
        }
      },
      "source": [
        "%%time \n",
        "train_batch(net, opt, criterion, 256)"
      ],
      "execution_count": 0,
      "outputs": [
        {
          "output_type": "stream",
          "text": [
            "CPU times: user 56.3 ms, sys: 12.6 ms, total: 68.9 ms\n",
            "Wall time: 286 ms\n"
          ],
          "name": "stdout"
        },
        {
          "output_type": "execute_result",
          "data": {
            "text/plain": [
              "tensor(2.8224, grad_fn=<NllLossBackward>)"
            ]
          },
          "metadata": {
            "tags": []
          },
          "execution_count": 40
        }
      ]
    },
    {
      "cell_type": "code",
      "metadata": {
        "id": "D3PA3ei-SXIV",
        "colab_type": "code",
        "outputId": "6f48def1-eb07-4c15-8007-717c292bf573",
        "colab": {
          "base_uri": "https://localhost:8080/",
          "height": 34
        }
      },
      "source": [
        "eval(net, 1000, 1, X_test, y_test)"
      ],
      "execution_count": 0,
      "outputs": [
        {
          "output_type": "execute_result",
          "data": {
            "text/plain": [
              "0.092"
            ]
          },
          "metadata": {
            "tags": []
          },
          "execution_count": 41
        }
      ]
    },
    {
      "cell_type": "markdown",
      "metadata": {
        "id": "Q1abhRtH7UxY",
        "colab_type": "text"
      },
      "source": [
        "<h3> Train Setup </h3>\n"
      ]
    },
    {
      "cell_type": "code",
      "metadata": {
        "id": "TX0lJyxwSayZ",
        "colab_type": "code",
        "colab": {}
      },
      "source": [
        "def train_setup(net, lr = 0.01, n_batches = 100, batch_size = 10, momentum = 0.9, display_freq=5):\n",
        "    \n",
        "    # Hyperparameters\n",
        "    criterion = nn.NLLLoss()\n",
        "    opt = optim.SGD(net.parameters(), lr=lr, momentum=momentum)\n",
        "    \n",
        "    loss_arr = np.zeros(n_batches + 1) #torch.zeros?\n",
        "    \n",
        "    for i in range(n_batches):\n",
        "        loss_arr[i+1] = (loss_arr[i]*i + train_batch(net, opt, criterion, batch_size))/(i + 1) \n",
        "        # Sum of all the previous losses\n",
        "        \n",
        "        if i%display_freq == display_freq-1:\n",
        "            clear_output(wait=True)\n",
        "            \n",
        "            print('Iteration', i, 'Top-1:', eval(net, len(X_test), 1, X_test, y_test), 'Top-2:', eval(net, len(X_test), 2, X_test, y_test), 'Loss', loss_arr[i])\n",
        "            plt.figure()\n",
        "            plt.plot(loss_arr[1:i], '-*')\n",
        "            plt.xlabel('Iteration')\n",
        "            plt.ylabel('Loss')\n",
        "            plt.show()\n",
        "            print('\\n\\n')\n",
        "                      "
      ],
      "execution_count": 0,
      "outputs": []
    },
    {
      "cell_type": "markdown",
      "metadata": {
        "id": "-HbHRPIpLx0l",
        "colab_type": "text"
      },
      "source": [
        "<h3> Running the Model </h3>"
      ]
    },
    {
      "cell_type": "code",
      "metadata": {
        "id": "VhxTvm4YWu5I",
        "colab_type": "code",
        "outputId": "d34ca3af-dd9d-41d5-957c-27415c0478ad",
        "colab": {
          "base_uri": "https://localhost:8080/",
          "height": 346
        }
      },
      "source": [
        "n_hidden = 128\n",
        "net = RNN(n_letters, n_hidden, n_languages)\n",
        "train_setup(net, lr=0.0005, n_batches=100, batch_size = 256)"
      ],
      "execution_count": 0,
      "outputs": [
        {
          "output_type": "stream",
          "text": [
            "Iteration 99 Top-1: 0.4628428927680798 Top-2: 0.5476309226932669 Loss 2.7673158645629883\n"
          ],
          "name": "stdout"
        },
        {
          "output_type": "display_data",
          "data": {
            "image/png": "[encoded data removed]",
            "text/plain": [
              "<Figure size 432x288 with 1 Axes>"
            ]
          },
          "metadata": {
            "tags": []
          }
        },
        {
          "output_type": "stream",
          "text": [
            "\n",
            "\n",
            "\n"
          ],
          "name": "stdout"
        }
      ]
    },
    {
      "cell_type": "markdown",
      "metadata": {
        "id": "sQxxRXQlLhdo",
        "colab_type": "text"
      },
      "source": [
        "When lr was kept constant and batch size increased from 100 to 1000 accuracy did not improve but kept osciallting, possibly becuase learning rate was too small"
      ]
    },
    {
      "cell_type": "code",
      "metadata": {
        "id": "w2PQo12HCvuu",
        "colab_type": "code",
        "outputId": "63c457fc-e76f-4fc8-afb6-a2052c001fa7",
        "colab": {
          "base_uri": "https://localhost:8080/",
          "height": 350
        }
      },
      "source": [
        "n_hidden = 128\n",
        "net = RNN(n_letters, n_hidden, n_languages)\n",
        "train_setup(net, lr=0.2, n_batches=1000, batch_size = 256)"
      ],
      "execution_count": 0,
      "outputs": [
        {
          "output_type": "stream",
          "text": [
            "Iteration 999 Top-1: 0.6625935162094763 Top-2: 0.7870324189526184 Loss 1.45095956325531\n"
          ],
          "name": "stdout"
        },
        {
          "output_type": "display_data",
          "data": {
            "image/png": "[encoded data removed]",
            "text/plain": [
              "<Figure size 432x288 with 1 Axes>"
            ]
          },
          "metadata": {
            "tags": []
          }
        },
        {
          "output_type": "stream",
          "text": [
            "\n",
            "\n",
            "\n"
          ],
          "name": "stdout"
        }
      ]
    },
    {
      "cell_type": "markdown",
      "metadata": {
        "id": "mFBZcaqqJNQj",
        "colab_type": "text"
      },
      "source": [
        "<h3> Confusion Matrix </h3"
      ]
    },
    {
      "cell_type": "code",
      "metadata": {
        "id": "C5f0JEiHWyW0",
        "colab_type": "code",
        "outputId": "1f4756c1-3c63-4cee-d6b7-0bdff811418b",
        "colab": {
          "base_uri": "https://localhost:8080/",
          "height": 34
        }
      },
      "source": [
        "len(data)"
      ],
      "execution_count": 51,
      "outputs": [
        {
          "output_type": "execute_result",
          "data": {
            "text/plain": [
              "20050"
            ]
          },
          "metadata": {
            "tags": []
          },
          "execution_count": 51
        }
      ]
    },
    {
      "cell_type": "code",
      "metadata": {
        "id": "IhzffE09_Lpm",
        "colab_type": "code",
        "colab": {}
      },
      "source": [
        "def get_confusion_mat(net, n_points,k, X_, y_):\n",
        "\n",
        "  cfm = np.zeros((n_languages,n_languages))\n",
        "\n",
        "  data_ = dataloader(n_points,X_, y_)\n",
        "   \n",
        "\n",
        "  for name, lang, name_rep, lang_rep  in data_:\n",
        "      output = infer(net, name) # forwards pass\n",
        "      val, index = output.topk(1) # obtaining top value and their corresponding indices in the 18 dim output\n",
        "                                    # (extension of torch.argmax)\n",
        "        \n",
        "      cfm[languages.index(lang)][index] += 1    \n",
        "\n",
        "  return cfm  \n"
      ],
      "execution_count": 0,
      "outputs": []
    },
    {
      "cell_type": "code",
      "metadata": {
        "id": "qhGM8p27Axhg",
        "colab_type": "code",
        "colab": {}
      },
      "source": [
        "cfm = get_confusion_mat(net, 1000, 1, X_test, y_test)"
      ],
      "execution_count": 0,
      "outputs": []
    },
    {
      "cell_type": "code",
      "metadata": {
        "id": "EHhDjXSLBNfh",
        "colab_type": "code",
        "outputId": "ab47019c-417e-4bce-c2b5-595cd93e63e7",
        "colab": {
          "base_uri": "https://localhost:8080/",
          "height": 319
        }
      },
      "source": [
        "# Per class accuracy\n",
        "for lang_ind in range(18):\n",
        "  total = np.sum(cfm[lang_ind])\n",
        "  correct = cfm[lang_ind][lang_ind]\n",
        "  print(languages[lang_ind],\"---Total:\",total,\"--Accuracy :\", correct /total)\n"
      ],
      "execution_count": 56,
      "outputs": [
        {
          "output_type": "stream",
          "text": [
            "Portuguese ---Total: 3.0 --Accuracy : 0.0\n",
            "Irish ---Total: 14.0 --Accuracy : 0.0\n",
            "Spanish ---Total: 12.0 --Accuracy : 0.0\n",
            "Vietnamese ---Total: 5.0 --Accuracy : 0.0\n",
            "Chinese ---Total: 10.0 --Accuracy : 0.5\n",
            "Greek ---Total: 12.0 --Accuracy : 0.3333333333333333\n",
            "Czech ---Total: 33.0 --Accuracy : 0.030303030303030304\n",
            "Dutch ---Total: 14.0 --Accuracy : 0.0\n",
            "Japanese ---Total: 47.0 --Accuracy : 0.46808510638297873\n",
            "French ---Total: 23.0 --Accuracy : 0.0\n",
            "German ---Total: 24.0 --Accuracy : 0.16666666666666666\n",
            "Scottish ---Total: 3.0 --Accuracy : 0.0\n",
            "English ---Total: 190.0 --Accuracy : 0.7736842105263158\n",
            "Russian ---Total: 478.0 --Accuracy : 0.8765690376569037\n",
            "Polish ---Total: 3.0 --Accuracy : 0.0\n",
            "Arabic ---Total: 104.0 --Accuracy : 0.6153846153846154\n",
            "Korean ---Total: 5.0 --Accuracy : 0.0\n",
            "Italian ---Total: 20.0 --Accuracy : 0.45\n"
          ],
          "name": "stdout"
        }
      ]
    },
    {
      "cell_type": "code",
      "metadata": {
        "id": "ZuLGkeDmBlno",
        "colab_type": "code",
        "colab": {}
      },
      "source": [
        ""
      ],
      "execution_count": 0,
      "outputs": []
    },
    {
      "cell_type": "code",
      "metadata": {
        "id": "gXe8rxv1G3OJ",
        "colab_type": "code",
        "colab": {}
      },
      "source": [
        "import seaborn as sn\n",
        "import pandas as pd"
      ],
      "execution_count": 0,
      "outputs": []
    },
    {
      "cell_type": "code",
      "metadata": {
        "id": "v0r1f7zQCFLQ",
        "colab_type": "code",
        "outputId": "6a3d1322-9af7-4474-dc88-3ce913d16431",
        "colab": {
          "base_uri": "https://localhost:8080/",
          "height": 431
        }
      },
      "source": [
        "df_cm = pd.DataFrame(cfm, range(18),\n",
        "                  range(18))\n",
        "plt.figure(figsize = (10,7))\n",
        "sn.set(font_scale=1)#for label size\n",
        "sn.heatmap(cfm, annot=True,annot_kws={\"size\": 5})# font size\n",
        "\n",
        "plt.show()\n"
      ],
      "execution_count": 58,
      "outputs": [
        {
          "output_type": "display_data",
          "data": {
            "image/png": "[encoded data removed]",
            "text/plain": [
              "<Figure size 720x504 with 2 Axes>"
            ]
          },
          "metadata": {
            "tags": []
          }
        }
      ]
    },
    {
      "cell_type": "code",
      "metadata": {
        "id": "smsDuPEaG4sn",
        "colab_type": "code",
        "colab": {}
      },
      "source": [
        ""
      ],
      "execution_count": 0,
      "outputs": []
    }
  ]
}