{
  "nbformat": 4,
  "nbformat_minor": 0,
  "metadata": {
    "colab": {
      "name": "FFNetworkUsingInbuiltLibraries_2.ipynb",
      "provenance": [],
      "collapsed_sections": []
    },
    "kernelspec": {
      "name": "python3",
      "display_name": "Python 3"
    }
  },
  "cells": [
    {
      "cell_type": "code",
      "metadata": {
        "id": "9UIJP9qdjnQf",
        "colab_type": "code",
        "colab": {}
      },
      "source": [
        "import numpy as np\n",
        "import matplotlib.pyplot as plt\n",
        "import torch"
      ],
      "execution_count": 0,
      "outputs": []
    },
    {
      "cell_type": "code",
      "metadata": {
        "id": "rOIvo66ZjwUq",
        "colab_type": "code",
        "colab": {}
      },
      "source": [
        "import torch.nn.functional as F"
      ],
      "execution_count": 0,
      "outputs": []
    },
    {
      "cell_type": "code",
      "metadata": {
        "id": "JZMxYa4a02B3",
        "colab_type": "code",
        "colab": {}
      },
      "source": [
        "import torch.nn as nn"
      ],
      "execution_count": 0,
      "outputs": []
    },
    {
      "cell_type": "code",
      "metadata": {
        "id": "JGHcbkF61ND8",
        "colab_type": "code",
        "colab": {}
      },
      "source": [
        "from sklearn.datasets import make_blobs\n",
        "from sklearn.model_selection import train_test_split\n"
      ],
      "execution_count": 0,
      "outputs": []
    },
    {
      "cell_type": "code",
      "metadata": {
        "id": "0tK5bqpw7AhA",
        "colab_type": "code",
        "colab": {}
      },
      "source": [
        ""
      ],
      "execution_count": 0,
      "outputs": []
    },
    {
      "cell_type": "code",
      "metadata": {
        "id": "GDiCq5jk7AtQ",
        "colab_type": "code",
        "colab": {}
      },
      "source": [
        ""
      ],
      "execution_count": 0,
      "outputs": []
    },
    {
      "cell_type": "markdown",
      "metadata": {
        "id": "rq1DUUPZ6_QK",
        "colab_type": "text"
      },
      "source": [
        "Here we further simplify the code by using optim library and thus making the fit function very compact and concise"
      ]
    },
    {
      "cell_type": "markdown",
      "metadata": {
        "id": "GVWvzBQF6_G7",
        "colab_type": "text"
      },
      "source": [
        "The PyTorch module torch.optim provides many optimizers.\n",
        "\n",
        "An optimizer has an internal state to keep quantities such as moving averages, and operates on an iterator over Parameters.\n",
        "\n",
        "• Values specific to the optimizer can be specified to its constructor, and\n",
        "\n",
        "• its step method updates the internal state according to the grad attributes of the Parameters, and updates the latter according to the internal state.\n",
        "\n",
        "https://fleuret.org/ee559/ee559-slides-5-3-optim.pdf\n",
        "\n"
      ]
    },
    {
      "cell_type": "code",
      "metadata": {
        "id": "niiLpbVH7kK_",
        "colab_type": "code",
        "colab": {}
      },
      "source": [
        ""
      ],
      "execution_count": 0,
      "outputs": []
    },
    {
      "cell_type": "markdown",
      "metadata": {
        "id": "y8gFoIvn7kgD",
        "colab_type": "text"
      },
      "source": [
        "<h3> Data Generation </h3>\n"
      ]
    },
    {
      "cell_type": "code",
      "metadata": {
        "id": "aEifKfOA1R7l",
        "colab_type": "code",
        "outputId": "c1858129-a657-44d1-e140-9bcc84ebece5",
        "colab": {
          "base_uri": "https://localhost:8080/",
          "height": 34
        }
      },
      "source": [
        "data, labels = make_blobs(n_samples=1000, centers=4, n_features=2, random_state=0)\n",
        "print(data.shape, labels.shape)\n"
      ],
      "execution_count": 5,
      "outputs": [
        {
          "output_type": "stream",
          "text": [
            "(1000, 2) (1000,)\n"
          ],
          "name": "stdout"
        }
      ]
    },
    {
      "cell_type": "code",
      "metadata": {
        "id": "81ONTF3J_ggT",
        "colab_type": "code",
        "colab": {}
      },
      "source": [
        ""
      ],
      "execution_count": 0,
      "outputs": []
    },
    {
      "cell_type": "code",
      "metadata": {
        "id": "nwS0LSZQ_gRq",
        "colab_type": "code",
        "outputId": "d2f379df-7cfa-41e2-ec8e-104897b468e3",
        "colab": {
          "base_uri": "https://localhost:8080/",
          "height": 34
        }
      },
      "source": [
        "X_train, X_val, Y_train, Y_val = train_test_split(data, labels, stratify=labels, random_state=0)\n",
        "print(X_train.shape, X_val.shape, labels.shape)"
      ],
      "execution_count": 6,
      "outputs": [
        {
          "output_type": "stream",
          "text": [
            "(750, 2) (250, 2) (1000,)\n"
          ],
          "name": "stdout"
        }
      ]
    },
    {
      "cell_type": "code",
      "metadata": {
        "id": "E4q5QovJ_rPS",
        "colab_type": "code",
        "colab": {}
      },
      "source": [
        "X_train, Y_train, X_val, Y_val = map(torch.tensor, (X_train, Y_train, X_val, Y_val))\n"
      ],
      "execution_count": 0,
      "outputs": []
    },
    {
      "cell_type": "code",
      "metadata": {
        "id": "sG4qdVhD_uBw",
        "colab_type": "code",
        "colab": {}
      },
      "source": [
        "#https://stackoverflow.com/questions/56741087/how-to-fix-runtimeerror-expected-object-of-scalar-type-float-but-got-scalar-typ/56741419\n",
        "X_train = X_train.float()\n",
        "Y_train = Y_train.long()\n"
      ],
      "execution_count": 0,
      "outputs": []
    },
    {
      "cell_type": "code",
      "metadata": {
        "id": "Bh4IPH10_yvZ",
        "colab_type": "code",
        "colab": {}
      },
      "source": [
        ""
      ],
      "execution_count": 0,
      "outputs": []
    },
    {
      "cell_type": "code",
      "metadata": {
        "id": "dqD8Y7mV_yhv",
        "colab_type": "code",
        "colab": {}
      },
      "source": [
        ""
      ],
      "execution_count": 0,
      "outputs": []
    },
    {
      "cell_type": "markdown",
      "metadata": {
        "id": "xiGuBRsT7o-b",
        "colab_type": "text"
      },
      "source": [
        "<h3> Neural Network Class </h3>"
      ]
    },
    {
      "cell_type": "code",
      "metadata": {
        "id": "TvNl7Mmr1Rt-",
        "colab_type": "code",
        "colab": {}
      },
      "source": [
        "class TwoLayerNetwork(nn.Module):\n",
        "  def __init__(self):\n",
        "    super().__init__()\n",
        "    torch.manual_seed(0)\n",
        "    self.net = nn.Sequential(\n",
        "        nn.Linear(2,2),\n",
        "        nn.Sigmoid(),\n",
        "        nn.Linear(2,4),\n",
        "        nn.Softmax()\n",
        "    )\n",
        "  \n",
        "  def forward(self,X):\n",
        "    return self.net(X)"
      ],
      "execution_count": 0,
      "outputs": []
    },
    {
      "cell_type": "code",
      "metadata": {
        "id": "8L24AD1m1YDp",
        "colab_type": "code",
        "colab": {}
      },
      "source": [
        ""
      ],
      "execution_count": 0,
      "outputs": []
    },
    {
      "cell_type": "markdown",
      "metadata": {
        "id": "pPFuC-Lh7uY2",
        "colab_type": "text"
      },
      "source": [
        "<h3> Using Optim </h3>"
      ]
    },
    {
      "cell_type": "code",
      "metadata": {
        "id": "hOow_IOb-8Mx",
        "colab_type": "code",
        "colab": {}
      },
      "source": [
        "from torch import optim"
      ],
      "execution_count": 0,
      "outputs": []
    },
    {
      "cell_type": "code",
      "metadata": {
        "id": "4BjrmfzBAW10",
        "colab_type": "code",
        "colab": {}
      },
      "source": [
        "def accuracy(y_pred,y):\n",
        "  pred = torch.argmax(y_pred, dim=1)\n",
        "  return (pred == y).float().mean()\n"
      ],
      "execution_count": 0,
      "outputs": []
    },
    {
      "cell_type": "code",
      "metadata": {
        "id": "X0hGj831-8ko",
        "colab_type": "code",
        "colab": {}
      },
      "source": [
        "def fit_v1(epochs = 1000, learning_rate = 1):\n",
        "  loss_arr = []\n",
        "  acc_arr = []\n",
        "  opt = optim.SGD(fn.parameters(), lr=learning_rate)\n",
        "  \n",
        "  for epoch in range(epochs):\n",
        "    Y_pred = fn(X_train)\n",
        "    loss = F.cross_entropy(Y_pred, Y_train)\n",
        "    loss_arr.append(loss.item())\n",
        "    acc_arr.append(accuracy(Y_pred, Y_train))\n",
        "\n",
        "    loss.backward()\n",
        "    opt.step() # Update all the parameters\n",
        "    opt.zero_grad() # Make all gradients zero\n",
        "        \n",
        "  plt.plot(loss_arr, 'r-')\n",
        "  plt.plot(acc_arr, 'b-')\n",
        "  plt.show()      \n",
        "  print('Loss before training', loss_arr[0])\n",
        "  print('Loss after training', loss_arr[-1])"
      ],
      "execution_count": 0,
      "outputs": []
    },
    {
      "cell_type": "code",
      "metadata": {
        "id": "wWJmmquQ_69L",
        "colab_type": "code",
        "colab": {}
      },
      "source": [
        "fn = TwoLayerNetwork()"
      ],
      "execution_count": 0,
      "outputs": []
    },
    {
      "cell_type": "code",
      "metadata": {
        "id": "QJJUpnSyABtI",
        "colab_type": "code",
        "outputId": "6cc47e66-e3d9-4a67-b341-86c86968debd",
        "colab": {
          "base_uri": "https://localhost:8080/",
          "height": 352
        }
      },
      "source": [
        "fit_v1()"
      ],
      "execution_count": 14,
      "outputs": [
        {
          "output_type": "stream",
          "text": [
            "/usr/local/lib/python3.6/dist-packages/torch/nn/modules/container.py:92: UserWarning: Implicit dimension choice for softmax has been deprecated. Change the call to include dim=X as an argument.\n",
            "  input = module(input)\n"
          ],
          "name": "stderr"
        },
        {
          "output_type": "display_data",
          "data": {
            "image/png": "[encoded data removed]",
            "text/plain": [
              "<Figure size 432x288 with 1 Axes>"
            ]
          },
          "metadata": {
            "tags": []
          }
        },
        {
          "output_type": "stream",
          "text": [
            "Loss before training 1.395160436630249\n",
            "Loss after training 0.8738410472869873\n"
          ],
          "name": "stdout"
        }
      ]
    },
    {
      "cell_type": "code",
      "metadata": {
        "id": "1pRlEhMRAUrI",
        "colab_type": "code",
        "colab": {}
      },
      "source": [
        ""
      ],
      "execution_count": 0,
      "outputs": []
    },
    {
      "cell_type": "code",
      "metadata": {
        "id": "WKHevP8gAhhX",
        "colab_type": "code",
        "colab": {}
      },
      "source": [
        "def fit_v2(x,y,model,opt, loss_fn,epochs=5000):\n",
        "  for epoch in range(epochs):\n",
        "    loss = loss_fn(model(x),y)\n",
        "\n",
        "    loss.backward()\n",
        "    opt.step()\n",
        "    opt.zero_grad()\n",
        "    \n",
        "  return loss.item()\n"
      ],
      "execution_count": 0,
      "outputs": []
    },
    {
      "cell_type": "code",
      "metadata": {
        "id": "Yyn5jPd3BBic",
        "colab_type": "code",
        "outputId": "9dbc0cc0-690d-4d1c-f025-50b5adc05f5c",
        "colab": {
          "base_uri": "https://localhost:8080/",
          "height": 87
        }
      },
      "source": [
        "fn = TwoLayerNetwork()\n",
        "loss_fn = F.cross_entropy\n",
        "opt = optim.SGD(fn.parameters(), lr=1)\n",
        "fit_v2(X_train, Y_train, fn, opt, loss_fn)"
      ],
      "execution_count": 16,
      "outputs": [
        {
          "output_type": "stream",
          "text": [
            "/usr/local/lib/python3.6/dist-packages/torch/nn/modules/container.py:92: UserWarning: Implicit dimension choice for softmax has been deprecated. Change the call to include dim=X as an argument.\n",
            "  input = module(input)\n"
          ],
          "name": "stderr"
        },
        {
          "output_type": "execute_result",
          "data": {
            "text/plain": [
              "0.8406463861465454"
            ]
          },
          "metadata": {
            "tags": []
          },
          "execution_count": 16
        }
      ]
    },
    {
      "cell_type": "markdown",
      "metadata": {
        "id": "wIdrGART8Cle",
        "colab_type": "text"
      },
      "source": [
        "Instead of Stochastic gradient descent, lets try Adam"
      ]
    },
    {
      "cell_type": "code",
      "metadata": {
        "id": "FLExE656BKNC",
        "colab_type": "code",
        "outputId": "3e20aea7-a659-42cd-f02b-6bbd0096cfbd",
        "colab": {
          "base_uri": "https://localhost:8080/",
          "height": 87
        }
      },
      "source": [
        "opt = optim.Adam(fn.parameters(), lr = 1)\n",
        "fit_v2(X_train, Y_train, fn, opt, loss_fn)"
      ],
      "execution_count": 17,
      "outputs": [
        {
          "output_type": "stream",
          "text": [
            "/usr/local/lib/python3.6/dist-packages/torch/nn/modules/container.py:92: UserWarning: Implicit dimension choice for softmax has been deprecated. Change the call to include dim=X as an argument.\n",
            "  input = module(input)\n"
          ],
          "name": "stderr"
        },
        {
          "output_type": "execute_result",
          "data": {
            "text/plain": [
              "0.8239385485649109"
            ]
          },
          "metadata": {
            "tags": []
          },
          "execution_count": 17
        }
      ]
    },
    {
      "cell_type": "code",
      "metadata": {
        "id": "Vpyvtp57DdQj",
        "colab_type": "code",
        "colab": {}
      },
      "source": [
        ""
      ],
      "execution_count": 0,
      "outputs": []
    }
  ]
}