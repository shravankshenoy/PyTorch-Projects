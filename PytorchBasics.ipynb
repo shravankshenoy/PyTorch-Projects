{
  "nbformat": 4,
  "nbformat_minor": 0,
  "metadata": {
    "colab": {
      "name": "PytorchBasics.ipynb",
      "provenance": [],
      "collapsed_sections": []
    },
    "kernelspec": {
      "name": "python3",
      "display_name": "Python 3"
    },
    "accelerator": "GPU"
  },
  "cells": [
    {
      "cell_type": "code",
      "metadata": {
        "id": "ht0UGgsH1srN",
        "colab_type": "code",
        "colab": {}
      },
      "source": [
        "import torch"
      ],
      "execution_count": 0,
      "outputs": []
    },
    {
      "cell_type": "code",
      "metadata": {
        "id": "N34J5rANYCxG",
        "colab_type": "code",
        "colab": {}
      },
      "source": [
        "import numpy as np"
      ],
      "execution_count": 0,
      "outputs": []
    },
    {
      "cell_type": "code",
      "metadata": {
        "id": "5TJSC-G0Wq2f",
        "colab_type": "code",
        "colab": {}
      },
      "source": [
        ""
      ],
      "execution_count": 0,
      "outputs": []
    },
    {
      "cell_type": "code",
      "metadata": {
        "id": "ZnMDcCT7Wqhf",
        "colab_type": "code",
        "colab": {}
      },
      "source": [
        ""
      ],
      "execution_count": 0,
      "outputs": []
    },
    {
      "cell_type": "markdown",
      "metadata": {
        "id": "RzFft24BYC9d",
        "colab_type": "text"
      },
      "source": [
        "\n",
        "<h4>Initialise Tensors</h4>"
      ]
    },
    {
      "cell_type": "code",
      "metadata": {
        "id": "wfacOmN9X2DF",
        "colab_type": "code",
        "outputId": "36a20d29-1152-4f4a-9487-cd16b8c86700",
        "colab": {
          "base_uri": "https://localhost:8080/",
          "height": 168
        }
      },
      "source": [
        "#Very similar to numpy\n",
        "x = torch.ones(3,2)\n",
        "print(x)\n",
        "x = torch.zeros(3,2)\n",
        "print(x)\n",
        "x = torch.rand(3,2)\n",
        "print(x)"
      ],
      "execution_count": 0,
      "outputs": [
        {
          "output_type": "stream",
          "text": [
            "tensor([[1., 1.],\n",
            "        [1., 1.],\n",
            "        [1., 1.]])\n",
            "tensor([[0., 0.],\n",
            "        [0., 0.],\n",
            "        [0., 0.]])\n",
            "tensor([[0.4314, 0.6093],\n",
            "        [0.5824, 0.3908],\n",
            "        [0.8770, 0.7935]])\n"
          ],
          "name": "stdout"
        }
      ]
    },
    {
      "cell_type": "code",
      "metadata": {
        "id": "CfuTdi5ZYA-x",
        "colab_type": "code",
        "outputId": "f061a996-dabd-4bb8-cdca-ee20e932e6a7",
        "colab": {
          "base_uri": "https://localhost:8080/",
          "height": 118
        }
      },
      "source": [
        "x =torch.empty(3,2) #Returns a tensor filled with uninitialised data \n",
        "print(x)\n",
        "y = torch.zeros_like(x) # equivalent to torch.zeros(x.size())\n",
        "print(y)\n"
      ],
      "execution_count": 0,
      "outputs": [
        {
          "output_type": "stream",
          "text": [
            "tensor([[4.5402e+14, 0.0000e+00],\n",
            "        [4.4842e-44, 0.0000e+00],\n",
            "        [       nan, 0.0000e+00]])\n",
            "tensor([[0., 0.],\n",
            "        [0., 0.],\n",
            "        [0., 0.]])\n"
          ],
          "name": "stdout"
        }
      ]
    },
    {
      "cell_type": "code",
      "metadata": {
        "id": "cchfZAztYSRY",
        "colab_type": "code",
        "outputId": "9225e864-3e8d-4447-f0e2-3f6132de3e0f",
        "colab": {
          "base_uri": "https://localhost:8080/",
          "height": 34
        }
      },
      "source": [
        "x = torch.linspace(0, 1, steps=5)\n",
        "print(x)"
      ],
      "execution_count": 0,
      "outputs": [
        {
          "output_type": "stream",
          "text": [
            "tensor([0.0000, 0.2500, 0.5000, 0.7500, 1.0000])\n"
          ],
          "name": "stdout"
        }
      ]
    },
    {
      "cell_type": "code",
      "metadata": {
        "id": "qV97TGe5ZW6K",
        "colab_type": "code",
        "outputId": "7a514336-67bb-4d1b-f1bc-993b9a274470",
        "colab": {
          "base_uri": "https://localhost:8080/",
          "height": 67
        }
      },
      "source": [
        "x = torch.tensor([[1, 2], \n",
        "                 [3, 4], \n",
        "                 [5, 6]])\n",
        "print(x)"
      ],
      "execution_count": 0,
      "outputs": [
        {
          "output_type": "stream",
          "text": [
            "tensor([[1, 2],\n",
            "        [3, 4],\n",
            "        [5, 6]])\n"
          ],
          "name": "stdout"
        }
      ]
    },
    {
      "cell_type": "code",
      "metadata": {
        "id": "TfAq4AV5ZY-G",
        "colab_type": "code",
        "colab": {}
      },
      "source": [
        ""
      ],
      "execution_count": 0,
      "outputs": []
    },
    {
      "cell_type": "markdown",
      "metadata": {
        "id": "P67-HqT0Zck-",
        "colab_type": "text"
      },
      "source": [
        "<h4>Slicing Tensors</h4>\n"
      ]
    },
    {
      "cell_type": "code",
      "metadata": {
        "id": "irmpXwhmZd5Y",
        "colab_type": "code",
        "outputId": "f65ef34f-b9ae-4701-a2ff-20c2ed4983bd",
        "colab": {
          "base_uri": "https://localhost:8080/",
          "height": 50
        }
      },
      "source": [
        "print(x.size())\n",
        "print(x[:,1]) # all rows second column i.e column corresponding to index 1"
      ],
      "execution_count": 0,
      "outputs": [
        {
          "output_type": "stream",
          "text": [
            "torch.Size([3, 2])\n",
            "tensor([2, 4, 6])\n"
          ],
          "name": "stdout"
        }
      ]
    },
    {
      "cell_type": "code",
      "metadata": {
        "id": "fmCKFCfBZ027",
        "colab_type": "code",
        "outputId": "b4de7983-cbc9-400d-eaaf-d72f988fc09a",
        "colab": {
          "base_uri": "https://localhost:8080/",
          "height": 50
        }
      },
      "source": [
        "y = x[2,1]\n",
        "print(y)\n",
        "print(y.item())"
      ],
      "execution_count": 0,
      "outputs": [
        {
          "output_type": "stream",
          "text": [
            "tensor(6)\n",
            "6\n"
          ],
          "name": "stdout"
        }
      ]
    },
    {
      "cell_type": "code",
      "metadata": {
        "id": "sygTqPMBZ4QY",
        "colab_type": "code",
        "outputId": "e07f5010-5617-4f70-e6d7-67cd2dc65949",
        "colab": {
          "base_uri": "https://localhost:8080/",
          "height": 118
        }
      },
      "source": [
        "y = x.view(6,-1) # similar to numpy reshape\n",
        "print(y)"
      ],
      "execution_count": 0,
      "outputs": [
        {
          "output_type": "stream",
          "text": [
            "tensor([[1],\n",
            "        [2],\n",
            "        [3],\n",
            "        [4],\n",
            "        [5],\n",
            "        [6]])\n"
          ],
          "name": "stdout"
        }
      ]
    },
    {
      "cell_type": "code",
      "metadata": {
        "id": "gsmBkY1uXIRl",
        "colab_type": "code",
        "colab": {}
      },
      "source": [
        ""
      ],
      "execution_count": 0,
      "outputs": []
    },
    {
      "cell_type": "markdown",
      "metadata": {
        "id": "ikKCf6hNhpyw",
        "colab_type": "text"
      },
      "source": [
        "<h4>Tensor Operations</h4>"
      ]
    },
    {
      "cell_type": "code",
      "metadata": {
        "id": "KzE6-pbraDbd",
        "colab_type": "code",
        "colab": {}
      },
      "source": [
        "x = torch.ones(3,2)\n",
        "y = torch.ones(3,2)"
      ],
      "execution_count": 0,
      "outputs": []
    },
    {
      "cell_type": "code",
      "metadata": {
        "id": "iMiyM47maMJX",
        "colab_type": "code",
        "outputId": "771e8c0b-c7d2-4379-ce22-ef610f9915dd",
        "colab": {
          "base_uri": "https://localhost:8080/",
          "height": 118
        }
      },
      "source": [
        "z =x+y\n",
        "print(z)\n",
        "z = x*y  # element wise multiplication\n",
        "print(z)\n"
      ],
      "execution_count": 0,
      "outputs": [
        {
          "output_type": "stream",
          "text": [
            "tensor([[2., 2.],\n",
            "        [2., 2.],\n",
            "        [2., 2.]])\n",
            "tensor([[1., 1.],\n",
            "        [1., 1.],\n",
            "        [1., 1.]])\n"
          ],
          "name": "stdout"
        }
      ]
    },
    {
      "cell_type": "code",
      "metadata": {
        "id": "qnxE93tyhx6c",
        "colab_type": "code",
        "outputId": "28c76fb5-79a7-4cdb-8bfa-ef4bc9f66474",
        "colab": {
          "base_uri": "https://localhost:8080/",
          "height": 218
        }
      },
      "source": [
        "z = y.add(x) # adds x (tensor argument) to y and does not affect y\n",
        "\n",
        "print(y)\n",
        "print(z)\n",
        "\n",
        "z = y.add_(x) # adds x (tensor argument) to y and changes the value of y (to the sum)\n",
        "print(y)\n",
        "print(z)"
      ],
      "execution_count": 0,
      "outputs": [
        {
          "output_type": "stream",
          "text": [
            "tensor([[1., 1.],\n",
            "        [1., 1.],\n",
            "        [1., 1.]])\n",
            "tensor([[2., 2.],\n",
            "        [2., 2.],\n",
            "        [2., 2.]])\n",
            "tensor([[2., 2.],\n",
            "        [2., 2.],\n",
            "        [2., 2.]])\n",
            "tensor([[2., 2.],\n",
            "        [2., 2.],\n",
            "        [2., 2.]])\n"
          ],
          "name": "stdout"
        }
      ]
    },
    {
      "cell_type": "code",
      "metadata": {
        "id": "3vf_3vGbiNbJ",
        "colab_type": "code",
        "colab": {}
      },
      "source": [
        ""
      ],
      "execution_count": 0,
      "outputs": []
    },
    {
      "cell_type": "code",
      "metadata": {
        "id": "8_2SvnslXF9o",
        "colab_type": "code",
        "colab": {}
      },
      "source": [
        ""
      ],
      "execution_count": 0,
      "outputs": []
    },
    {
      "cell_type": "markdown",
      "metadata": {
        "id": "LitsJPXGi9mA",
        "colab_type": "text"
      },
      "source": [
        "<h4>NUMPY vs PYTORCH</h4>"
      ]
    },
    {
      "cell_type": "code",
      "metadata": {
        "id": "rjzlNUmMi_X6",
        "colab_type": "code",
        "outputId": "1617021f-65a8-476a-b587-707bf2bf880b",
        "colab": {
          "base_uri": "https://localhost:8080/",
          "height": 84
        }
      },
      "source": [
        "# Converting pytorch to numpy\n",
        "x_np = x.numpy()\n",
        "print(type(x), type(x_np))\n",
        "print(x_np)"
      ],
      "execution_count": 0,
      "outputs": [
        {
          "output_type": "stream",
          "text": [
            "<class 'torch.Tensor'> <class 'numpy.ndarray'>\n",
            "[[1. 1.]\n",
            " [1. 1.]\n",
            " [1. 1.]]\n"
          ],
          "name": "stdout"
        }
      ]
    },
    {
      "cell_type": "code",
      "metadata": {
        "id": "AtMuy4DLjWwC",
        "colab_type": "code",
        "outputId": "fb345ebe-890b-4aab-c149-1fa853d2f0fc",
        "colab": {
          "base_uri": "https://localhost:8080/",
          "height": 50
        }
      },
      "source": [
        "a = np.random.randn(4)\n",
        "print(a)\n",
        "a_pt = torch.from_numpy(a)\n",
        "print(a_pt)"
      ],
      "execution_count": 0,
      "outputs": [
        {
          "output_type": "stream",
          "text": [
            "[ 0.47661568 -0.41294102  0.25143192 -0.11363291]\n",
            "tensor([ 0.4766, -0.4129,  0.2514, -0.1136], dtype=torch.float64)\n"
          ],
          "name": "stdout"
        }
      ]
    },
    {
      "cell_type": "code",
      "metadata": {
        "id": "izWFV12kjhDe",
        "colab_type": "code",
        "outputId": "aa8b5d2e-e3a9-4837-f044-40b1aaa7cf99",
        "colab": {
          "base_uri": "https://localhost:8080/",
          "height": 50
        }
      },
      "source": [
        "# When converting a numpy array to a torch tensor using torch.from_numpy, the generated tensor and \n",
        "# the numpy array share the same memory\n",
        "\n",
        "np.add(a, 1, out=a)\n",
        "print(a)\n",
        "print(a_pt) "
      ],
      "execution_count": 0,
      "outputs": [
        {
          "output_type": "stream",
          "text": [
            "[1.47661568 0.58705898 1.25143192 0.88636709]\n",
            "tensor([1.4766, 0.5871, 1.2514, 0.8864], dtype=torch.float64)\n"
          ],
          "name": "stdout"
        }
      ]
    },
    {
      "cell_type": "code",
      "metadata": {
        "id": "tzFx0_goj3UY",
        "colab_type": "code",
        "outputId": "d6ee5797-d42a-430d-a54c-aa6eaa7cc720",
        "colab": {
          "base_uri": "https://localhost:8080/",
          "height": 50
        }
      },
      "source": [
        "%%time\n",
        "for i in range(100):\n",
        "  a = np.random.randn(100,100)\n",
        "  b = np.random.randn(100,100)\n",
        "  c = np.matmul(a, b)"
      ],
      "execution_count": 0,
      "outputs": [
        {
          "output_type": "stream",
          "text": [
            "CPU times: user 163 ms, sys: 106 ms, total: 269 ms\n",
            "Wall time: 142 ms\n"
          ],
          "name": "stdout"
        }
      ]
    },
    {
      "cell_type": "code",
      "metadata": {
        "id": "1n7m0mYRkKVd",
        "colab_type": "code",
        "outputId": "c136df67-b747-4f0f-cde0-ab8a51a53749",
        "colab": {
          "base_uri": "https://localhost:8080/",
          "height": 50
        }
      },
      "source": [
        "%%time\n",
        "for i in range(100):\n",
        "  a = torch.randn(100, 100)\n",
        "  b = torch.randn(100, 100)\n",
        "  c = torch.matmul(a, b)"
      ],
      "execution_count": 0,
      "outputs": [
        {
          "output_type": "stream",
          "text": [
            "CPU times: user 26.1 ms, sys: 1.99 ms, total: 28 ms\n",
            "Wall time: 34.4 ms\n"
          ],
          "name": "stdout"
        }
      ]
    },
    {
      "cell_type": "markdown",
      "metadata": {
        "id": "PsCQSXe5kQsM",
        "colab_type": "text"
      },
      "source": [
        "Note that PyTorch runs faster than Numpy on CPU itself (almost 4x speed)"
      ]
    },
    {
      "cell_type": "code",
      "metadata": {
        "id": "wfwOY44hkNtO",
        "colab_type": "code",
        "outputId": "50182ed7-cffd-4ce1-d611-0880d0207e83",
        "colab": {
          "base_uri": "https://localhost:8080/",
          "height": 50
        }
      },
      "source": [
        "%%time\n",
        "for i in range(10):\n",
        "#  a = np.random.randn(10000,10000)\n",
        "#  b = np.random.randn(10000,10000)\n",
        "#  c = a + b"
      ],
      "execution_count": 0,
      "outputs": [
        {
          "output_type": "stream",
          "text": [
            "CPU times: user 1min 34s, sys: 1.37 s, total: 1min 36s\n",
            "Wall time: 1min 36s\n"
          ],
          "name": "stdout"
        }
      ]
    },
    {
      "cell_type": "code",
      "metadata": {
        "id": "GAvl6Pb2koCX",
        "colab_type": "code",
        "outputId": "745c27cc-5104-4c60-9e88-b5c0df0e5c61",
        "colab": {
          "base_uri": "https://localhost:8080/",
          "height": 50
        }
      },
      "source": [
        "%%time\n",
        "for i in range(10):\n",
        "  a = torch.randn([10000, 10000])  \n",
        "  b = torch.randn([10000, 10000])\n",
        "  c = a + b"
      ],
      "execution_count": 27,
      "outputs": [
        {
          "output_type": "stream",
          "text": [
            "CPU times: user 14.5 s, sys: 845 ms, total: 15.3 s\n",
            "Wall time: 15.4 s\n"
          ],
          "name": "stdout"
        }
      ]
    },
    {
      "cell_type": "markdown",
      "metadata": {
        "id": "tPK6W--9lTbO",
        "colab_type": "text"
      },
      "source": [
        "Adding 2 10000 x 10000 matrices 10 times takes 100 s using Numpy but just 16 s using PyTorch on CPU"
      ]
    },
    {
      "cell_type": "code",
      "metadata": {
        "id": "EDfKnL1mlIhN",
        "colab_type": "code",
        "colab": {}
      },
      "source": [
        ""
      ],
      "execution_count": 0,
      "outputs": []
    },
    {
      "cell_type": "markdown",
      "metadata": {
        "id": "jxMRql0plpBq",
        "colab_type": "text"
      },
      "source": [
        "<h4>Using CUDA i.e GPU </h4>"
      ]
    },
    {
      "cell_type": "code",
      "metadata": {
        "id": "_N8n7a97lsvu",
        "colab_type": "code",
        "outputId": "edf86537-d962-4405-92ce-bee1291ba753",
        "colab": {
          "base_uri": "https://localhost:8080/",
          "height": 34
        }
      },
      "source": [
        "print(torch.cuda.device_count())"
      ],
      "execution_count": 0,
      "outputs": [
        {
          "output_type": "stream",
          "text": [
            "1\n"
          ],
          "name": "stdout"
        }
      ]
    },
    {
      "cell_type": "code",
      "metadata": {
        "id": "cNEPDdBIlyad",
        "colab_type": "code",
        "outputId": "67688478-b2e7-42d6-85f3-efbf502115cc",
        "colab": {
          "base_uri": "https://localhost:8080/",
          "height": 50
        }
      },
      "source": [
        "print(torch.cuda.device(0))\n",
        "print(torch.cuda.get_device_name(0))"
      ],
      "execution_count": 0,
      "outputs": [
        {
          "output_type": "stream",
          "text": [
            "<torch.cuda.device object at 0x7f9dd2e857f0>\n",
            "Tesla P100-PCIE-16GB\n"
          ],
          "name": "stdout"
        }
      ]
    },
    {
      "cell_type": "code",
      "metadata": {
        "id": "nITLVM2Pl9a6",
        "colab_type": "code",
        "colab": {}
      },
      "source": [
        "cuda0 = torch.device('cuda:0')"
      ],
      "execution_count": 0,
      "outputs": []
    },
    {
      "cell_type": "code",
      "metadata": {
        "id": "zK8ytc9QmIRq",
        "colab_type": "code",
        "outputId": "35edfa49-ad86-4b76-9dc4-9901f2173ed0",
        "colab": {
          "base_uri": "https://localhost:8080/",
          "height": 67
        }
      },
      "source": [
        "a  = torch.randn([3,4], device = cuda0)\n",
        "b =  torch.randn([3,4], device = cuda0)\n",
        "c = a+b\n",
        "print(c) # Observe device='cuda:0' in ouput"
      ],
      "execution_count": 0,
      "outputs": [
        {
          "output_type": "stream",
          "text": [
            "tensor([[ 1.7822, -0.1146, -1.0174,  3.7797],\n",
            "        [-0.5334,  0.6524,  0.8704,  0.5706],\n",
            "        [-0.6381,  1.6469, -1.3934,  1.2304]], device='cuda:0')\n"
          ],
          "name": "stdout"
        }
      ]
    },
    {
      "cell_type": "code",
      "metadata": {
        "id": "p2ARpFZYmdrR",
        "colab_type": "code",
        "outputId": "fe0c0109-70a7-4e63-da04-7e0f60036255",
        "colab": {
          "base_uri": "https://localhost:8080/",
          "height": 50
        }
      },
      "source": [
        "%%time\n",
        "for i in range(10):\n",
        "  a  = torch.randn([10000,10000], device = cuda0)\n",
        "  b =  torch.randn([10000,10000], device = cuda0)\n",
        "  c = b.add(a)"
      ],
      "execution_count": 0,
      "outputs": [
        {
          "output_type": "stream",
          "text": [
            "CPU times: user 921 µs, sys: 2.61 ms, total: 3.53 ms\n",
            "Wall time: 6.44 ms\n"
          ],
          "name": "stdout"
        }
      ]
    },
    {
      "cell_type": "markdown",
      "metadata": {
        "id": "fxPXlxPcncc9",
        "colab_type": "text"
      },
      "source": [
        "Adding 2 matrices of order 10000 X 10000 toom just 2.44 ms using Pytorch on GPU unlike 20 s using pytorch on CPU"
      ]
    },
    {
      "cell_type": "code",
      "metadata": {
        "id": "DzDlo6ceXoZ-",
        "colab_type": "code",
        "colab": {}
      },
      "source": [
        ""
      ],
      "execution_count": 0,
      "outputs": []
    },
    {
      "cell_type": "markdown",
      "metadata": {
        "id": "vSxFyKTPn20f",
        "colab_type": "text"
      },
      "source": [
        "<h4>Autodiff / Autograd</h4>"
      ]
    },
    {
      "cell_type": "markdown",
      "metadata": {
        "id": "g2Pj9fZ2Xw8M",
        "colab_type": "text"
      },
      "source": [
        ""
      ]
    },
    {
      "cell_type": "code",
      "metadata": {
        "id": "NXBNjw_em6Pn",
        "colab_type": "code",
        "colab": {}
      },
      "source": [
        "x = torch.ones([3,2], requires_grad = True)"
      ],
      "execution_count": 0,
      "outputs": []
    },
    {
      "cell_type": "code",
      "metadata": {
        "id": "jl9dkAtXEw7z",
        "colab_type": "code",
        "colab": {}
      },
      "source": [
        "y = 3*x + 5"
      ],
      "execution_count": 0,
      "outputs": []
    },
    {
      "cell_type": "code",
      "metadata": {
        "id": "Jo-O9klPE-XI",
        "colab_type": "code",
        "outputId": "e8221347-441f-4fff-9ada-66b271685d5b",
        "colab": {
          "base_uri": "https://localhost:8080/",
          "height": 67
        }
      },
      "source": [
        "print(y)"
      ],
      "execution_count": 0,
      "outputs": [
        {
          "output_type": "stream",
          "text": [
            "tensor([[8., 8.],\n",
            "        [8., 8.],\n",
            "        [8., 8.]], grad_fn=<AddBackward0>)\n"
          ],
          "name": "stdout"
        }
      ]
    },
    {
      "cell_type": "code",
      "metadata": {
        "id": "Knes0k1wFAlX",
        "colab_type": "code",
        "colab": {}
      },
      "source": [
        "z = y * y"
      ],
      "execution_count": 0,
      "outputs": []
    },
    {
      "cell_type": "code",
      "metadata": {
        "id": "vQ4Of2tXFD5n",
        "colab_type": "code",
        "colab": {}
      },
      "source": [
        "#Grad can only be created for scalar inputs\n",
        "s = torch.sum(z)"
      ],
      "execution_count": 0,
      "outputs": []
    },
    {
      "cell_type": "code",
      "metadata": {
        "id": "wKfKJgQ0FJtj",
        "colab_type": "code",
        "colab": {}
      },
      "source": [
        "s.backward()"
      ],
      "execution_count": 0,
      "outputs": []
    },
    {
      "cell_type": "code",
      "metadata": {
        "id": "GUrGcsZnFYgw",
        "colab_type": "code",
        "outputId": "715d3228-d464-4fdf-93bd-62937bbbb217",
        "colab": {
          "base_uri": "https://localhost:8080/",
          "height": 67
        }
      },
      "source": [
        "print(x.grad)"
      ],
      "execution_count": 0,
      "outputs": [
        {
          "output_type": "stream",
          "text": [
            "tensor([[48., 48.],\n",
            "        [48., 48.],\n",
            "        [48., 48.]])\n"
          ],
          "name": "stdout"
        }
      ]
    },
    {
      "cell_type": "markdown",
      "metadata": {
        "id": "MkCWMrCjJUcm",
        "colab_type": "text"
      },
      "source": [
        "$s = \\sum_i z_i, z_i = y_i^2, y_i =3 * x_i + 5$\n",
        "\n",
        "$\\frac{\\partial s}{\\partial x_i} = \\frac{\\partial z_i}{\\partial x_i} = \\frac{\\partial z_i}{\\partial y_i} \\frac{\\partial y_i}{\\partial x_i} = 2y_i \\times 3$\n"
      ]
    },
    {
      "cell_type": "code",
      "metadata": {
        "id": "T3X2f35SFanv",
        "colab_type": "code",
        "colab": {}
      },
      "source": [
        ""
      ],
      "execution_count": 0,
      "outputs": []
    },
    {
      "cell_type": "code",
      "metadata": {
        "id": "ZmcQykwPXzWY",
        "colab_type": "code",
        "colab": {}
      },
      "source": [
        ""
      ],
      "execution_count": 0,
      "outputs": []
    },
    {
      "cell_type": "markdown",
      "metadata": {
        "id": "SLyITfN2Xzwz",
        "colab_type": "text"
      },
      "source": [
        "<h4> Gradient Descent using Pytorch </h4>"
      ]
    },
    {
      "cell_type": "code",
      "metadata": {
        "id": "0bMo2mJR__25",
        "colab_type": "code",
        "colab": {}
      },
      "source": [
        "# Model parameters, w and b\n",
        "w = torch.tensor([1.], requires_grad = True)\n",
        "b = torch.tensor([1.], requires_grad = True)"
      ],
      "execution_count": 0,
      "outputs": []
    },
    {
      "cell_type": "code",
      "metadata": {
        "id": "wiekpDFHA885",
        "colab_type": "code",
        "colab": {}
      },
      "source": [
        "#Input data and corresponding output data\n",
        "\n",
        "x = torch.randn([20,1])\n",
        "y = 3*x + 2\n",
        "  "
      ],
      "execution_count": 0,
      "outputs": []
    },
    {
      "cell_type": "markdown",
      "metadata": {
        "id": "axNp13C8VFDv",
        "colab_type": "text"
      },
      "source": [
        "Note that the true value of w and b are 3 and 2. But we pretend that we do not know the true values and start w and b with initial values of 1 and train the model"
      ]
    },
    {
      "cell_type": "code",
      "metadata": {
        "id": "TF4O_ZzZArcf",
        "colab_type": "code",
        "outputId": "4d1830db-b0fb-4398-8e80-2304151ff025",
        "colab": {
          "base_uri": "https://localhost:8080/",
          "height": 185
        }
      },
      "source": [
        "for i in range(10):\n",
        "\n",
        "  y_pred = w*x + b\n",
        "  #Squared error loss\n",
        "  loss = torch.sum((y_pred - y)**2)\n",
        "\n",
        "  #Compute gradient of loss w.r.t w and b\n",
        "  loss.backward()\n",
        "  \n",
        "  #Print weight and bias\n",
        "  print(w.item() , b.item())\n",
        "\n",
        "  with torch.no_grad():\n",
        "    w -= 0.01 * w.grad # Do not write w = w - 0.01* w.grad https://discuss.pytorch.org/t/strange-problem-when-manually-gradient-descent/24138\n",
        "    b -= 0.01 * b.grad\n",
        "\n",
        "    w.grad.zero_()\n",
        "    b.grad.zero_()\n",
        "\n"
      ],
      "execution_count": 0,
      "outputs": [
        {
          "output_type": "stream",
          "text": [
            "1.0 1.0\n",
            "2.0329179763793945 1.519454002380371\n",
            "2.5321974754333496 1.7694332599639893\n",
            "2.773599147796631 1.889600396156311\n",
            "2.8903586864471436 1.9472824335098267\n",
            "2.9468584060668945 1.974918007850647\n",
            "2.974215030670166 1.9881248474121094\n",
            "2.987471103668213 1.9944149255752563\n",
            "2.993901252746582 1.9973973035812378\n",
            "2.9970242977142334 1.998802661895752\n"
          ],
          "name": "stdout"
        }
      ]
    },
    {
      "cell_type": "markdown",
      "metadata": {
        "id": "eXVIWHG7Vprg",
        "colab_type": "text"
      },
      "source": [
        "Observe how the values of w and b converge towards the true values as the model training progress"
      ]
    },
    {
      "cell_type": "code",
      "metadata": {
        "colab_type": "code",
        "id": "LrhAmqNKWlJ9",
        "colab": {}
      },
      "source": [
        ""
      ],
      "execution_count": 0,
      "outputs": []
    },
    {
      "cell_type": "markdown",
      "metadata": {
        "id": "zaf4rYiyZO0x",
        "colab_type": "text"
      },
      "source": [
        "I changed the following 2 lines as I thought they were the same, that is instead of this:\n",
        "\n",
        "with torch.no_grad():    \n",
        "\n",
        "          w -= 0.01 * w.grad   \n",
        "\n",
        "          b -= 0.01 * b.grad\n",
        "   \n",
        "\n",
        "I wrote \n",
        "\n",
        "with torch.no_grad():    \n",
        "\n",
        "          w = w -  0.01 * w.grad   \n",
        "\n",
        "          b = b  -  0.01 * b.grad\n",
        "\n",
        "However it gave error: NoneType' object has no attribute 'zero_'. \n",
        "\n",
        "Later I got to know that the first code does an inplace operation whereas the second code creates a new w without the requires_grad parameter set. So ensure that you do it the first way itself. \n",
        "\n",
        "https://discuss.pytorch.org/t/strange-problem-when-manually-gradient-descent/24138 "
      ]
    },
    {
      "cell_type": "code",
      "metadata": {
        "id": "_WIWWpccHNdS",
        "colab_type": "code",
        "colab": {}
      },
      "source": [
        ""
      ],
      "execution_count": 0,
      "outputs": []
    }
  ]
}