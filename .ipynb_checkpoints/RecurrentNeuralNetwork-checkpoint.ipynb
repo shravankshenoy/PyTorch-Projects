{
 "cells": [
  {
   "cell_type": "code",
   "execution_count": 0,
   "metadata": {
    "colab": {},
    "colab_type": "code",
    "id": "WbHKXUDFNmBP"
   },
   "outputs": [],
   "source": [
    "from io import open\n",
    "import os, string, random, time, math\n",
    "import matplotlib.pyplot as plt\n",
    "import seaborn as sns\n",
    "import numpy as np"
   ]
  },
  {
   "cell_type": "code",
   "execution_count": 0,
   "metadata": {
    "colab": {},
    "colab_type": "code",
    "id": "rBXnR_W8N98t"
   },
   "outputs": [],
   "source": [
    "from sklearn.model_selection import train_test_split"
   ]
  },
  {
   "cell_type": "code",
   "execution_count": 0,
   "metadata": {
    "colab": {},
    "colab_type": "code",
    "id": "4P3G4j6pOAcg"
   },
   "outputs": [],
   "source": [
    "import torch\n",
    "import torch.nn as nn\n",
    "import torch.optim as optim"
   ]
  },
  {
   "cell_type": "code",
   "execution_count": 0,
   "metadata": {
    "colab": {},
    "colab_type": "code",
    "id": "DM8-SKmDOCdV"
   },
   "outputs": [],
   "source": [
    "from IPython.display import clear_output"
   ]
  },
  {
   "cell_type": "code",
   "execution_count": 0,
   "metadata": {
    "colab": {},
    "colab_type": "code",
    "id": "DH4QW1UqOMlx"
   },
   "outputs": [],
   "source": []
  },
  {
   "cell_type": "markdown",
   "metadata": {
    "colab_type": "text",
    "id": "8NVFXR5cwPIq"
   },
   "source": [
    "Task: Language Classification"
   ]
  },
  {
   "cell_type": "markdown",
   "metadata": {
    "colab_type": "text",
    "id": "FtSqcw4l1fsd"
   },
   "source": [
    "The aim of this project is to build a model which predicts the language given a name (which is essentially a sequence of characters)"
   ]
  },
  {
   "cell_type": "markdown",
   "metadata": {
    "colab_type": "text",
    "id": "hcArIR6U16JO"
   },
   "source": [
    "<h3> Data Preprocessing </h3>"
   ]
  },
  {
   "cell_type": "code",
   "execution_count": 0,
   "metadata": {
    "colab": {},
    "colab_type": "code",
    "id": "U3tTyBEcOZCX"
   },
   "outputs": [],
   "source": [
    "languages = []\n",
    "data = []\n",
    "X = []\n",
    "y = []\n",
    "\n",
    "with open('name2lang.txt', 'r') as f: \n",
    "    for line in f:\n",
    "        line = line.split(',')\n",
    "        name = line[0].strip()\n",
    "        lang = line[1].strip()\n",
    "        if not lang in languages:\n",
    "            languages.append(lang)\n",
    "        X.append(name)\n",
    "        y.append(lang)\n",
    "        data.append((name, lang))\n",
    "\n",
    "n_languages = len(languages)"
   ]
  },
  {
   "cell_type": "code",
   "execution_count": 0,
   "metadata": {
    "colab": {},
    "colab_type": "code",
    "id": "1Qhgumvfwv35"
   },
   "outputs": [],
   "source": []
  },
  {
   "cell_type": "code",
   "execution_count": 0,
   "metadata": {
    "colab": {
     "base_uri": "https://localhost:8080/",
     "height": 54
    },
    "colab_type": "code",
    "id": "l6BYye4VPDu3",
    "outputId": "1c8b5907-be61-4aa3-c112-3bf4446f3624"
   },
   "outputs": [
    {
     "name": "stdout",
     "output_type": "stream",
     "text": [
      "['Portuguese', 'Irish', 'Spanish', 'Vietnamese', 'Chinese', 'Greek', 'Czech', 'Dutch', 'Japanese', 'French', 'German', 'Scottish', 'English', 'Russian', 'Polish', 'Arabic', 'Korean', 'Italian']\n"
     ]
    }
   ],
   "source": [
    "print(languages)"
   ]
  },
  {
   "cell_type": "markdown",
   "metadata": {
    "colab_type": "text",
    "id": "s3fPMqp-w3GK"
   },
   "source": [
    "There are totally 18 languages"
   ]
  },
  {
   "cell_type": "code",
   "execution_count": 0,
   "metadata": {
    "colab": {},
    "colab_type": "code",
    "id": "c6jvNhnXPF9E"
   },
   "outputs": [],
   "source": [
    "X_train, X_test, y_train, y_test = train_test_split(X, y, test_size=0.2, random_state=0, stratify=y)"
   ]
  },
  {
   "cell_type": "code",
   "execution_count": 0,
   "metadata": {
    "colab": {},
    "colab_type": "code",
    "id": "An3NsR_PxBzH"
   },
   "outputs": [],
   "source": []
  },
  {
   "cell_type": "markdown",
   "metadata": {
    "colab_type": "text",
    "id": "cRVFmOCXxCTF"
   },
   "source": [
    "<h4> Creating Vector Representation for Inputs </h4>"
   ]
  },
  {
   "cell_type": "markdown",
   "metadata": {
    "colab_type": "text",
    "id": "C1eUnNPwxRUX"
   },
   "source": [
    "<p> Since the possible inputs are set of all english albhabets(capital and small) we represent each alphabet using a one hot vector. The size of each input vector is equal to the total number of characters (n_letters) </p>"
   ]
  },
  {
   "cell_type": "code",
   "execution_count": 0,
   "metadata": {
    "colab": {},
    "colab_type": "code",
    "id": "muSV4gdrPTRk"
   },
   "outputs": [],
   "source": [
    "all_letters = string.ascii_letters + \" .,;'\"\n",
    "n_letters = len(all_letters)"
   ]
  },
  {
   "cell_type": "code",
   "execution_count": 10,
   "metadata": {
    "colab": {
     "base_uri": "https://localhost:8080/",
     "height": 34
    },
    "colab_type": "code",
    "id": "eec5_W80QD9r",
    "outputId": "c148b9a6-d13f-4b19-9f33-dd1f704115b3"
   },
   "outputs": [
    {
     "data": {
      "text/plain": [
       "\"abcdefghijklmnopqrstuvwxyzABCDEFGHIJKLMNOPQRSTUVWXYZ .,;'\""
      ]
     },
     "execution_count": 10,
     "metadata": {
      "tags": []
     },
     "output_type": "execute_result"
    }
   ],
   "source": [
    "all_letters"
   ]
  },
  {
   "cell_type": "code",
   "execution_count": 0,
   "metadata": {
    "colab": {},
    "colab_type": "code",
    "id": "WTE5btexP2Ut"
   },
   "outputs": [],
   "source": [
    "# Creating one hot representation for each input\n",
    "def name_rep(name):\n",
    "    rep = torch.zeros(len(name), 1, n_letters) # Tensor for word representation, which is basically combination of \n",
    "                                               # vector representation of each character in the word\n",
    "    for index, letter in enumerate(name):\n",
    "        pos = all_letters.find(letter)\n",
    "        #print(pos)\n",
    "        rep[index][0][pos] = 1\n",
    "    return rep"
   ]
  },
  {
   "cell_type": "code",
   "execution_count": 12,
   "metadata": {
    "colab": {
     "base_uri": "https://localhost:8080/",
     "height": 252
    },
    "colab_type": "code",
    "id": "SYtCtlVuP5Cr",
    "outputId": "706e7a17-f3e9-415b-cb8f-99ee2bf03975"
   },
   "outputs": [
    {
     "data": {
      "text/plain": [
       "tensor([[[0., 0., 0., 0., 0., 0., 0., 0., 0., 0., 0., 0., 0., 0., 0., 0., 0.,\n",
       "          0., 0., 0., 0., 0., 0., 0., 0., 0., 0., 0., 0., 0., 0., 0., 0., 0.,\n",
       "          0., 0., 1., 0., 0., 0., 0., 0., 0., 0., 0., 0., 0., 0., 0., 0., 0.,\n",
       "          0., 0., 0., 0., 0., 0.]],\n",
       "\n",
       "        [[0., 0., 0., 0., 0., 0., 0., 0., 1., 0., 0., 0., 0., 0., 0., 0., 0.,\n",
       "          0., 0., 0., 0., 0., 0., 0., 0., 0., 0., 0., 0., 0., 0., 0., 0., 0.,\n",
       "          0., 0., 0., 0., 0., 0., 0., 0., 0., 0., 0., 0., 0., 0., 0., 0., 0.,\n",
       "          0., 0., 0., 0., 0., 0.]],\n",
       "\n",
       "        [[0., 0., 0., 0., 0., 0., 0., 0., 0., 0., 0., 0., 1., 0., 0., 0., 0.,\n",
       "          0., 0., 0., 0., 0., 0., 0., 0., 0., 0., 0., 0., 0., 0., 0., 0., 0.,\n",
       "          0., 0., 0., 0., 0., 0., 0., 0., 0., 0., 0., 0., 0., 0., 0., 0., 0.,\n",
       "          0., 0., 0., 0., 0., 0.]]])"
      ]
     },
     "execution_count": 12,
     "metadata": {
      "tags": []
     },
     "output_type": "execute_result"
    }
   ],
   "source": [
    "name_rep('Kim') # note 'i' represented by 1 at 8th index"
   ]
  },
  {
   "cell_type": "code",
   "execution_count": 0,
   "metadata": {
    "colab": {},
    "colab_type": "code",
    "id": "PNmWX1UJzOSK"
   },
   "outputs": [],
   "source": []
  },
  {
   "cell_type": "markdown",
   "metadata": {
    "colab_type": "text",
    "id": "vy5F60DKzId6"
   },
   "source": [
    "<h4> Creating Vector Representation for Output </h4>"
   ]
  },
  {
   "cell_type": "code",
   "execution_count": 0,
   "metadata": {
    "colab": {},
    "colab_type": "code",
    "id": "t_PKPIRgQLjX"
   },
   "outputs": [],
   "source": [
    "def lang_rep(lang):\n",
    "  return torch.tensor([languages.index(lang)],dtype = torch.long)"
   ]
  },
  {
   "cell_type": "code",
   "execution_count": 19,
   "metadata": {
    "colab": {
     "base_uri": "https://localhost:8080/",
     "height": 34
    },
    "colab_type": "code",
    "id": "AP9BbDYIzf-b",
    "outputId": "29cd1749-68a2-46fe-e939-41832fbef62d"
   },
   "outputs": [
    {
     "data": {
      "text/plain": [
       "12"
      ]
     },
     "execution_count": 19,
     "metadata": {
      "tags": []
     },
     "output_type": "execute_result"
    }
   ],
   "source": [
    "languages.index('English')"
   ]
  },
  {
   "cell_type": "code",
   "execution_count": 20,
   "metadata": {
    "colab": {
     "base_uri": "https://localhost:8080/",
     "height": 34
    },
    "colab_type": "code",
    "id": "3n9JJtkhQ6_6",
    "outputId": "8b85562d-50c6-4fce-f070-d0181159d70a"
   },
   "outputs": [
    {
     "data": {
      "text/plain": [
       "tensor([12])"
      ]
     },
     "execution_count": 20,
     "metadata": {
      "tags": []
     },
     "output_type": "execute_result"
    }
   ],
   "source": [
    "lang_rep('English')"
   ]
  },
  {
   "cell_type": "code",
   "execution_count": 0,
   "metadata": {
    "colab": {},
    "colab_type": "code",
    "id": "DFcOGhi4z6V_"
   },
   "outputs": [],
   "source": []
  },
  {
   "cell_type": "markdown",
   "metadata": {
    "colab_type": "text",
    "id": "mCbLsLHm0Jph"
   },
   "source": [
    "<h4> Data Visualisation </h4>"
   ]
  },
  {
   "cell_type": "code",
   "execution_count": 0,
   "metadata": {
    "colab": {},
    "colab_type": "code",
    "id": "pxy_euHsQ9tE"
   },
   "outputs": [],
   "source": [
    "count = {}\n",
    "for l in languages: \n",
    "    count[l] = 0\n",
    "for d in data:\n",
    "    count[d[1]] += 1 # d[0] is name, d[1] is language"
   ]
  },
  {
   "cell_type": "code",
   "execution_count": 24,
   "metadata": {
    "colab": {
     "base_uri": "https://localhost:8080/",
     "height": 54
    },
    "colab_type": "code",
    "id": "bG2CMB5NRDrd",
    "outputId": "f40016ec-f3ee-4e31-f987-5731f76995ff"
   },
   "outputs": [
    {
     "name": "stdout",
     "output_type": "stream",
     "text": [
      "{'Portuguese': 74, 'Irish': 232, 'Spanish': 298, 'Vietnamese': 73, 'Chinese': 268, 'Greek': 203, 'Czech': 519, 'Dutch': 297, 'Japanese': 991, 'French': 277, 'German': 724, 'Scottish': 100, 'English': 3668, 'Russian': 9384, 'Polish': 139, 'Arabic': 2000, 'Korean': 94, 'Italian': 709}\n"
     ]
    }
   ],
   "source": [
    "print(count)"
   ]
  },
  {
   "cell_type": "code",
   "execution_count": 25,
   "metadata": {
    "colab": {
     "base_uri": "https://localhost:8080/",
     "height": 315
    },
    "colab_type": "code",
    "id": "62Qh37blRFNk",
    "outputId": "28a51ad7-20d1-4e4a-c4b5-06eebb9adee4"
   },
   "outputs": [
    {
     "data": {
      "image/png": "[encoded data removed]",
      "text/plain": [
       "<Figure size 432x288 with 1 Axes>"
      ]
     },
     "metadata": {
      "tags": []
     },
     "output_type": "display_data"
    }
   ],
   "source": [
    "plt_ = sns.barplot(list(count.keys()), list(count.values()))\n",
    "plt_.set_xticklabels(plt_.get_xticklabels(), rotation=90)\n",
    "plt.show()"
   ]
  },
  {
   "cell_type": "markdown",
   "metadata": {
    "colab_type": "text",
    "id": "ecpHfX1mKCwf"
   },
   "source": [
    "The number of English , Russian and Arabic datapoints are very large compared to other languages, which may cause some problems while building the model\n"
   ]
  },
  {
   "cell_type": "code",
   "execution_count": 0,
   "metadata": {
    "colab": {},
    "colab_type": "code",
    "id": "k3GyexCIRLRA"
   },
   "outputs": [],
   "source": []
  },
  {
   "cell_type": "markdown",
   "metadata": {
    "colab_type": "text",
    "id": "7kTDHHkHfLtA"
   },
   "source": [
    "<h3> RNN Model </h3>"
   ]
  },
  {
   "cell_type": "code",
   "execution_count": 0,
   "metadata": {
    "colab": {},
    "colab_type": "code",
    "id": "ut9CTGqYZt2s"
   },
   "outputs": [],
   "source": [
    "class RNN(nn.Module):\n",
    "  def __init__(self, input_size, hidden_size, output_size):\n",
    "    super(RNN,self).__init__() #calling init of parent class\n",
    "    self.hidden_size = hidden_size\n",
    "    self.i2h = nn.Linear(input_size+hidden_size , hidden_size) # Take current input and previous hidden state to compute\n",
    "                                                               # current hidden state ()\n",
    "                                                               \n",
    "    self.i2o = nn.Linear(input_size + hidden_size , output_size)# Take current input and previous hidden state to compute\n",
    "                                                               # current hidden state\n",
    "                                                               \n",
    "    self.softmax = nn.LogSoftmax(dim = 1) \n",
    "\n",
    "  def forward(self,input_, hidden):\n",
    "    combined = torch.cat((input_,hidden),1)\n",
    "    hidden =  self.i2h(combined)\n",
    "    output = self.i2o(combined)\n",
    "    output = self.softmax(output)\n",
    "\n",
    "    return output,hidden\n",
    "\n",
    "  def init_hidden(self): # We write this function here to ensure size of hidden state is uniform throughout code\n",
    "    return torch.zeros(1, self.hidden_size)\n",
    "\n",
    "\n",
    "\n"
   ]
  },
  {
   "cell_type": "code",
   "execution_count": 0,
   "metadata": {
    "colab": {},
    "colab_type": "code",
    "id": "nz7OE-3HdsrW"
   },
   "outputs": [],
   "source": [
    "n_hidden = 128\n",
    "net = RNN(n_letters, n_hidden, n_languages) "
   ]
  },
  {
   "cell_type": "markdown",
   "metadata": {
    "colab_type": "text",
    "id": "DevhVNy30c6e"
   },
   "source": [
    "<h3> Inference </h3>"
   ]
  },
  {
   "cell_type": "code",
   "execution_count": 0,
   "metadata": {
    "colab": {},
    "colab_type": "code",
    "id": "udK6L7LDf1kn"
   },
   "outputs": [],
   "source": [
    "#To see output of the untrained model for given name as input\n",
    "def infer(net, name):\n",
    "    net.eval() # We are not training the model\n",
    "    name_ohe = name_rep(name) # Convert input to combination of one hot vector representation\n",
    "    hidden = net.init_hidden() # Initialise hidden state\n",
    "    \n",
    "    #print(name_ohe.size()[0]) # Basically number of letters in input\n",
    "    for i in range(name_ohe.size()[0]):\n",
    "        output, hidden = net(name_ohe[i], hidden)\n",
    "    \n",
    "    return output"
   ]
  },
  {
   "cell_type": "code",
   "execution_count": 33,
   "metadata": {
    "colab": {
     "base_uri": "https://localhost:8080/",
     "height": 34
    },
    "colab_type": "code",
    "id": "p4N77jF6XeMg",
    "outputId": "df487f83-8596-46c6-8c62-232dcd85e59b"
   },
   "outputs": [
    {
     "data": {
      "text/plain": [
       "torch.Size([4, 1, 57])"
      ]
     },
     "execution_count": 33,
     "metadata": {
      "tags": []
     },
     "output_type": "execute_result"
    }
   ],
   "source": [
    "name_rep('Adam').size()"
   ]
  },
  {
   "cell_type": "code",
   "execution_count": 34,
   "metadata": {
    "colab": {
     "base_uri": "https://localhost:8080/",
     "height": 67
    },
    "colab_type": "code",
    "id": "PTdq6wlDW6D5",
    "outputId": "3e2be2f8-099b-4fc0-c6ba-0db40bc204e7"
   },
   "outputs": [
    {
     "name": "stdout",
     "output_type": "stream",
     "text": [
      "tensor([[-2.7722, -2.8402, -2.8189, -3.0033, -2.8636, -2.9102, -2.8491, -2.7291,\n",
      "         -2.8906, -2.9231, -2.9219, -2.8852, -2.8344, -2.8339, -2.9777, -3.0264,\n",
      "         -3.0206, -2.9884]], grad_fn=<LogSoftmaxBackward>) tensor(7)\n"
     ]
    }
   ],
   "source": [
    "output = infer(net, 'Adam')\n",
    "index = torch.argmax(output)\n",
    "print(output, index)"
   ]
  },
  {
   "cell_type": "markdown",
   "metadata": {
    "colab_type": "text",
    "id": "GchzCO1yYRAT"
   },
   "source": [
    "Note: In infer we do not pass output through softmax layer but instead directly take the output and find the max argument. This is because softmax is computationally expensive and we want to avoid it"
   ]
  },
  {
   "cell_type": "code",
   "execution_count": 0,
   "metadata": {
    "colab": {},
    "colab_type": "code",
    "id": "GKzyBojUYpEL"
   },
   "outputs": [],
   "source": []
  },
  {
   "cell_type": "code",
   "execution_count": 0,
   "metadata": {
    "colab": {},
    "colab_type": "code",
    "id": "0V3XXjZrYphc"
   },
   "outputs": [],
   "source": []
  },
  {
   "cell_type": "markdown",
   "metadata": {
    "colab_type": "text",
    "id": "rodiJHllYp7r"
   },
   "source": [
    "<h3> Custom DataLoader </h3>"
   ]
  },
  {
   "cell_type": "code",
   "execution_count": 0,
   "metadata": {
    "colab": {},
    "colab_type": "code",
    "id": "g5M2b7McXSMX"
   },
   "outputs": [],
   "source": [
    "#custom data loader\n",
    "def dataloader(npoints, X_, y_):\n",
    "    to_ret = []\n",
    "    for i in range(npoints):\n",
    "        #Here randint returns a random integer from 0 to len(X_)\n",
    "        index_ = np.random.randint(len(X_)) # Randomly sample (pick up) data\n",
    "\n",
    "        name, lang = X_[index_], y_[index_] # Obtain name and language in train data corresponding to randomly selected int\n",
    "        to_ret.append((name, lang, name_rep(name), lang_rep(lang))) # Obtain one hot representations of both of them\n",
    "    return to_ret"
   ]
  },
  {
   "cell_type": "code",
   "execution_count": 0,
   "metadata": {
    "colab": {},
    "colab_type": "code",
    "id": "v9yWW6IKfU4b"
   },
   "outputs": [],
   "source": [
    "#dataloader(2, X_train, y_train) # What if same point sampled multiple times"
   ]
  },
  {
   "cell_type": "markdown",
   "metadata": {
    "colab_type": "text",
    "id": "IXPltPy24NDw"
   },
   "source": [
    "<h3> Custom Evaluation Function </h3>"
   ]
  },
  {
   "cell_type": "code",
   "execution_count": 0,
   "metadata": {
    "colab": {},
    "colab_type": "code",
    "id": "QBTRABzVfVHb"
   },
   "outputs": [],
   "source": [
    "def eval(net, n_points,k, X_, y_):\n",
    "\n",
    "  data_ = dataloader(n_points,X_, y_)\n",
    "  correct = 0 \n",
    "\n",
    "  for name, lang, name_rep, lang_rep  in data_:\n",
    "      output = infer(net, name) # forwards pass\n",
    "      val, indices = output.topk(k) # obtaining top k values and their corresponding indices in the 18 dim output\n",
    "                                    # (extension of torch.argmax)\n",
    "        \n",
    "      if lang_rep in indices: # if correct language in top k predictions\n",
    "          correct += 1\n",
    "            \n",
    "  accuracy = correct/n_points\n",
    "  return accuracy"
   ]
  },
  {
   "cell_type": "code",
   "execution_count": 48,
   "metadata": {
    "colab": {
     "base_uri": "https://localhost:8080/",
     "height": 34
    },
    "colab_type": "code",
    "id": "bjiVqMZwfU0e",
    "outputId": "3186a00d-6b59-44ad-b45b-a90762e0645a"
   },
   "outputs": [
    {
     "name": "stdout",
     "output_type": "stream",
     "text": [
      "0.423\n"
     ]
    }
   ],
   "source": [
    "eval(net, 1000, 3, X_test, y_test)\n"
   ]
  },
  {
   "cell_type": "markdown",
   "metadata": {
    "colab_type": "text",
    "id": "mwIZfYUt7Duy"
   },
   "source": [
    "Accuracy without training"
   ]
  },
  {
   "cell_type": "markdown",
   "metadata": {
    "colab_type": "text",
    "id": "aqcHw4p464LK"
   },
   "source": [
    "<h3> Train </h3>"
   ]
  },
  {
   "cell_type": "code",
   "execution_count": 0,
   "metadata": {
    "colab": {},
    "colab_type": "code",
    "id": "h2-GLZF5fUv7"
   },
   "outputs": [],
   "source": [
    "def train(net, opt, criterion, n_points):\n",
    "    \n",
    "    opt.zero_grad()\n",
    "    total_loss = 0\n",
    "    \n",
    "    data_ = dataloader(n_points, X_train, y_train)\n",
    "    \n",
    "    for name, language, name_ohe, lang_rep in data_:\n",
    "\n",
    "        hidden = net.init_hidden()\n",
    "\n",
    "        for i in range(name_ohe.size()[0]): # forward pass\n",
    "            output, hidden = net(name_ohe[i], hidden) # Note that same hidden variable is used on lhs and rhs\n",
    "            \n",
    "        loss = criterion(output, lang_rep)\n",
    "        loss.backward(retain_graph=True) \n",
    "        total_loss += loss\n",
    "        \n",
    "    opt.step()       # Entire backpropagation through time is done just in this one line\n",
    "        \n",
    "            \n",
    "    return total_loss/n_points"
   ]
  },
  {
   "cell_type": "code",
   "execution_count": 0,
   "metadata": {
    "colab": {},
    "colab_type": "code",
    "id": "hHaIYyC1fUrN"
   },
   "outputs": [],
   "source": [
    "criterion = nn.NLLLoss() #negative log likelihood\n",
    "opt = optim.SGD(net.parameters(), lr=0.01, momentum=0.9)"
   ]
  },
  {
   "cell_type": "code",
   "execution_count": 40,
   "metadata": {
    "colab": {
     "base_uri": "https://localhost:8080/",
     "height": 67
    },
    "colab_type": "code",
    "id": "XijhQWiZfUly",
    "outputId": "ee0fc5f5-9c61-42c5-cdc3-a18bac1bc141"
   },
   "outputs": [
    {
     "name": "stdout",
     "output_type": "stream",
     "text": [
      "CPU times: user 253 ms, sys: 20 ms, total: 273 ms\n",
      "Wall time: 473 ms\n"
     ]
    },
    {
     "data": {
      "text/plain": [
       "tensor(2.8670, grad_fn=<DivBackward0>)"
      ]
     },
     "execution_count": 40,
     "metadata": {
      "tags": []
     },
     "output_type": "execute_result"
    }
   ],
   "source": [
    "%%time \n",
    "train(net, opt, criterion, 200)"
   ]
  },
  {
   "cell_type": "code",
   "execution_count": 41,
   "metadata": {
    "colab": {
     "base_uri": "https://localhost:8080/",
     "height": 34
    },
    "colab_type": "code",
    "id": "D3PA3ei-SXIV",
    "outputId": "0ce1f0db-9212-491c-b7ae-f20afca44a13"
   },
   "outputs": [
    {
     "data": {
      "text/plain": [
       "0.473"
      ]
     },
     "execution_count": 41,
     "metadata": {
      "tags": []
     },
     "output_type": "execute_result"
    }
   ],
   "source": [
    "eval(net, 1000, 1, X_test, y_test)"
   ]
  },
  {
   "cell_type": "markdown",
   "metadata": {
    "colab_type": "text",
    "id": "Q1abhRtH7UxY"
   },
   "source": [
    "<h3> Train Setup </h3>\n"
   ]
  },
  {
   "cell_type": "code",
   "execution_count": 0,
   "metadata": {
    "colab": {},
    "colab_type": "code",
    "id": "TX0lJyxwSayZ"
   },
   "outputs": [],
   "source": [
    "def train_setup(net, lr = 0.01, n_batches = 100, batch_size = 10, momentum = 0.9, display_freq=5):\n",
    "    \n",
    "    # Hyperparameters\n",
    "    criterion = nn.NLLLoss()\n",
    "    opt = optim.SGD(net.parameters(), lr=lr, momentum=momentum)\n",
    "    \n",
    "    loss_arr = np.zeros(n_batches + 1) #torch.zeros?\n",
    "    \n",
    "    for i in range(n_batches):\n",
    "        loss_arr[i+1] = (loss_arr[i]*i + train(net, opt, criterion, batch_size))/(i + 1) \n",
    "        # Sum of all the previous losses\n",
    "        \n",
    "        if i%display_freq == display_freq-1:\n",
    "            clear_output(wait=True)\n",
    "            \n",
    "            print('Iteration', i, 'Top-1:', eval(net, len(X_test), 1, X_test, y_test), 'Top-2:', eval(net, len(X_test), 2, X_test, y_test), 'Loss', loss_arr[i])\n",
    "            plt.figure()\n",
    "            plt.plot(loss_arr[1:i], '-*')\n",
    "            plt.xlabel('Iteration')\n",
    "            plt.ylabel('Loss')\n",
    "            plt.show()\n",
    "            print('\\n\\n')\n",
    "                      "
   ]
  },
  {
   "cell_type": "code",
   "execution_count": 46,
   "metadata": {
    "colab": {
     "base_uri": "https://localhost:8080/",
     "height": 346
    },
    "colab_type": "code",
    "id": "VhxTvm4YWu5I",
    "outputId": "0ccd9359-41ff-4ead-80bb-cc15e217df9b"
   },
   "outputs": [
    {
     "name": "stdout",
     "output_type": "stream",
     "text": [
      "Iteration 99 Top-1: 0.6593516209476309 Top-2: 0.7708229426433916 Loss 1.4528573751449585\n"
     ]
    },
    {
     "data": {
      "image/png": "[encoded data removed]",
      "text/plain": [
       "<Figure size 432x288 with 1 Axes>"
      ]
     },
     "metadata": {
      "tags": []
     },
     "output_type": "display_data"
    },
    {
     "name": "stdout",
     "output_type": "stream",
     "text": [
      "\n",
      "\n",
      "\n"
     ]
    }
   ],
   "source": [
    "n_hidden = 128\n",
    "net = RNN(n_letters, n_hidden, n_languages)\n",
    "train_setup(net, lr=0.0005, n_batches=100, batch_size = 256)"
   ]
  },
  {
   "cell_type": "markdown",
   "metadata": {
    "colab_type": "text",
    "id": "mFBZcaqqJNQj"
   },
   "source": [
    "<h3> Confusion Matrix </h3"
   ]
  },
  {
   "cell_type": "code",
   "execution_count": 89,
   "metadata": {
    "colab": {
     "base_uri": "https://localhost:8080/",
     "height": 34
    },
    "colab_type": "code",
    "id": "C5f0JEiHWyW0",
    "outputId": "4f015ca9-b40e-43c9-b632-1d5fdd8ee452"
   },
   "outputs": [
    {
     "data": {
      "text/plain": [
       "20050"
      ]
     },
     "execution_count": 89,
     "metadata": {
      "tags": []
     },
     "output_type": "execute_result"
    }
   ],
   "source": [
    "len(data)"
   ]
  },
  {
   "cell_type": "code",
   "execution_count": 0,
   "metadata": {
    "colab": {},
    "colab_type": "code",
    "id": "IhzffE09_Lpm"
   },
   "outputs": [],
   "source": [
    "def get_confusion_mat(net, n_points,k, X_, y_):\n",
    "\n",
    "  cfm = np.zeros((n_languages,n_languages))\n",
    "\n",
    "  data_ = dataloader(n_points,X_, y_)\n",
    "   \n",
    "\n",
    "  for name, lang, name_rep, lang_rep  in data_:\n",
    "      output = infer(net, name) # forwards pass\n",
    "      val, index = output.topk(1) # obtaining top value and their corresponding indices in the 18 dim output\n",
    "                                    # (extension of torch.argmax)\n",
    "        \n",
    "      cfm[languages.index(lang)][index] += 1    \n",
    "\n",
    "  return cfm  \n"
   ]
  },
  {
   "cell_type": "code",
   "execution_count": 0,
   "metadata": {
    "colab": {},
    "colab_type": "code",
    "id": "qhGM8p27Axhg"
   },
   "outputs": [],
   "source": [
    "cfm = get_confusion_mat(net, 1000, 1, X_test, y_test)"
   ]
  },
  {
   "cell_type": "code",
   "execution_count": 92,
   "metadata": {
    "colab": {
     "base_uri": "https://localhost:8080/",
     "height": 319
    },
    "colab_type": "code",
    "id": "EHhDjXSLBNfh",
    "outputId": "59b0541b-8d1e-4d5b-aefe-168cd927674c"
   },
   "outputs": [
    {
     "name": "stdout",
     "output_type": "stream",
     "text": [
      "Portuguese ---Total: 4.0 --Accuracy : 0.0\n",
      "Irish ---Total: 11.0 --Accuracy : 0.0\n",
      "Spanish ---Total: 9.0 --Accuracy : 0.0\n",
      "Vietnamese ---Total: 1.0 --Accuracy : 0.0\n",
      "Chinese ---Total: 17.0 --Accuracy : 0.11764705882352941\n",
      "Greek ---Total: 10.0 --Accuracy : 0.0\n",
      "Czech ---Total: 29.0 --Accuracy : 0.0\n",
      "Dutch ---Total: 14.0 --Accuracy : 0.0\n",
      "Japanese ---Total: 53.0 --Accuracy : 0.5849056603773585\n",
      "French ---Total: 15.0 --Accuracy : 0.0\n",
      "German ---Total: 34.0 --Accuracy : 0.0\n",
      "Scottish ---Total: 5.0 --Accuracy : 0.0\n",
      "English ---Total: 196.0 --Accuracy : 0.6683673469387755\n",
      "Russian ---Total: 450.0 --Accuracy : 0.8688888888888889\n",
      "Polish ---Total: 2.0 --Accuracy : 0.0\n",
      "Arabic ---Total: 110.0 --Accuracy : 0.8818181818181818\n",
      "Korean ---Total: 6.0 --Accuracy : 0.0\n",
      "Italian ---Total: 34.0 --Accuracy : 0.35294117647058826\n"
     ]
    }
   ],
   "source": [
    "# Per class accuracy\n",
    "for lang_ind in range(18):\n",
    "  total = np.sum(cfm[lang_ind])\n",
    "  correct = cfm[lang_ind][lang_ind]\n",
    "  print(languages[lang_ind],\"---Total:\",total,\"--Accuracy :\", correct /total)\n"
   ]
  },
  {
   "cell_type": "code",
   "execution_count": 0,
   "metadata": {
    "colab": {},
    "colab_type": "code",
    "id": "ZuLGkeDmBlno"
   },
   "outputs": [],
   "source": []
  },
  {
   "cell_type": "code",
   "execution_count": 0,
   "metadata": {
    "colab": {},
    "colab_type": "code",
    "id": "gXe8rxv1G3OJ"
   },
   "outputs": [],
   "source": [
    "import seaborn as sn\n",
    "import pandas as pd"
   ]
  },
  {
   "cell_type": "code",
   "execution_count": 94,
   "metadata": {
    "colab": {
     "base_uri": "https://localhost:8080/",
     "height": 435
    },
    "colab_type": "code",
    "id": "v0r1f7zQCFLQ",
    "outputId": "e92761b5-9353-47a3-b549-db9c7073b835"
   },
   "outputs": [
    {
     "data": {
      "image/png": "[encoded data removed]",
      "text/plain": [
       "<Figure size 720x504 with 2 Axes>"
      ]
     },
     "metadata": {
      "tags": []
     },
     "output_type": "display_data"
    }
   ],
   "source": [
    "df_cm = pd.DataFrame(cfm, range(18),\n",
    "                  range(18))\n",
    "plt.figure(figsize = (10,7))\n",
    "sn.set(font_scale=1)#for label size\n",
    "sn.heatmap(cfm, annot=True,annot_kws={\"size\": 5})# font size\n",
    "\n",
    "plt.show()\n"
   ]
  },
  {
   "cell_type": "code",
   "execution_count": 0,
   "metadata": {
    "colab": {},
    "colab_type": "code",
    "id": "smsDuPEaG4sn"
   },
   "outputs": [],
   "source": []
  }
 ],
 "metadata": {
  "colab": {
   "collapsed_sections": [],
   "name": "RecurrentNeuralNetwork.ipynb",
   "provenance": []
  },
  "kernelspec": {
   "display_name": "Python 3",
   "language": "python",
   "name": "python3"
  }
 },
 "nbformat": 4,
 "nbformat_minor": 1
}
