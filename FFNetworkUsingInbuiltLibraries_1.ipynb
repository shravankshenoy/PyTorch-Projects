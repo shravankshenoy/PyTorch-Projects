{
  "nbformat": 4,
  "nbformat_minor": 0,
  "metadata": {
    "colab": {
      "name": "FFNetworkUsingInbuiltLibrary_1.ipynb",
      "provenance": [],
      "collapsed_sections": []
    },
    "kernelspec": {
      "name": "python3",
      "display_name": "Python 3"
    },
    "accelerator": "GPU"
  },
  "cells": [
    {
      "cell_type": "code",
      "metadata": {
        "id": "SvlXg3lp8sCc",
        "colab_type": "code",
        "colab": {}
      },
      "source": [
        "import numpy\n",
        "import matplotlib.pyplot as plt\n",
        "import torch\n",
        "import math"
      ],
      "execution_count": 0,
      "outputs": []
    },
    {
      "cell_type": "code",
      "metadata": {
        "id": "MI4cHa6a-PIv",
        "colab_type": "code",
        "colab": {}
      },
      "source": [
        "from sklearn.datasets import make_blobs\n",
        "from sklearn.model_selection import train_test_split"
      ],
      "execution_count": 0,
      "outputs": []
    },
    {
      "cell_type": "code",
      "metadata": {
        "id": "lpeXWg_t-P59",
        "colab_type": "code",
        "colab": {}
      },
      "source": [
        "import torch.nn.functional as F"
      ],
      "execution_count": 0,
      "outputs": []
    },
    {
      "cell_type": "code",
      "metadata": {
        "id": "sVtLFFND-PyP",
        "colab_type": "code",
        "colab": {}
      },
      "source": [
        "import torch.nn as nn"
      ],
      "execution_count": 0,
      "outputs": []
    },
    {
      "cell_type": "code",
      "metadata": {
        "id": "JtQ5qsfeIrEz",
        "colab_type": "code",
        "colab": {}
      },
      "source": [
        ""
      ],
      "execution_count": 0,
      "outputs": []
    },
    {
      "cell_type": "code",
      "metadata": {
        "id": "Ti3XNZOJO6qO",
        "colab_type": "code",
        "colab": {}
      },
      "source": [
        ""
      ],
      "execution_count": 0,
      "outputs": []
    },
    {
      "cell_type": "markdown",
      "metadata": {
        "id": "xiK3Sibckxg6",
        "colab_type": "text"
      },
      "source": [
        "<p>In this notebook the following libraries have been used:</p>\n",
        "<ul>\n",
        "  <li> nn.functional</li>\n",
        "  <li> nn.parameter </li>\n",
        "  <li> nn.linear </li>\n",
        "  <li> nn.sequential </li>\n",
        "</ul>\n",
        "\n",
        "</p> The advantage of using each of the above has been described in the following cells </p>\n"
      ]
    },
    {
      "cell_type": "markdown",
      "metadata": {
        "id": "JMeLysOtOrS4",
        "colab_type": "text"
      },
      "source": [
        " <p><b>Note:</b> nn.functional provides built in functions to compute quantities like cross entropy (softmax, relu etc) so that we do not have to write a code to compute it </p>"
      ]
    },
    {
      "cell_type": "markdown",
      "metadata": {
        "id": "2p1x21RYUolk",
        "colab_type": "text"
      },
      "source": [
        "<p><b>Note:</b> We use nn.Parameters() to create the layers. The advantage of this approach is that in fit() function we do not need to update each set of weights and biases separately but can update everything by using just a single for loop. Thus fit() function can be **coded** independent of the model"
      ]
    },
    {
      "cell_type": "markdown",
      "metadata": {
        "id": "bKOldHtOl9Gi",
        "colab_type": "text"
      },
      "source": [
        "<p> <b>Note:</b> nn.Linear abstracts the entire process of declaring weights and biases separately and initialising the weights. Thus it makes model building very easy, by having just one line of code for each layer and doing everything else under the hood </p>"
      ]
    },
    {
      "cell_type": "markdown",
      "metadata": {
        "id": "Kj5PxGWLnRcx",
        "colab_type": "text"
      },
      "source": [
        "<p><b>Note:</b> nn.Sequential makes code more concise when compared to using nn.functional. Also forward pass is very easy to code, and can be implemented using only one line of code. </p>"
      ]
    },
    {
      "cell_type": "markdown",
      "metadata": {
        "id": "hOp-1XSpnRVC",
        "colab_type": "text"
      },
      "source": [
        "https://stackoverflow.com/questions/53745454/are-there-any-computational-efficiency-differences-between-nn-functional-vs-nn"
      ]
    },
    {
      "cell_type": "code",
      "metadata": {
        "id": "f621yueDxha1",
        "colab_type": "code",
        "colab": {}
      },
      "source": [
        ""
      ],
      "execution_count": 0,
      "outputs": []
    },
    {
      "cell_type": "markdown",
      "metadata": {
        "id": "suVqTxyAyEN8",
        "colab_type": "text"
      },
      "source": [
        "<h3> Data Generation </h3>"
      ]
    },
    {
      "cell_type": "code",
      "metadata": {
        "id": "yWW_HHniIrB6",
        "colab_type": "code",
        "outputId": "28ce4348-e114-4601-f076-6c580a3bf96d",
        "colab": {
          "base_uri": "https://localhost:8080/",
          "height": 34
        }
      },
      "source": [
        "data, labels = make_blobs(n_samples=1000, centers=4, n_features=2, random_state=0)\n",
        "print(data.shape, labels.shape)"
      ],
      "execution_count": 5,
      "outputs": [
        {
          "output_type": "stream",
          "text": [
            "(1000, 2) (1000,)\n"
          ],
          "name": "stdout"
        }
      ]
    },
    {
      "cell_type": "code",
      "metadata": {
        "id": "LB_S4AP_Iq_a",
        "colab_type": "code",
        "outputId": "052575d9-b474-4567-bbc7-5595118d2903",
        "colab": {
          "base_uri": "https://localhost:8080/",
          "height": 265
        }
      },
      "source": [
        "plt.scatter(data[:,0], data[:,1], c=labels)\n",
        "plt.show()"
      ],
      "execution_count": 6,
      "outputs": [
        {
          "output_type": "display_data",
          "data": {
            "image/png": "[encoded data removed]",
            "text/plain": [
              "<Figure size 432x288 with 1 Axes>"
            ]
          },
          "metadata": {
            "tags": []
          }
        }
      ]
    },
    {
      "cell_type": "code",
      "metadata": {
        "id": "SsPT7HngIq8J",
        "colab_type": "code",
        "outputId": "91c703ad-2eb9-483c-b844-6900bd0f178b",
        "colab": {
          "base_uri": "https://localhost:8080/",
          "height": 34
        }
      },
      "source": [
        "X_train, X_val, Y_train, Y_val = train_test_split(data, labels, stratify=labels, random_state=0)\n",
        "print(X_train.shape, X_val.shape, labels.shape)"
      ],
      "execution_count": 7,
      "outputs": [
        {
          "output_type": "stream",
          "text": [
            "(750, 2) (250, 2) (1000,)\n"
          ],
          "name": "stdout"
        }
      ]
    },
    {
      "cell_type": "code",
      "metadata": {
        "id": "Wg6qVvjwIq5d",
        "colab_type": "code",
        "colab": {}
      },
      "source": [
        "X_train, Y_train, X_val, Y_val = map(torch.tensor, (X_train, Y_train, X_val, Y_val))"
      ],
      "execution_count": 0,
      "outputs": []
    },
    {
      "cell_type": "code",
      "metadata": {
        "id": "LnZfZ8C1I1a6",
        "colab_type": "code",
        "colab": {}
      },
      "source": [
        "#https://stackoverflow.com/questions/56741087/how-to-fix-runtimeerror-expected-object-of-scalar-type-float-but-got-scalar-typ/56741419\n",
        "X_train = X_train.float()\n",
        "Y_train = Y_train.long()\n",
        "\n"
      ],
      "execution_count": 0,
      "outputs": []
    },
    {
      "cell_type": "code",
      "metadata": {
        "id": "R8OWaXRII1O5",
        "colab_type": "code",
        "colab": {}
      },
      "source": [
        ""
      ],
      "execution_count": 0,
      "outputs": []
    },
    {
      "cell_type": "markdown",
      "metadata": {
        "id": "Dl80Rpy8xnlY",
        "colab_type": "text"
      },
      "source": [
        "<h3> Using nn.Parameters </h3>"
      ]
    },
    {
      "cell_type": "code",
      "metadata": {
        "id": "S5pocpuoI1E9",
        "colab_type": "code",
        "colab": {}
      },
      "source": [
        "def accuracy(y_pred,y):\n",
        "  pred = torch.argmax(y_pred, dim=1)\n",
        "  return (pred == y).float().mean()"
      ],
      "execution_count": 0,
      "outputs": []
    },
    {
      "cell_type": "code",
      "metadata": {
        "id": "9t_M4ixn-Pvc",
        "colab_type": "code",
        "colab": {}
      },
      "source": [
        "#Our neural network class inherits from nn.Module class\n",
        "class TwoLayerNN(nn.Module):\n",
        "  def __init__(self):\n",
        "    super().__init__()\n",
        "    torch.manual_seed(0)\n",
        "    self.weights1 = nn.Parameter(torch.randn(2,2)/math.sqrt(2))\n",
        "    self.bias1 = nn.Parameter(torch.zeros(2))\n",
        "    self.weights2 = nn.Parameter(torch.randn(2,4)/math.sqrt(2))\n",
        "    self.bias2 = nn.Parameter(torch.zeros(4))\n",
        "\n",
        "  def forward(self,X):\n",
        "    a1 = torch.matmul(X,self.weights1) + self.bias1\n",
        "    h1 = torch.sigmoid(a1)\n",
        "    #print(h1.shape, self.weights2.shape)\n",
        "    a2 = torch.matmul(h1, self.weights2) + self.bias2\n",
        "    h2 = a2.exp()/a2.exp().sum(-1).unsqueeze(-1)\n",
        "    return h2\n",
        "\n",
        "\n"
      ],
      "execution_count": 0,
      "outputs": []
    },
    {
      "cell_type": "code",
      "metadata": {
        "id": "EhxzIos7Bw6O",
        "colab_type": "code",
        "colab": {}
      },
      "source": [
        "def fit(lr=1,epochs = 5000):\n",
        "  loss_arr=[]\n",
        "  acc_arr= []\n",
        "  for i in range(epochs):\n",
        "    Y_pred = fn(X_train)\n",
        "    loss = F.cross_entropy(Y_pred,Y_train)\n",
        "    loss_arr.append(loss.item())\n",
        "    acc_arr.append(accuracy(Y_pred,Y_train))\n",
        "    loss.backward()\n",
        "\n",
        "    with torch.no_grad():\n",
        "      #print(fn.parameters())\n",
        "      for param in fn.parameters():\n",
        "        param -= lr * param.grad\n",
        "      fn.zero_grad()\n",
        "\n",
        "  plt.plot(loss_arr)\n",
        "  plt.plot(acc_arr)\n",
        "  plt.show()\n",
        "  print('Loss before training', loss_arr[0])\n",
        "  print('Loss after training', loss_arr[-1])\n",
        "  print('Final accuracy',acc_arr[-1])\n",
        "      \n",
        "\n"
      ],
      "execution_count": 0,
      "outputs": []
    },
    {
      "cell_type": "code",
      "metadata": {
        "id": "tOtdxT_kIbTq",
        "colab_type": "code",
        "colab": {}
      },
      "source": [
        "fn = TwoLayerNN()"
      ],
      "execution_count": 0,
      "outputs": []
    },
    {
      "cell_type": "code",
      "metadata": {
        "id": "qs__eCqHIiJJ",
        "colab_type": "code",
        "outputId": "bfa36915-e3e5-4a1c-c0e6-3b23fbd049ba",
        "colab": {
          "base_uri": "https://localhost:8080/",
          "height": 315
        }
      },
      "source": [
        "fit()"
      ],
      "execution_count": 14,
      "outputs": [
        {
          "output_type": "display_data",
          "data": {
            "image/png": "[encoded data removed]",
            "text/plain": [
              "<Figure size 432x288 with 1 Axes>"
            ]
          },
          "metadata": {
            "tags": []
          }
        },
        {
          "output_type": "stream",
          "text": [
            "Loss before training 1.4111980199813843\n",
            "Loss after training 0.8461545705795288\n",
            "Final accuracy tensor(0.9053)\n"
          ],
          "name": "stdout"
        }
      ]
    },
    {
      "cell_type": "code",
      "metadata": {
        "id": "1neXvDoCIjZW",
        "colab_type": "code",
        "colab": {}
      },
      "source": [
        ""
      ],
      "execution_count": 0,
      "outputs": []
    },
    {
      "cell_type": "markdown",
      "metadata": {
        "id": "RKi6MIwGx2Xl",
        "colab_type": "text"
      },
      "source": [
        "<h3> Using nn.Linear </h3>"
      ]
    },
    {
      "cell_type": "code",
      "metadata": {
        "id": "IUoQ20iAgPB8",
        "colab_type": "code",
        "colab": {}
      },
      "source": [
        "class TwoLayerNN_v2(nn.Module):\n",
        "  def __init__(self):\n",
        "    super().__init__()\n",
        "    torch.manual_seed(0)\n",
        "    self.lin1 = nn.Linear(2,2)\n",
        "    self.lin2 = nn.Linear(2,4)\n",
        "\n",
        "  def forward(self,X):\n",
        "    a1 = self.lin1(X)\n",
        "    h1 = a1.sigmoid()\n",
        "    a2 = self.lin2(h1)\n",
        "    h2 = a2.exp()/a2.exp().sum(-1).unsqueeze(-1)\n",
        "    return h2\n",
        "  "
      ],
      "execution_count": 0,
      "outputs": []
    },
    {
      "cell_type": "code",
      "metadata": {
        "id": "kvsNDH5OhKe_",
        "colab_type": "code",
        "colab": {}
      },
      "source": [
        "fn = TwoLayerNN_v2()"
      ],
      "execution_count": 0,
      "outputs": []
    },
    {
      "cell_type": "code",
      "metadata": {
        "id": "FrwTrYcAheVa",
        "colab_type": "code",
        "colab": {
          "base_uri": "https://localhost:8080/",
          "height": 315
        },
        "outputId": "16d71578-fdde-4e9c-a612-c8e19f067286"
      },
      "source": [
        "fit()"
      ],
      "execution_count": 17,
      "outputs": [
        {
          "output_type": "display_data",
          "data": {
            "image/png": "[encoded data removed]",
            "text/plain": [
              "<Figure size 432x288 with 1 Axes>"
            ]
          },
          "metadata": {
            "tags": []
          }
        },
        {
          "output_type": "stream",
          "text": [
            "Loss before training 1.395160436630249\n",
            "Loss after training 0.8406463861465454\n",
            "Final accuracy tensor(0.9160)\n"
          ],
          "name": "stdout"
        }
      ]
    },
    {
      "cell_type": "code",
      "metadata": {
        "id": "M1YMgEc4hg97",
        "colab_type": "code",
        "colab": {}
      },
      "source": [
        ""
      ],
      "execution_count": 0,
      "outputs": []
    },
    {
      "cell_type": "code",
      "metadata": {
        "id": "I5ASh7BCy2wk",
        "colab_type": "code",
        "colab": {}
      },
      "source": [
        ""
      ],
      "execution_count": 0,
      "outputs": []
    },
    {
      "cell_type": "markdown",
      "metadata": {
        "id": "cFuezWKJx9Ck",
        "colab_type": "text"
      },
      "source": [
        "<h3> Using nn.Sequential </h3>"
      ]
    },
    {
      "cell_type": "code",
      "metadata": {
        "id": "nfwZ3toUho5R",
        "colab_type": "code",
        "colab": {}
      },
      "source": [
        "class TwoLayerNN_v3(nn.Module):\n",
        "  def __init__(self):\n",
        "    super().__init__()\n",
        "    torch.manual_seed(0)\n",
        "    self.net = nn.Sequential(\n",
        "        nn.Linear(2,2),\n",
        "        nn.Sigmoid(),\n",
        "        nn.Linear(2,4),\n",
        "        nn.Softmax()\n",
        "\n",
        "    )\n",
        "\n",
        "  def forward(self,X):\n",
        "    return self.net(X)"
      ],
      "execution_count": 0,
      "outputs": []
    },
    {
      "cell_type": "code",
      "metadata": {
        "id": "Pb7cnC0chowf",
        "colab_type": "code",
        "colab": {}
      },
      "source": [
        "fn = TwoLayerNN_v3()"
      ],
      "execution_count": 0,
      "outputs": []
    },
    {
      "cell_type": "code",
      "metadata": {
        "id": "dWbwbc9IiWef",
        "colab_type": "code",
        "colab": {
          "base_uri": "https://localhost:8080/",
          "height": 369
        },
        "outputId": "b54ec8e9-fe77-44df-c330-f7c090f89f66"
      },
      "source": [
        "fit()"
      ],
      "execution_count": 20,
      "outputs": [
        {
          "output_type": "stream",
          "text": [
            "/usr/local/lib/python3.6/dist-packages/torch/nn/modules/container.py:92: UserWarning: Implicit dimension choice for softmax has been deprecated. Change the call to include dim=X as an argument.\n",
            "  input = module(input)\n"
          ],
          "name": "stderr"
        },
        {
          "output_type": "display_data",
          "data": {
            "image/png": "[encoded data removed]",
            "text/plain": [
              "<Figure size 432x288 with 1 Axes>"
            ]
          },
          "metadata": {
            "tags": []
          }
        },
        {
          "output_type": "stream",
          "text": [
            "Loss before training 1.395160436630249\n",
            "Loss after training 0.8406463861465454\n",
            "Final accuracy tensor(0.9160)\n"
          ],
          "name": "stdout"
        }
      ]
    },
    {
      "cell_type": "code",
      "metadata": {
        "id": "igVps25SiXes",
        "colab_type": "code",
        "colab": {}
      },
      "source": [
        ""
      ],
      "execution_count": 0,
      "outputs": []
    },
    {
      "cell_type": "markdown",
      "metadata": {
        "id": "JoB3rb-Jzf9k",
        "colab_type": "text"
      },
      "source": [
        "<h3> Using nn.funtional </h3>"
      ]
    },
    {
      "cell_type": "code",
      "metadata": {
        "id": "7qkAk6zxzlV-",
        "colab_type": "code",
        "colab": {}
      },
      "source": [
        "class TwoLayerNN_v4(nn.Module):\n",
        "  def __init__(self):\n",
        "    super().__init__()\n",
        "    torch.manual_seed(0)\n",
        "    self.lin1 = nn.Linear(2,2)\n",
        "    self.lin2 = nn.Linear(2,4)\n",
        "\n",
        "  def forward(self,X):\n",
        "    h1 = F.sigmoid(self.lin1(X))\n",
        "    h2 = F.softmax(self.lin2(h1))\n",
        "    return h2\n",
        "  "
      ],
      "execution_count": 0,
      "outputs": []
    },
    {
      "cell_type": "code",
      "metadata": {
        "id": "HgCimRvLj2Ab",
        "colab_type": "code",
        "colab": {}
      },
      "source": [
        "import time"
      ],
      "execution_count": 0,
      "outputs": []
    },
    {
      "cell_type": "markdown",
      "metadata": {
        "id": "lipHBgHFzeoW",
        "colab_type": "text"
      },
      "source": [
        "<h3> Running on GPU </h3>"
      ]
    },
    {
      "cell_type": "code",
      "metadata": {
        "id": "dojDAvE2i1AR",
        "colab_type": "code",
        "colab": {
          "base_uri": "https://localhost:8080/",
          "height": 436
        },
        "outputId": "7a23ccc2-232e-49cc-9479-1f9d4977741d"
      },
      "source": [
        "device = torch.device(\"cuda:0\")\n",
        "\n",
        "X_train=X_train.to(device)\n",
        "Y_train=Y_train.to(device)\n",
        "fn = TwoLayerNN_v4()\n",
        "fn.to(device)\n",
        "tic = time.time()\n",
        "print('Final loss', fit())\n",
        "toc = time.time()\n",
        "print('Time taken', toc - tic)"
      ],
      "execution_count": 23,
      "outputs": [
        {
          "output_type": "stream",
          "text": [
            "/usr/local/lib/python3.6/dist-packages/torch/nn/functional.py:1351: UserWarning: nn.functional.sigmoid is deprecated. Use torch.sigmoid instead.\n",
            "  warnings.warn(\"nn.functional.sigmoid is deprecated. Use torch.sigmoid instead.\")\n",
            "/usr/local/lib/python3.6/dist-packages/ipykernel_launcher.py:10: UserWarning: Implicit dimension choice for softmax has been deprecated. Change the call to include dim=X as an argument.\n",
            "  # Remove the CWD from sys.path while we load stuff.\n"
          ],
          "name": "stderr"
        },
        {
          "output_type": "display_data",
          "data": {
            "image/png": "[encoded data removed]",
            "text/plain": [
              "<Figure size 432x288 with 1 Axes>"
            ]
          },
          "metadata": {
            "tags": []
          }
        },
        {
          "output_type": "stream",
          "text": [
            "Loss before training 1.3951594829559326\n",
            "Loss after training 0.8406463265419006\n",
            "Final accuracy tensor(0.9160, device='cuda:0')\n",
            "Final loss None\n",
            "Time taken 7.975470304489136\n"
          ],
          "name": "stdout"
        }
      ]
    },
    {
      "cell_type": "code",
      "metadata": {
        "id": "Qi-fRP6di65x",
        "colab_type": "code",
        "colab": {}
      },
      "source": [
        ""
      ],
      "execution_count": 0,
      "outputs": []
    }
  ]
}